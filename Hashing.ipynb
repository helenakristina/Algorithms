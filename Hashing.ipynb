{
 "cells": [
  {
   "cell_type": "markdown",
   "id": "95e1ba9d-1ddc-4347-bb14-5c3aa62d966b",
   "metadata": {},
   "source": [
    "# Check if the Sentence Is Pangram\n",
    "\n",
    "A pangram is a sentence where every letter of the English alphabet appears at least once.\n",
    "\n",
    "Given a string sentence containing only lowercase English letters, return true if sentence is a pangram, or false otherwise.\n",
    "\n",
    " \n",
    "\n",
    "Example 1:\n",
    "\n",
    "Input: sentence = \"thequickbrownfoxjumpsoverthelazydog\"\n",
    "Output: true\n",
    "Explanation: sentence contains at least one of every letter of the English alphabet.\n",
    "\n",
    "Example 2:\n",
    "\n",
    "Input: sentence = \"leetcode\"\n",
    "Output: false\n",
    "\n",
    "\n",
    "\n",
    "Constraints:\n",
    "\n",
    "    1 <= sentence.length <= 1000\n",
    "    sentence consists of lowercase English letters.\n",
    "\n"
   ]
  },
  {
   "cell_type": "code",
   "execution_count": 4,
   "id": "0bc5195f-d8f4-46b0-ab06-b27b8c4bf2c3",
   "metadata": {},
   "outputs": [],
   "source": [
    "class Solution:\n",
    "    def checkIfPangram(self, sentence: str) -> bool:\n",
    "        result = set(sentence)\n",
    "        return len(result) == 26"
   ]
  },
  {
   "cell_type": "code",
   "execution_count": 5,
   "id": "f44e5750-6a1b-4ab0-8610-e71cee3efc18",
   "metadata": {},
   "outputs": [
    {
     "data": {
      "text/plain": [
       "True"
      ]
     },
     "execution_count": 5,
     "metadata": {},
     "output_type": "execute_result"
    }
   ],
   "source": [
    "sentence = \"thequickbrownfoxjumpsoverthelazydog\"\n",
    "Solution().checkIfPangram(sentence)"
   ]
  },
  {
   "cell_type": "code",
   "execution_count": 6,
   "id": "86fcb84b-b53b-4694-a577-ea3415769f40",
   "metadata": {},
   "outputs": [
    {
     "data": {
      "text/plain": [
       "False"
      ]
     },
     "execution_count": 6,
     "metadata": {},
     "output_type": "execute_result"
    }
   ],
   "source": [
    "sentence = \"leetcode\"\n",
    "Solution().checkIfPangram(sentence)"
   ]
  },
  {
   "cell_type": "markdown",
   "id": "863ee2a6-0630-47b9-8f5c-4241b389876e",
   "metadata": {},
   "source": [
    "# Missing Number\n",
    "Given an array nums containing n distinct numbers in the range [0, n], return the only number in the range that is missing from the array.\n",
    "\n",
    " \n",
    "\n",
    "Example 1:\n",
    "\n",
    "Input: nums = [3,0,1]\n",
    "Output: 2\n",
    "Explanation: n = 3 since there are 3 numbers, so all numbers are in the range [0,3]. 2 is the missing number in the range since it does not appear in nums.\n",
    "\n",
    "Example 2:\n",
    "\n",
    "Input: nums = [0,1]\n",
    "Output: 2\n",
    "Explanation: n = 2 since there are 2 numbers, so all numbers are in the range [0,2]. 2 is the missing number in the range since it does not appear in nums.\n",
    "\n",
    "Example 3:\n",
    "\n",
    "Input: nums = [9,6,4,2,3,5,7,0,1]\n",
    "Output: 8\n",
    "Explanation: n = 9 since there are 9 numbers, so all numbers are in the range [0,9]. 8 is the missing number in the range since it does not appear in nums.\n",
    "\n",
    " \n",
    "\n",
    "Constraints:\n",
    "\n",
    "    n == nums.length\n",
    "    1 <= n <= 104\n",
    "    0 <= nums[i] <= n\n",
    "    All the numbers of nums are unique.\n"
   ]
  },
  {
   "cell_type": "code",
   "execution_count": 8,
   "id": "76d078e7-e91b-499a-857d-712c0adae29f",
   "metadata": {},
   "outputs": [],
   "source": [
    "class Solution:\n",
    "    def missingNumber(self, nums: list[int]) -> int:\n",
    "        seen = set(nums)\n",
    "        for i in range(len(nums) + 1):\n",
    "            if i not in seen:\n",
    "                return i"
   ]
  },
  {
   "cell_type": "code",
   "execution_count": 9,
   "id": "b741eb25-d9ce-4bca-b856-aeb6a174f897",
   "metadata": {},
   "outputs": [
    {
     "data": {
      "text/plain": [
       "2"
      ]
     },
     "execution_count": 9,
     "metadata": {},
     "output_type": "execute_result"
    }
   ],
   "source": [
    "nums = [3,0,1] \n",
    "Solution().missingNumber(nums)"
   ]
  },
  {
   "cell_type": "code",
   "execution_count": 10,
   "id": "5613e3a8-052e-4bad-bee5-c0ed80f801dd",
   "metadata": {},
   "outputs": [
    {
     "data": {
      "text/plain": [
       "2"
      ]
     },
     "execution_count": 10,
     "metadata": {},
     "output_type": "execute_result"
    }
   ],
   "source": [
    "nums = [0,1]\n",
    "Solution().missingNumber(nums)"
   ]
  },
  {
   "cell_type": "code",
   "execution_count": 12,
   "id": "4b4dde98-043d-4169-8e7f-1ae3d9893401",
   "metadata": {},
   "outputs": [
    {
     "data": {
      "text/plain": [
       "8"
      ]
     },
     "execution_count": 12,
     "metadata": {},
     "output_type": "execute_result"
    }
   ],
   "source": [
    "nums = [9,6,4,2,3,5,7,0,1]\n",
    "Solution().missingNumber(nums)"
   ]
  },
  {
   "cell_type": "markdown",
   "id": "1db3182a-243c-415e-a94e-8da3d72abccb",
   "metadata": {},
   "source": [
    "# Counting elements\n",
    "Given an integer array arr, count how many elements x there are, such that x + 1 is also in arr. If there are duplicates in arr, count them separately.\n",
    "\n",
    " \n",
    "\n",
    "Example 1:\n",
    "\n",
    "Input: arr = [1,2,3]\n",
    "Output: 2\n",
    "Explanation: 1 and 2 are counted cause 2 and 3 are in arr.\n",
    "\n",
    "Example 2:\n",
    "\n",
    "Input: arr = [1,1,3,3,5,5,7,7]\n",
    "Output: 0\n",
    "Explanation: No numbers are counted, cause there is no 2, 4, 6, or 8 in arr.\n",
    "\n",
    " \n",
    "\n",
    "Constraints:\n",
    "\n",
    "    1 <= arr.length <= 1000\n",
    "    0 <= arr[i] <= 1000\n",
    "\n"
   ]
  },
  {
   "cell_type": "code",
   "execution_count": 14,
   "id": "97a30a53-3d21-4711-9fbc-fb9398428403",
   "metadata": {},
   "outputs": [],
   "source": [
    "class Solution:\n",
    "    def countElements(self, arr: list[int]) -> int:\n",
    "        seen = set(arr)\n",
    "        count = 0\n",
    "        for num in arr:\n",
    "            if num + 1 in seen:\n",
    "                count += 1\n",
    "        return count"
   ]
  },
  {
   "cell_type": "code",
   "execution_count": 15,
   "id": "b3e38383-6077-4c25-b2b6-625585752306",
   "metadata": {},
   "outputs": [
    {
     "data": {
      "text/plain": [
       "2"
      ]
     },
     "execution_count": 15,
     "metadata": {},
     "output_type": "execute_result"
    }
   ],
   "source": [
    "arr = [1,2,3]\n",
    "Solution().countElements(arr)"
   ]
  },
  {
   "cell_type": "code",
   "execution_count": 16,
   "id": "fa98f8f1-af6f-442a-9bb7-b10c8d631c7e",
   "metadata": {},
   "outputs": [
    {
     "data": {
      "text/plain": [
       "0"
      ]
     },
     "execution_count": 16,
     "metadata": {},
     "output_type": "execute_result"
    }
   ],
   "source": [
    "arr = [1,1,3,3,5,5,7,7] \n",
    "Solution().countElements(arr)"
   ]
  },
  {
   "cell_type": "markdown",
   "id": "e5064ef0-f2c4-436e-bb22-f9b89949a5be",
   "metadata": {},
   "source": [
    "# Example 4: 560. Subarray Sum Equals K\n",
    "\n",
    "Given an integer array nums and an integer k, find the number of subarrays whose sum is equal to k.\n"
   ]
  },
  {
   "cell_type": "code",
   "execution_count": 17,
   "id": "b011051b-5a76-4524-b408-491ea96a85d5",
   "metadata": {},
   "outputs": [],
   "source": [
    "from collections import defaultdict\n",
    "\n",
    "class Solution:\n",
    "    def subarraySum(self, nums: list[int], k: int) -> int:\n",
    "        counts = defaultdict(int)\n",
    "        counts[0] = 1\n",
    "        ans = curr = 0\n",
    "\n",
    "        for num in nums:\n",
    "            curr += num\n",
    "            ans += counts[curr - k]\n",
    "            counts[curr] += 1\n",
    "    \n",
    "        return ans"
   ]
  },
  {
   "cell_type": "markdown",
   "id": "777cb65b-67db-4746-bb1c-e7cd124e8398",
   "metadata": {},
   "source": [
    "# Example 5: 1248. Count Number of Nice Subarrays\n",
    "\n",
    "Given an array of positive integers nums and an integer k. Find the number of subarrays with exactly k odd numbers in them.\n",
    "\n",
    "For example, given nums = [1, 1, 2, 1, 1], k = 3, the answer is 2. The subarrays with 3 odd numbers in them are [1, 1, 2, 1, 1] and [1, 1, 2, 1, 1].\n"
   ]
  },
  {
   "cell_type": "code",
   "execution_count": 18,
   "id": "3b29ede8-7b53-455c-b555-c79d809eaa1c",
   "metadata": {},
   "outputs": [],
   "source": [
    "from collections import defaultdict\n",
    "\n",
    "class Solution:\n",
    "    def numberOfSubarrays(self, nums: list[int], k: int) -> int:\n",
    "        counts = defaultdict(int)\n",
    "        counts[0] = 1\n",
    "        ans = curr = 0\n",
    "        \n",
    "        for num in nums:\n",
    "            curr += num % 2\n",
    "            ans += counts[curr - k]\n",
    "            counts[curr] += 1\n",
    "\n",
    "        return ans"
   ]
  },
  {
   "cell_type": "markdown",
   "id": "ae0d937a-bf59-4306-a99b-6c35f854c7ec",
   "metadata": {},
   "source": [
    "# Find Players With Zero or One Losses\n",
    "You are given an integer array matches where matches[i] = [winneri, loseri] indicates that the player winneri defeated player loseri in a match.\n",
    "\n",
    "Return a list answer of size 2 where:\n",
    "\n",
    "    answer[0] is a list of all players that have not lost any matches.\n",
    "    answer[1] is a list of all players that have lost exactly one match.\n",
    "\n",
    "The values in the two lists should be returned in increasing order.\n",
    "\n",
    "Note:\n",
    "\n",
    "    You should only consider the players that have played at least one match.\n",
    "    The testcases will be generated such that no two matches will have the same outcome.\n",
    "\n",
    " \n",
    "\n",
    "Example 1:\n",
    "\n",
    "Input: matches = [[1,3],[2,3],[3,6],[5,6],[5,7],[4,5],[4,8],[4,9],[10,4],[10,9]]\n",
    "Output: [[1,2,10],[4,5,7,8]]\n",
    "Explanation:\n",
    "Players 1, 2, and 10 have not lost any matches.\n",
    "Players 4, 5, 7, and 8 each have lost one match.\n",
    "Players 3, 6, and 9 each have lost two matches.\n",
    "Thus, answer[0] = [1,2,10] and answer[1] = [4,5,7,8].\n",
    "\n",
    "Example 2:\n",
    "\n",
    "Input: matches = [[2,3],[1,3],[5,4],[6,4]]\n",
    "Output: [[1,2,5,6],[]]\n",
    "Explanation:\n",
    "Players 1, 2, 5, and 6 have not lost any matches.\n",
    "Players 3 and 4 each have lost two matches.\n",
    "Thus, answer[0] = [1,2,5,6] and answer[1] = [].\n",
    "\n",
    " \n",
    "\n",
    "Constraints:\n",
    "\n",
    "    1 <= matches.length <= 105\n",
    "    matches[i].length == 2\n",
    "    1 <= winneri, loseri <= 105\n",
    "    winneri != loseri\n",
    "    All matches[i] are unique.\n",
    "\n"
   ]
  },
  {
   "cell_type": "code",
   "execution_count": 21,
   "id": "884d74e7-42cb-4580-9167-1fa74a13c077",
   "metadata": {},
   "outputs": [],
   "source": [
    "class Solution:\n",
    "    def findWinners(self, matches: list[list[int]]) -> list[list[int]]:\n",
    "        lost_matches = {}\n",
    "        seen = set()\n",
    "        for x, y in matches:\n",
    "            seen.add(x)\n",
    "            seen.add(y)\n",
    "            lost_matches[y] = lost_matches.get(y, 0) + 1\n",
    "        \n",
    "        lose_zero, lose_one = [], []\n",
    "        for player in seen:\n",
    "            count = lost_matches.get(player, 0)\n",
    "            if count == 0:\n",
    "                lose_zero.append(player)\n",
    "            elif count == 1:\n",
    "                lose_one.append(player)\n",
    "            \n",
    "        return [sorted(lose_zero), sorted(lose_one)]"
   ]
  },
  {
   "cell_type": "markdown",
   "id": "8a0a78d6-b747-467c-a2fd-d17c8318ff22",
   "metadata": {},
   "source": [
    "# Largest Unique Number\n",
    "\n",
    "Given an integer array nums, return the largest integer that only occurs once. If no integer occurs once, return -1.\n",
    "\n",
    " \n",
    "\n",
    "Example 1:\n",
    "\n",
    "Input: nums = [5,7,3,9,4,9,8,3,1]\n",
    "Output: 8\n",
    "Explanation: The maximum integer in the array is 9 but it is repeated. The number 8 occurs only once, so it is the answer.\n",
    "\n",
    "Example 2:\n",
    "\n",
    "Input: nums = [9,9,8,8]\n",
    "Output: -1\n",
    "Explanation: There is no number that occurs only once.\n",
    "\n",
    " \n",
    "\n",
    "Constraints:\n",
    "\n",
    "    1 <= nums.length <= 2000\n",
    "    0 <= nums[i] <= 1000\n",
    "\n"
   ]
  },
  {
   "cell_type": "code",
   "execution_count": 22,
   "id": "d88189ea-112b-4221-93a2-93965f9e41ec",
   "metadata": {},
   "outputs": [],
   "source": [
    "from collections import defaultdict\n",
    "\n",
    "class Solution:\n",
    "    def largestUniqueNumber(self, nums: list[int]) -> int:\n",
    "        counts = defaultdict(int)\n",
    "        for n in nums:\n",
    "            counts[n] += 1\n",
    "        \n",
    "        answer = -1\n",
    "        for k, v in counts.items():\n",
    "            if v == 1:\n",
    "                answer = max(answer, k)\n",
    "        \n",
    "        return answer"
   ]
  },
  {
   "cell_type": "markdown",
   "id": "5e37f56f-f68b-4b80-adb7-82b305f2afda",
   "metadata": {},
   "source": [
    "# Maximum Number of Balloons\n",
    "\n",
    "Given a string text, you want to use the characters of text to form as many instances of the word \"balloon\" as possible.\n",
    "\n",
    "You can use each character in text at most once. Return the maximum number of instances that can be formed.\n",
    "\n",
    " \n",
    "\n",
    "Example 1:\n",
    "\n",
    "Input: text = \"nlaebolko\"\n",
    "Output: 1\n",
    "\n",
    "Example 2:\n",
    "\n",
    "Input: text = \"loonbalxballpoon\"\n",
    "Output: 2\n",
    "\n",
    "Example 3:\n",
    "\n",
    "Input: text = \"leetcode\"\n",
    "Output: 0\n",
    "\n",
    " \n",
    "\n",
    "Constraints:\n",
    "\n",
    "    1 <= text.length <= 104\n",
    "    text consists of lower case English letters only.\n",
    "\n"
   ]
  },
  {
   "cell_type": "code",
   "execution_count": 23,
   "id": "f54f1947-3db5-4c65-860c-658e1c3e0c4f",
   "metadata": {},
   "outputs": [],
   "source": [
    "from collections import defaultdict\n",
    "\n",
    "class Solution:\n",
    "    def maxNumberOfBalloons(self, text: str) -> int:\n",
    "        frequencies = defaultdict(int)\n",
    "        for c in text:\n",
    "            frequencies[c] += 1\n",
    "        \n",
    "        balloon_frequencies = {\"b\": 1, \"a\": 1, \"l\": 2, \"o\": 2, \"n\": 1}\n",
    "        answer = 0\n",
    "        while True:\n",
    "            for k, v in balloon_frequencies.items():\n",
    "                frequencies[k] -= v\n",
    "                if frequencies[k] < 0:\n",
    "                    return answer\n",
    "            answer += 1\n",
    "        return answer"
   ]
  },
  {
   "cell_type": "markdown",
   "id": "1353b435-5c73-42ae-a2e9-572d8f1efe70",
   "metadata": {},
   "source": [
    "# Ransom Note\n",
    "\n",
    "Given two strings ransomNote and magazine, return true if ransomNote can be constructed by using the letters from magazine and false otherwise.\n",
    "\n",
    "Each letter in magazine can only be used once in ransomNote.\n",
    "\n",
    " \n",
    "\n",
    "Example 1:\n",
    "\n",
    "Input: ransomNote = \"a\", magazine = \"b\"\n",
    "Output: false\n",
    "\n",
    "Example 2:\n",
    "\n",
    "Input: ransomNote = \"aa\", magazine = \"ab\"\n",
    "Output: false\n",
    "\n",
    "Example 3:\n",
    "\n",
    "Input: ransomNote = \"aa\", magazine = \"aab\"\n",
    "Output: true\n",
    "\n",
    "Constraints:\n",
    "\n",
    "    1 <= ransomNote.length, magazine.length <= 105\n",
    "    ransomNote and magazine consist of lowercase English letters.\n",
    "\n"
   ]
  },
  {
   "cell_type": "code",
   "execution_count": 24,
   "id": "d345515f-d396-49b3-80ca-0251e2aed86c",
   "metadata": {},
   "outputs": [],
   "source": [
    "from collections import defaultdict\n",
    "\n",
    "class Solution:\n",
    "    def canConstruct(self, ransomNote: str, magazine: str) -> bool:\n",
    "        frequencies = defaultdict(int)\n",
    "        for letter in magazine:\n",
    "            frequencies[letter] += 1\n",
    "            \n",
    "        for letter in ransomNote:\n",
    "            frequencies[letter] -= 1\n",
    "            if frequencies[letter] < 0:\n",
    "                return False\n",
    "        \n",
    "        return True"
   ]
  },
  {
   "cell_type": "code",
   "execution_count": 25,
   "id": "7ccb6844-e530-4ce8-9865-4068c9bd0d01",
   "metadata": {},
   "outputs": [
    {
     "data": {
      "text/plain": [
       "False"
      ]
     },
     "execution_count": 25,
     "metadata": {},
     "output_type": "execute_result"
    }
   ],
   "source": [
    "ransomNote = \"a\"\n",
    "magazine = \"b\"\n",
    "Solution().canConstruct(ransomNote, magazine)"
   ]
  },
  {
   "cell_type": "code",
   "execution_count": 26,
   "id": "a7cc43a7-8d16-4619-9d4e-bb5c6106b5dc",
   "metadata": {},
   "outputs": [
    {
     "data": {
      "text/plain": [
       "False"
      ]
     },
     "execution_count": 26,
     "metadata": {},
     "output_type": "execute_result"
    }
   ],
   "source": [
    "ransomNote = \"aa\"\n",
    "magazine = \"ab\"\n",
    "Solution().canConstruct(ransomNote, magazine)"
   ]
  },
  {
   "cell_type": "code",
   "execution_count": 27,
   "id": "3e6fb332-15b5-43c7-baf0-50f35db972a6",
   "metadata": {},
   "outputs": [
    {
     "data": {
      "text/plain": [
       "True"
      ]
     },
     "execution_count": 27,
     "metadata": {},
     "output_type": "execute_result"
    }
   ],
   "source": [
    "ransomNote = \"aa\"\n",
    "magazine = \"aab\"\n",
    "Solution().canConstruct(ransomNote, magazine)"
   ]
  },
  {
   "cell_type": "markdown",
   "id": "318ead63-3fbe-4ee0-92f0-88618f2cea5c",
   "metadata": {},
   "source": [
    "# Jewels and Stones\n",
    "\n",
    "You're given strings jewels representing the types of stones that are jewels, and stones representing the stones you have. Each character in stones is a type of stone you have. You want to know how many of the stones you have are also jewels.\n",
    "\n",
    "Letters are case sensitive, so \"a\" is considered a different type of stone from \"A\".\n",
    "\n",
    " \n",
    "\n",
    "Example 1:\n",
    "\n",
    "Input: jewels = \"aA\", stones = \"aAAbbbb\"\n",
    "Output: 3\n",
    "\n",
    "Example 2:\n",
    "\n",
    "Input: jewels = \"z\", stones = \"ZZ\"\n",
    "Output: 0\n",
    "\n",
    " \n",
    "\n",
    "Constraints:\n",
    "\n",
    "    1 <= jewels.length, stones.length <= 50\n",
    "    jewels and stones consist of only English letters.\n",
    "    All the characters of jewels are unique.\n",
    "\n"
   ]
  },
  {
   "cell_type": "code",
   "execution_count": 29,
   "id": "4b0b8577-d218-40c9-b550-1784abdffbc7",
   "metadata": {},
   "outputs": [],
   "source": [
    "class Solution:\n",
    "    def numJewelsInStones(self, jewels: str, stones: str) -> int:\n",
    "        jewel_set = set(jewels)\n",
    "        answer = 0\n",
    "        for stone in stones:\n",
    "            if stone in jewel_set:\n",
    "                answer += 1\n",
    "        return answer"
   ]
  },
  {
   "cell_type": "code",
   "execution_count": 30,
   "id": "6c6e81cc-85bd-4444-a84c-e09a5a8c641d",
   "metadata": {},
   "outputs": [
    {
     "data": {
      "text/plain": [
       "3"
      ]
     },
     "execution_count": 30,
     "metadata": {},
     "output_type": "execute_result"
    }
   ],
   "source": [
    "jewels = \"aA\"\n",
    "stones = \"aAAbbbb\"\n",
    "Solution().numJewelsInStones(jewels, stones)"
   ]
  },
  {
   "cell_type": "code",
   "execution_count": 31,
   "id": "313cc635-b214-4089-a1a3-4eb88cfec951",
   "metadata": {},
   "outputs": [
    {
     "data": {
      "text/plain": [
       "0"
      ]
     },
     "execution_count": 31,
     "metadata": {},
     "output_type": "execute_result"
    }
   ],
   "source": [
    "jewels = \"z\"\n",
    "stones = \"ZZ\"\n",
    "Solution().numJewelsInStones(jewels, stones)"
   ]
  },
  {
   "cell_type": "markdown",
   "id": "d70281c9-632f-48d7-b98d-31d272a1a011",
   "metadata": {},
   "source": [
    "# Longest Substring Without Repeating Characters\n",
    "\n",
    "Given a string s, find the length of the longest substring without repeating characters.\n",
    "\n",
    " \n",
    "\n",
    "Example 1:\n",
    "\n",
    "Input: s = \"abcabcbb\"\n",
    "Output: 3\n",
    "Explanation: The answer is \"abc\", with the length of 3.\n",
    "\n",
    "Example 2:\n",
    "\n",
    "Input: s = \"bbbbb\"\n",
    "Output: 1\n",
    "Explanation: The answer is \"b\", with the length of 1.\n",
    "\n",
    "Example 3:\n",
    "\n",
    "Input: s = \"pwwkew\"\n",
    "Output: 3\n",
    "Explanation: The answer is \"wke\", with the length of 3.\n",
    "Notice that the answer must be a substring, \"pwke\" is a subsequence and not a substring.\n",
    "\n",
    " \n",
    "\n",
    "Constraints:\n",
    "\n",
    "    0 <= s.length <= 5 * 104\n",
    "    s consists of English letters, digits, symbols and spaces.\n",
    "\n"
   ]
  },
  {
   "cell_type": "code",
   "execution_count": 32,
   "id": "e837e70a-923e-4138-a26a-ab41c009506f",
   "metadata": {},
   "outputs": [],
   "source": [
    "from collections import defaultdict\n",
    "\n",
    "class Solution:\n",
    "    def lengthOfLongestSubstring(self, s: str) -> int:\n",
    "        left = answer = 0\n",
    "        frequencies = defaultdict(int)\n",
    "\n",
    "        for right in range(len(s)):\n",
    "            frequencies[s[right]] += 1\n",
    "            while frequencies[s[right]] > 1:\n",
    "                frequencies[s[left]] -= 1\n",
    "                left += 1\n",
    "            answer = max(answer, right - left + 1)\n",
    "        \n",
    "        return answer"
   ]
  },
  {
   "cell_type": "code",
   "execution_count": 33,
   "id": "c1d25a47-c1cc-4571-a8b0-8de412a7917b",
   "metadata": {},
   "outputs": [
    {
     "data": {
      "text/plain": [
       "3"
      ]
     },
     "execution_count": 33,
     "metadata": {},
     "output_type": "execute_result"
    }
   ],
   "source": [
    "s = \"abcabcbb\"\n",
    "Solution().lengthOfLongestSubstring(s)"
   ]
  },
  {
   "cell_type": "code",
   "execution_count": 34,
   "id": "d562c446-2e96-443e-9f9e-f64af64ac2f8",
   "metadata": {},
   "outputs": [
    {
     "data": {
      "text/plain": [
       "1"
      ]
     },
     "execution_count": 34,
     "metadata": {},
     "output_type": "execute_result"
    }
   ],
   "source": [
    "s = \"bbbbb\"\n",
    "Solution().lengthOfLongestSubstring(s)"
   ]
  },
  {
   "cell_type": "code",
   "execution_count": 35,
   "id": "ec341f63-1624-4ea8-bdc1-3e377ca105fc",
   "metadata": {},
   "outputs": [
    {
     "data": {
      "text/plain": [
       "3"
      ]
     },
     "execution_count": 35,
     "metadata": {},
     "output_type": "execute_result"
    }
   ],
   "source": [
    "s = \"pwwkew\"\n",
    "Solution().lengthOfLongestSubstring(s)"
   ]
  },
  {
   "cell_type": "markdown",
   "id": "100342b7-084b-4f4f-ad63-64ab42ce26ee",
   "metadata": {},
   "source": [
    "# Given an integer array nums, return true if any value appears at least twice in the array, and return false if every element is distinct.\n",
    "\n",
    " \n",
    "\n",
    "Example 1:\n",
    "\n",
    "Input: nums = [1,2,3,1]\n",
    "Output: true\n",
    "\n",
    "Example 2:\n",
    "\n",
    "Input: nums = [1,2,3,4]\n",
    "Output: false\n",
    "\n",
    "Example 3:\n",
    "\n",
    "Input: nums = [1,1,1,3,3,4,3,2,4,2]\n",
    "Output: true\n",
    "\n",
    " \n",
    "\n",
    "Constraints:\n",
    "\n",
    "    1 <= nums.length <= 105\n",
    "    -109 <= nums[i] <= 109\n",
    "\n"
   ]
  },
  {
   "cell_type": "code",
   "execution_count": 36,
   "id": "6943b123-5b8e-4446-9555-edaccfeb6b93",
   "metadata": {},
   "outputs": [],
   "source": [
    "from collections import defaultdict\n",
    "\n",
    "class Solution:\n",
    "    def containsDuplicate(self, nums: list[int]) -> bool:\n",
    "        frequencies = defaultdict(int)\n",
    "        for n in nums:\n",
    "            frequencies[n] += 1\n",
    "            if frequencies[n] > 1:\n",
    "                return True\n",
    "        return False"
   ]
  },
  {
   "cell_type": "code",
   "execution_count": 37,
   "id": "7a3191ba-b41d-4fc0-8ada-af694b8783d7",
   "metadata": {},
   "outputs": [],
   "source": [
    "# solve with a set\n",
    "class Solution:\n",
    "    def containsDuplicate(self, nums: list[int]) -> bool:\n",
    "        seen = set()\n",
    "        for n in nums:\n",
    "            if n in seen:\n",
    "                return True\n",
    "            seen.add(n)\n",
    "        \n",
    "        return False"
   ]
  },
  {
   "cell_type": "markdown",
   "id": "0d006c88-671f-443d-bfbd-e247406415a2",
   "metadata": {},
   "source": [
    "# 1436. Destination City\n",
    "You are given the array paths, where paths[i] = [cityAi, cityBi] means there exists a direct path going from cityAi to cityBi. Return the destination city, that is, the city without any path outgoing to another city.\n",
    "\n",
    "It is guaranteed that the graph of paths forms a line without any loop, therefore, there will be exactly one destination city.\n",
    "\n",
    " \n",
    "\n",
    "Example 1:\n",
    "\n",
    "Input: paths = [[\"London\",\"New York\"],[\"New York\",\"Lima\"],[\"Lima\",\"Sao Paulo\"]]\n",
    "Output: \"Sao Paulo\" \n",
    "Explanation: Starting at \"London\" city you will reach \"Sao Paulo\" city which is the destination city. Your trip consist of: \"London\" -> \"New York\" -> \"Lima\" -> \"Sao Paulo\".\n",
    "\n",
    "Example 2:\n",
    "\n",
    "Input: paths = [[\"B\",\"C\"],[\"D\",\"B\"],[\"C\",\"A\"]]\n",
    "Output: \"A\"\n",
    "Explanation: All possible trips are: \n",
    "\"D\" -> \"B\" -> \"C\" -> \"A\". \n",
    "\"B\" -> \"C\" -> \"A\". \n",
    "\"C\" -> \"A\". \n",
    "\"A\". \n",
    "Clearly the destination city is \"A\".\n",
    "\n",
    "Example 3:\n",
    "\n",
    "Input: paths = [[\"A\",\"Z\"]]\n",
    "Output: \"Z\"\n",
    "\n",
    " \n",
    "\n",
    "Constraints:\n",
    "\n",
    "    1 <= paths.length <= 100\n",
    "    paths[i].length == 2\n",
    "    1 <= cityAi.length, cityBi.length <= 10\n",
    "    cityAi != cityBi\n",
    "    All strings consist of lowercase and uppercase English letters and the space character.\n",
    "\n"
   ]
  },
  {
   "cell_type": "code",
   "execution_count": 39,
   "id": "aae869ed-12e3-4c6a-b1b5-b302a037e991",
   "metadata": {},
   "outputs": [],
   "source": [
    "class Solution:\n",
    "    def destCity(self, paths: list[list[str]]) -> str:\n",
    "        incoming, outgoing = set(), set()\n",
    "        for x, y in paths:\n",
    "            outgoing.add(x)\n",
    "            incoming.add(y)\n",
    "        for city in incoming:\n",
    "            if city not in outgoing:\n",
    "                return city"
   ]
  },
  {
   "cell_type": "code",
   "execution_count": 40,
   "id": "7e1e7fe5-5dae-4bb0-8f9d-b591822695e7",
   "metadata": {},
   "outputs": [
    {
     "data": {
      "text/plain": [
       "'Sao Paulo'"
      ]
     },
     "execution_count": 40,
     "metadata": {},
     "output_type": "execute_result"
    }
   ],
   "source": [
    "paths = [[\"London\",\"New York\"],[\"New York\",\"Lima\"],[\"Lima\",\"Sao Paulo\"]] \n",
    "Solution().destCity(paths)"
   ]
  },
  {
   "cell_type": "code",
   "execution_count": 41,
   "id": "4b6e5533-fad1-4a62-925a-c3d72be71d15",
   "metadata": {},
   "outputs": [
    {
     "data": {
      "text/plain": [
       "'A'"
      ]
     },
     "execution_count": 41,
     "metadata": {},
     "output_type": "execute_result"
    }
   ],
   "source": [
    "paths = [[\"B\",\"C\"],[\"D\",\"B\"],[\"C\",\"A\"]]\n",
    "Solution().destCity(paths)"
   ]
  },
  {
   "cell_type": "code",
   "execution_count": 42,
   "id": "fb435105-05d3-4eaf-a55b-567005cad2be",
   "metadata": {},
   "outputs": [
    {
     "data": {
      "text/plain": [
       "'Z'"
      ]
     },
     "execution_count": 42,
     "metadata": {},
     "output_type": "execute_result"
    }
   ],
   "source": [
    "paths = [[\"A\",\"Z\"]]\n",
    "Solution().destCity(paths)"
   ]
  },
  {
   "cell_type": "markdown",
   "id": "dbd2c571-0165-40d4-ba75-e7141969e54f",
   "metadata": {},
   "source": [
    "# Given a string path, where path[i] = 'N', 'S', 'E' or 'W', each representing moving one unit north, south, east, or west, respectively. You start at the origin (0, 0) on a 2D plane and walk on the path specified by path.\n",
    "\n",
    "Return true if the path crosses itself at any point, that is, if at any time you are on a location you have previously visited. Return false otherwise.\n",
    "\n",
    " \n",
    "\n",
    "Example 1:\n",
    "\n",
    "Input: path = \"NES\"\n",
    "Output: false \n",
    "Explanation: Notice that the path doesn't cross any point more than once.\n",
    "\n",
    "Example 2:\n",
    "\n",
    "Input: path = \"NESWW\"\n",
    "Output: true\n",
    "Explanation: Notice that the path visits the origin twice.\n",
    "\n",
    " \n",
    "\n",
    "Constraints:\n",
    "\n",
    "    1 <= path.length <= 104\n",
    "    path[i] is either 'N', 'S', 'E', or 'W'.\n",
    "\n"
   ]
  },
  {
   "cell_type": "code",
   "execution_count": 43,
   "id": "b3163669-922f-4dce-903f-23bd05c4bf6a",
   "metadata": {},
   "outputs": [],
   "source": [
    "class Solution:\n",
    "    def isPathCrossing(self, path: str) -> bool:\n",
    "        current_loc = (0,0)\n",
    "        visited = set()\n",
    "        visited.add(current_loc)\n",
    "        for c in path:\n",
    "            if c == \"N\":\n",
    "                current_loc = (current_loc[0], current_loc[1] + 1)\n",
    "            if c == \"S\":\n",
    "                current_loc = (current_loc[0], current_loc[1] - 1)\n",
    "            if c == \"E\":\n",
    "                current_loc = (current_loc[0] + 1, current_loc[1])\n",
    "            if c == \"W\":\n",
    "                current_loc = (current_loc[0] - 1, current_loc[1])\n",
    "            if current_loc in visited:\n",
    "                return True\n",
    "            visited.add(current_loc)\n",
    "\n",
    "        return False"
   ]
  },
  {
   "cell_type": "code",
   "execution_count": 44,
   "id": "e311c734-dbc0-46d8-943a-2634166fca37",
   "metadata": {},
   "outputs": [
    {
     "data": {
      "text/plain": [
       "False"
      ]
     },
     "execution_count": 44,
     "metadata": {},
     "output_type": "execute_result"
    }
   ],
   "source": [
    "path = \"NES\"\n",
    "Solution().isPathCrossing(path)"
   ]
  },
  {
   "cell_type": "code",
   "execution_count": 45,
   "id": "e448913a-fd0e-45e7-9e41-753fe88a6b35",
   "metadata": {},
   "outputs": [
    {
     "data": {
      "text/plain": [
       "True"
      ]
     },
     "execution_count": 45,
     "metadata": {},
     "output_type": "execute_result"
    }
   ],
   "source": [
    "path = \"NESWW\"\n",
    "Solution().isPathCrossing(path)"
   ]
  },
  {
   "cell_type": "markdown",
   "id": "54770ea9-95e1-4659-aa57-4e2c37194246",
   "metadata": {},
   "source": [
    "# 1748 Sum of all unique numbers\n",
    "You are given an integer array nums. The unique elements of an array are the elements that appear exactly once in the array.\n",
    "\n",
    "Return the sum of all the unique elements of nums.\n",
    "\n",
    " \n",
    "\n",
    "Example 1:\n",
    "\n",
    "Input: nums = [1,2,3,2]\n",
    "Output: 4\n",
    "Explanation: The unique elements are [1,3], and the sum is 4.\n",
    "\n",
    "Example 2:\n",
    "\n",
    "Input: nums = [1,1,1,1,1]\n",
    "Output: 0\n",
    "Explanation: There are no unique elements, and the sum is 0.\n",
    "\n",
    "Example 3:\n",
    "\n",
    "Input: nums = [1,2,3,4,5]\n",
    "Output: 15\n",
    "Explanation: The unique elements are [1,2,3,4,5], and the sum is 15.\n",
    "\n",
    " \n",
    "\n",
    "Constraints:\n",
    "\n",
    "    1 <= nums.length <= 100\n",
    "    1 <= nums[i] <= 100\n",
    "\n"
   ]
  },
  {
   "cell_type": "code",
   "execution_count": 47,
   "id": "147f1e91-90ab-407e-86ee-e6330b6f0447",
   "metadata": {},
   "outputs": [],
   "source": [
    "from collections import defaultdict\n",
    "\n",
    "class Solution:\n",
    "    def sumOfUnique(self, nums: list[int]) -> int:\n",
    "        frequencies = defaultdict(int)\n",
    "        for n in nums:\n",
    "            frequencies[n] += 1\n",
    "        answer = 0\n",
    "        for k, v in frequencies.items():\n",
    "            if v == 1:\n",
    "                answer += k\n",
    "        return answer     "
   ]
  },
  {
   "cell_type": "code",
   "execution_count": 48,
   "id": "c79fec61-24d9-4dee-9a6d-9920fff30b8a",
   "metadata": {},
   "outputs": [
    {
     "data": {
      "text/plain": [
       "4"
      ]
     },
     "execution_count": 48,
     "metadata": {},
     "output_type": "execute_result"
    }
   ],
   "source": [
    "nums = [1,2,3,2]\n",
    "Solution().sumOfUnique(nums)"
   ]
  },
  {
   "cell_type": "code",
   "execution_count": 49,
   "id": "ad896087-0494-4b6e-9606-50cd92d0d054",
   "metadata": {},
   "outputs": [
    {
     "data": {
      "text/plain": [
       "0"
      ]
     },
     "execution_count": 49,
     "metadata": {},
     "output_type": "execute_result"
    }
   ],
   "source": [
    "nums = [1,1,1,1,1] \n",
    "Solution().sumOfUnique(nums)"
   ]
  },
  {
   "cell_type": "code",
   "execution_count": 50,
   "id": "0cd90bec-d421-4c24-8d1d-e99afe02caf6",
   "metadata": {},
   "outputs": [
    {
     "data": {
      "text/plain": [
       "15"
      ]
     },
     "execution_count": 50,
     "metadata": {},
     "output_type": "execute_result"
    }
   ],
   "source": [
    "nums = [1,2,3,4,5]\n",
    "Solution().sumOfUnique(nums)"
   ]
  },
  {
   "cell_type": "markdown",
   "id": "ccdc49c6-b711-4483-8525-a40aeafc347c",
   "metadata": {},
   "source": [
    "# 1394 Find Lucky Integer in Array\n",
    "Given an array of integers arr, a lucky integer is an integer that has a frequency in the array equal to its value.\n",
    "\n",
    "Return the largest lucky integer in the array. If there is no lucky integer return -1.\n",
    "\n",
    " \n",
    "\n",
    "Example 1:\n",
    "\n",
    "Input: arr = [2,2,3,4]\n",
    "Output: 2\n",
    "Explanation: The only lucky number in the array is 2 because frequency[2] == 2.\n",
    "\n",
    "Example 2:\n",
    "\n",
    "Input: arr = [1,2,2,3,3,3]\n",
    "Output: 3\n",
    "Explanation: 1, 2 and 3 are all lucky numbers, return the largest of them.\n",
    "\n",
    "Example 3:\n",
    "\n",
    "Input: arr = [2,2,2,3,3]\n",
    "Output: -1\n",
    "Explanation: There are no lucky numbers in the array.\n",
    "\n",
    " \n",
    "\n",
    "Constraints:\n",
    "\n",
    "    1 <= arr.length <= 500\n",
    "    1 <= arr[i] <= 500\n",
    "\n"
   ]
  },
  {
   "cell_type": "code",
   "execution_count": 51,
   "id": "afb18c4d-d171-400f-9d94-6f0311a9d767",
   "metadata": {},
   "outputs": [],
   "source": [
    "from collections import defaultdict\n",
    "\n",
    "class Solution:\n",
    "    def findLucky(self, arr: list[int]) -> int:\n",
    "        frequencies = defaultdict(int)\n",
    "        answer = -1\n",
    "        for n in arr:\n",
    "            frequencies[n] += 1\n",
    "\n",
    "        for k, v in frequencies.items():\n",
    "            if k == v:\n",
    "                answer = max(k, answer)\n",
    "        return answer"
   ]
  },
  {
   "cell_type": "code",
   "execution_count": 52,
   "id": "84b0a1a4-6aea-432a-ac8f-a3c5c180698c",
   "metadata": {},
   "outputs": [
    {
     "data": {
      "text/plain": [
       "2"
      ]
     },
     "execution_count": 52,
     "metadata": {},
     "output_type": "execute_result"
    }
   ],
   "source": [
    "arr = [2,2,3,4]\n",
    "Solution().findLucky(arr)"
   ]
  },
  {
   "cell_type": "code",
   "execution_count": 53,
   "id": "8fc361e4-2c1e-42a1-ad68-4a8b6a4133ad",
   "metadata": {},
   "outputs": [
    {
     "data": {
      "text/plain": [
       "3"
      ]
     },
     "execution_count": 53,
     "metadata": {},
     "output_type": "execute_result"
    }
   ],
   "source": [
    "arr = [1,2,2,3,3,3]\n",
    "Solution().findLucky(arr)"
   ]
  },
  {
   "cell_type": "code",
   "execution_count": 54,
   "id": "a1be67e6-8ba4-435b-9762-23da388fc63e",
   "metadata": {},
   "outputs": [
    {
     "data": {
      "text/plain": [
       "-1"
      ]
     },
     "execution_count": 54,
     "metadata": {},
     "output_type": "execute_result"
    }
   ],
   "source": [
    "arr = [2,2,2,3,3]\n",
    "Solution().findLucky(arr)"
   ]
  },
  {
   "cell_type": "markdown",
   "id": "92d77bac-aa63-4963-a759-2935dde05063",
   "metadata": {},
   "source": [
    "# 1207 Unique Number of Occurrences\n",
    "Given an array of integers arr, return true if the number of occurrences of each value in the array is unique or false otherwise.\n",
    "\n",
    " \n",
    "\n",
    "Example 1:\n",
    "\n",
    "Input: arr = [1,2,2,1,1,3]\n",
    "Output: true\n",
    "Explanation: The value 1 has 3 occurrences, 2 has 2 and 3 has 1. No two values have the same number of occurrences.\n",
    "\n",
    "Example 2:\n",
    "\n",
    "Input: arr = [1,2]\n",
    "Output: false\n",
    "\n",
    "Example 3:\n",
    "\n",
    "Input: arr = [-3,0,1,-3,1,1,1,-3,10,0]\n",
    "Output: true\n",
    "\n",
    " \n",
    "\n",
    "Constraints:\n",
    "\n",
    "    1 <= arr.length <= 1000\n",
    "    -1000 <= arr[i] <= 1000\n",
    "\n"
   ]
  },
  {
   "cell_type": "code",
   "execution_count": 56,
   "id": "c0a0f280-8aea-498b-8f2b-a12b4b2172eb",
   "metadata": {},
   "outputs": [],
   "source": [
    "from collections import defaultdict\n",
    "\n",
    "class Solution:\n",
    "    def uniqueOccurrences(self, arr: list[int]) -> bool:\n",
    "        frequencies = defaultdict(int)\n",
    "\n",
    "        for n in arr:\n",
    "            frequencies[n] += 1\n",
    "\n",
    "        frequencies_set = set(frequencies.values())\n",
    "\n",
    "        return len(frequencies_set) == len(frequencies.values())"
   ]
  },
  {
   "cell_type": "code",
   "execution_count": 57,
   "id": "a87a73ff-512c-4137-b246-e9ce7faf3268",
   "metadata": {},
   "outputs": [
    {
     "data": {
      "text/plain": [
       "True"
      ]
     },
     "execution_count": 57,
     "metadata": {},
     "output_type": "execute_result"
    }
   ],
   "source": [
    "arr = [1,2,2,1,1,3]\n",
    "Solution().uniqueOccurrences(arr)"
   ]
  },
  {
   "cell_type": "code",
   "execution_count": 58,
   "id": "24082e51-9b5e-4384-9565-fb1351f61a45",
   "metadata": {},
   "outputs": [
    {
     "data": {
      "text/plain": [
       "False"
      ]
     },
     "execution_count": 58,
     "metadata": {},
     "output_type": "execute_result"
    }
   ],
   "source": [
    "arr = [1,2]\n",
    "Solution().uniqueOccurrences(arr)"
   ]
  },
  {
   "cell_type": "code",
   "execution_count": 59,
   "id": "065aa3e8-793f-46c5-b875-afa0b347ba81",
   "metadata": {},
   "outputs": [
    {
     "data": {
      "text/plain": [
       "True"
      ]
     },
     "execution_count": 59,
     "metadata": {},
     "output_type": "execute_result"
    }
   ],
   "source": [
    "arr = [-3,0,1,-3,1,1,1,-3,10,0] \n",
    "Solution().uniqueOccurrences(arr)"
   ]
  },
  {
   "cell_type": "markdown",
   "id": "134823f6-e199-48d7-b4f2-7c089590aa55",
   "metadata": {},
   "source": [
    "# 451 Sort Characters by Frequency\n",
    "Given a string s, sort it in decreasing order based on the frequency of the characters. The frequency of a character is the number of times it appears in the string.\n",
    "\n",
    "Return the sorted string. If there are multiple answers, return any of them.\n",
    "\n",
    " \n",
    "\n",
    "Example 1:\n",
    "\n",
    "Input: s = \"tree\"\n",
    "Output: \"eert\"\n",
    "Explanation: 'e' appears twice while 'r' and 't' both appear once.\n",
    "So 'e' must appear before both 'r' and 't'. Therefore \"eetr\" is also a valid answer.\n",
    "\n",
    "Example 2:\n",
    "\n",
    "Input: s = \"cccaaa\"\n",
    "Output: \"aaaccc\"\n",
    "Explanation: Both 'c' and 'a' appear three times, so both \"cccaaa\" and \"aaaccc\" are valid answers.\n",
    "Note that \"cacaca\" is incorrect, as the same characters must be together.\n",
    "\n",
    "Example 3:\n",
    "\n",
    "Input: s = \"Aabb\"\n",
    "Output: \"bbAa\"\n",
    "Explanation: \"bbaA\" is also a valid answer, but \"Aabb\" is incorrect.\n",
    "Note that 'A' and 'a' are treated as two different characters.\n",
    "\n",
    " \n",
    "\n",
    "Constraints:\n",
    "\n",
    "    1 <= s.length <= 5 * 105\n",
    "    s consists of uppercase and lowercase English letters and digits.\n",
    "\n"
   ]
  },
  {
   "cell_type": "code",
   "execution_count": 60,
   "id": "8a091f23-37a6-4bed-b845-d98a84d19e39",
   "metadata": {},
   "outputs": [],
   "source": [
    "from collections import defaultdict\n",
    "\n",
    "class Solution:\n",
    "    def frequencySort(self, s: str) -> str:\n",
    "        \n",
    "        frequencies = defaultdict(int)\n",
    "        for c in s:\n",
    "            frequencies[c] += 1\n",
    "        \n",
    "        sorted_frequencies = sorted(frequencies.items(), key=lambda x: x[1], reverse=True)\n",
    "\n",
    "        result = []\n",
    "        for k, freq in sorted_frequencies:\n",
    "            for i in range(freq):\n",
    "                result.append(k)\n",
    "\n",
    "        return \"\".join(result)"
   ]
  },
  {
   "cell_type": "code",
   "execution_count": 61,
   "id": "5221d23d-a6df-479c-9007-3ae4d7f0e7c7",
   "metadata": {},
   "outputs": [
    {
     "data": {
      "text/plain": [
       "'eetr'"
      ]
     },
     "execution_count": 61,
     "metadata": {},
     "output_type": "execute_result"
    }
   ],
   "source": [
    "s = \"tree\"\n",
    "Solution().frequencySort(s)"
   ]
  },
  {
   "cell_type": "code",
   "execution_count": 62,
   "id": "e1d614f1-44d5-4f04-87f5-e5ea897c8b6b",
   "metadata": {},
   "outputs": [
    {
     "data": {
      "text/plain": [
       "'cccaaa'"
      ]
     },
     "execution_count": 62,
     "metadata": {},
     "output_type": "execute_result"
    }
   ],
   "source": [
    "s = \"cccaaa\"\n",
    "Solution().frequencySort(s)"
   ]
  },
  {
   "cell_type": "code",
   "execution_count": 63,
   "id": "e88ba8b7-1c06-4795-8864-af7124dd9932",
   "metadata": {},
   "outputs": [
    {
     "data": {
      "text/plain": [
       "'bbAa'"
      ]
     },
     "execution_count": 63,
     "metadata": {},
     "output_type": "execute_result"
    }
   ],
   "source": [
    "s = \"Aabb\"\n",
    "Solution().frequencySort(s)"
   ]
  },
  {
   "cell_type": "markdown",
   "id": "4d50bf2f-c38a-4c14-a095-d4b687db2513",
   "metadata": {},
   "source": [
    "# 1512 Number of Good Pairs\n",
    "Given an array of integers nums, return the number of good pairs.\n",
    "\n",
    "A pair (i, j) is called good if nums[i] == nums[j] and i < j.\n",
    "\n",
    " \n",
    "\n",
    "Example 1:\n",
    "\n",
    "Input: nums = [1,2,3,1,1,3]\n",
    "Output: 4\n",
    "Explanation: There are 4 good pairs (0,3), (0,4), (3,4), (2,5) 0-indexed.\n",
    "\n",
    "Example 2:\n",
    "\n",
    "Input: nums = [1,1,1,1]\n",
    "Output: 6\n",
    "Explanation: Each pair in the array are good.\n",
    "\n",
    "Example 3:\n",
    "\n",
    "Input: nums = [1,2,3]\n",
    "Output: 0\n",
    "\n",
    " \n",
    "\n",
    "Constraints:\n",
    "\n",
    "    1 <= nums.length <= 100\n",
    "    1 <= nums[i] <= 100\n",
    "\n"
   ]
  },
  {
   "cell_type": "code",
   "execution_count": 66,
   "id": "903c9bf6-7d54-441f-8100-66251a8ca83c",
   "metadata": {},
   "outputs": [],
   "source": [
    "from collections import defaultdict\n",
    "\n",
    "class Solution:\n",
    "    def numIdenticalPairs(self, nums: list[int]) -> int:\n",
    "        counts = defaultdict(int)\n",
    "        answer = 0\n",
    "\n",
    "        for n in nums:\n",
    "            answer += counts[n] # it can make that many good pairs\n",
    "            counts[n] += 1\n",
    "\n",
    "        return answer "
   ]
  },
  {
   "cell_type": "code",
   "execution_count": 67,
   "id": "0be9f230-4201-48af-9a40-afa378160bff",
   "metadata": {},
   "outputs": [
    {
     "data": {
      "text/plain": [
       "4"
      ]
     },
     "execution_count": 67,
     "metadata": {},
     "output_type": "execute_result"
    }
   ],
   "source": [
    "nums = [1,2,3,1,1,3]\n",
    "Solution().numIdenticalPairs(nums)"
   ]
  },
  {
   "cell_type": "code",
   "execution_count": 68,
   "id": "c6dfdd44-51d6-400f-bd58-472d69a94a25",
   "metadata": {},
   "outputs": [
    {
     "data": {
      "text/plain": [
       "6"
      ]
     },
     "execution_count": 68,
     "metadata": {},
     "output_type": "execute_result"
    }
   ],
   "source": [
    "nums = [1,1,1,1]\n",
    "Solution().numIdenticalPairs(nums)"
   ]
  },
  {
   "cell_type": "code",
   "execution_count": 69,
   "id": "697d8bd8-5f3c-41cb-a1ee-5c7a96791c74",
   "metadata": {},
   "outputs": [
    {
     "data": {
      "text/plain": [
       "0"
      ]
     },
     "execution_count": 69,
     "metadata": {},
     "output_type": "execute_result"
    }
   ],
   "source": [
    "nums = [1,2,3]\n",
    "Solution().numIdenticalPairs(nums)"
   ]
  },
  {
   "cell_type": "markdown",
   "id": "0622e72f-ab97-4292-bdcc-d4819b300137",
   "metadata": {},
   "source": [
    "# 1695 Maximum Erasure Value\n",
    "You are given an array of positive integers nums and want to erase a subarray containing unique elements. The score you get by erasing the subarray is equal to the sum of its elements.\n",
    "\n",
    "Return the maximum score you can get by erasing exactly one subarray.\n",
    "\n",
    "An array b is called to be a subarray of a if it forms a contiguous subsequence of a, that is, if it is equal to a[l],a[l+1],...,a[r] for some (l,r).\n",
    "\n",
    " \n",
    "\n",
    "Example 1:\n",
    "\n",
    "Input: nums = [4,2,4,5,6]\n",
    "Output: 17\n",
    "Explanation: The optimal subarray here is [2,4,5,6].\n",
    "\n",
    "Example 2:\n",
    "\n",
    "Input: nums = [5,2,1,2,5,2,1,2,5]\n",
    "Output: 8\n",
    "Explanation: The optimal subarray here is [5,2,1] or [1,2,5].\n",
    "\n",
    " \n",
    "\n",
    "Constraints:\n",
    "\n",
    "    1 <= nums.length <= 105\n",
    "    1 <= nums[i] <= 104\n",
    "\n"
   ]
  },
  {
   "cell_type": "code",
   "execution_count": 1,
   "id": "c093df3e-605a-4ef2-82cd-0aa17e68c319",
   "metadata": {},
   "outputs": [],
   "source": [
    "from collections import defaultdict\n",
    "\n",
    "class Solution:\n",
    "    def maximumUniqueSubarray(self, nums: list[int]) -> int:\n",
    "        left = current_sum = answer = 0\n",
    "        counts = defaultdict(int)\n",
    "\n",
    "        for right in range(len(nums)):\n",
    "            current_sum += nums[right]\n",
    "            counts[nums[right]] += 1\n",
    "            while counts[nums[right]] > 1:\n",
    "                current_sum -= nums[left]\n",
    "                counts[nums[left]] -= 1\n",
    "                left += 1\n",
    "            answer = max(current_sum, answer)\n",
    "\n",
    "        return answer\n",
    "\n"
   ]
  },
  {
   "cell_type": "code",
   "execution_count": 2,
   "id": "31640a49-9f7b-49c4-8b4c-9c5bc2f7d87c",
   "metadata": {},
   "outputs": [
    {
     "data": {
      "text/plain": [
       "17"
      ]
     },
     "execution_count": 2,
     "metadata": {},
     "output_type": "execute_result"
    }
   ],
   "source": [
    "nums = [4,2,4,5,6] \n",
    "Solution().maximumUniqueSubarray(nums)"
   ]
  },
  {
   "cell_type": "code",
   "execution_count": 3,
   "id": "43876089-a3af-4e45-8ea3-8005be69bc6e",
   "metadata": {},
   "outputs": [
    {
     "data": {
      "text/plain": [
       "8"
      ]
     },
     "execution_count": 3,
     "metadata": {},
     "output_type": "execute_result"
    }
   ],
   "source": [
    "nums = [5,2,1,2,5,2,1,2,5]\n",
    "Solution().maximumUniqueSubarray(nums)"
   ]
  },
  {
   "cell_type": "markdown",
   "id": "34a21c5b-6c78-4eaf-bf6f-3daa95ce2501",
   "metadata": {},
   "source": [
    "# 930 Binary Subarrays with Sum\n",
    "Given a binary array nums and an integer goal, return the number of non-empty subarrays with a sum goal.\n",
    "\n",
    "A subarray is a contiguous part of the array.\n",
    "\n",
    " \n",
    "\n",
    "Example 1:\n",
    "\n",
    "Input: nums = [1,0,1,0,1], goal = 2\n",
    "Output: 4\n",
    "Explanation: The 4 subarrays are bolded and underlined below:\n",
    "[1,0,1,0,1]\n",
    "[1,0,1,0,1]\n",
    "[1,0,1,0,1]\n",
    "[1,0,1,0,1]\n",
    "\n",
    "Example 2:\n",
    "\n",
    "Input: nums = [0,0,0,0,0], goal = 0\n",
    "Output: 15\n",
    "\n",
    " \n",
    "\n",
    "Constraints:\n",
    "\n",
    "    1 <= nums.length <= 3 * 104\n",
    "    nums[i] is either 0 or 1.\n",
    "    0 <= goal <= nums.length\n"
   ]
  },
  {
   "cell_type": "code",
   "execution_count": 4,
   "id": "db53530a-e277-4cc2-acc9-51af2ca4bb6e",
   "metadata": {},
   "outputs": [],
   "source": [
    "from collections import defaultdict\n",
    "\n",
    "class Solution:\n",
    "    def numSubarraysWithSum(self, nums: list[int], goal: int) -> int:\n",
    "        answer = current = 0\n",
    "        count = defaultdict(int)\n",
    "        count[0] = 1\n",
    "        \n",
    "        for right in range(len(nums)):\n",
    "            current += nums[right]\n",
    "            if current - goal in count:\n",
    "                answer += count[current - goal]\n",
    "            count[current] += 1\n",
    "        return answer"
   ]
  },
  {
   "cell_type": "code",
   "execution_count": 5,
   "id": "e71e9362-02e0-4923-ac37-15ae30fb993a",
   "metadata": {},
   "outputs": [
    {
     "data": {
      "text/plain": [
       "4"
      ]
     },
     "execution_count": 5,
     "metadata": {},
     "output_type": "execute_result"
    }
   ],
   "source": [
    "nums = [1,0,1,0,1]\n",
    "goal = 2\n",
    "Solution().numSubarraysWithSum(nums, goal)"
   ]
  },
  {
   "cell_type": "code",
   "execution_count": 6,
   "id": "39c0f435-bfc0-4c92-b2b2-1eab5cb90ba0",
   "metadata": {},
   "outputs": [
    {
     "data": {
      "text/plain": [
       "15"
      ]
     },
     "execution_count": 6,
     "metadata": {},
     "output_type": "execute_result"
    }
   ],
   "source": [
    "nums =  [0,0,0,0,0]\n",
    "goal = 0\n",
    "Solution().numSubarraysWithSum(nums, goal)"
   ]
  },
  {
   "cell_type": "markdown",
   "id": "edd1c843-c08e-445b-abf6-3081d611b6b0",
   "metadata": {},
   "source": [
    "# 567 Permutations in a String\n",
    "Given two strings s1 and s2, return true if s2 contains a permutation of s1, or false otherwise.\n",
    "\n",
    "In other words, return true if one of s1's permutations is the substring of s2.\n",
    "\n",
    " \n",
    "\n",
    "Example 1:\n",
    "\n",
    "Input: s1 = \"ab\", s2 = \"eidbaooo\"\n",
    "Output: true\n",
    "Explanation: s2 contains one permutation of s1 (\"ba\").\n",
    "\n",
    "Example 2:\n",
    "\n",
    "Input: s1 = \"ab\", s2 = \"eidboaoo\"\n",
    "Output: false\n",
    "\n",
    " \n",
    "\n",
    "Constraints:\n",
    "\n",
    "    1 <= s1.length, s2.length <= 104\n",
    "    s1 and s2 consist of lowercase English letters.\n",
    "\n"
   ]
  },
  {
   "cell_type": "code",
   "execution_count": 7,
   "id": "f513dfe8-1c0b-476d-a355-b0e9a30b1bff",
   "metadata": {},
   "outputs": [],
   "source": [
    "from collections import Counter\n",
    "class Solution:\n",
    "    def checkInclusion(self, s1: str, s2: str) -> bool:\n",
    "        s1_counter = Counter(s1)\n",
    "        left = 0\n",
    "        for right in range(len(s1), len(s2) + 1):\n",
    "            current_counter = Counter(s2[left:right])\n",
    "            if current_counter == s1_counter:\n",
    "                return True\n",
    "            left += 1\n",
    "        \n",
    "        return False"
   ]
  },
  {
   "cell_type": "code",
   "execution_count": 8,
   "id": "f267d862-bd04-481c-af2c-fd53c4fc63b3",
   "metadata": {},
   "outputs": [
    {
     "data": {
      "text/plain": [
       "True"
      ]
     },
     "execution_count": 8,
     "metadata": {},
     "output_type": "execute_result"
    }
   ],
   "source": [
    "s1 = \"ab\"\n",
    "s2 = \"eidbaooo\"\n",
    "Solution().checkInclusion(s1, s2)"
   ]
  },
  {
   "cell_type": "code",
   "execution_count": 9,
   "id": "fe405fb8-bc16-45f9-b294-83f337a28116",
   "metadata": {},
   "outputs": [
    {
     "data": {
      "text/plain": [
       "False"
      ]
     },
     "execution_count": 9,
     "metadata": {},
     "output_type": "execute_result"
    }
   ],
   "source": [
    "s1 = \"ab\"\n",
    "s2 = \"eidboaoo\"\n",
    "Solution().checkInclusion(s1, s2)"
   ]
  },
  {
   "cell_type": "markdown",
   "id": "bb543389-5463-4d05-abb8-a3501daf3659",
   "metadata": {},
   "source": [
    "# 205 Isomorphic Strings\n",
    "Given two strings s and t, determine if they are isomorphic.\n",
    "\n",
    "Two strings s and t are isomorphic if the characters in s can be replaced to get t.\n",
    "\n",
    "All occurrences of a character must be replaced with another character while preserving the order of characters. No two characters may map to the same character, but a character may map to itself.\n",
    "\n",
    " \n",
    "\n",
    "Example 1:\n",
    "\n",
    "Input: s = \"egg\", t = \"add\"\n",
    "Output: true\n",
    "\n",
    "Example 2:\n",
    "\n",
    "Input: s = \"foo\", t = \"bar\"\n",
    "Output: false\n",
    "\n",
    "Example 3:\n",
    "\n",
    "Input: s = \"paper\", t = \"title\"\n",
    "Output: true\n",
    "\n",
    " \n",
    "\n",
    "Constraints:\n",
    "\n",
    "    1 <= s.length <= 5 * 104\n",
    "    t.length == s.length\n",
    "    s and t consist of any valid ascii character.\n",
    "\n"
   ]
  },
  {
   "cell_type": "code",
   "execution_count": 10,
   "id": "5800262b-8846-4f58-a6d7-782ea041276b",
   "metadata": {},
   "outputs": [],
   "source": [
    "class Solution:\n",
    "    def isIsomorphic(self, s: str, t: str) -> bool:\n",
    "        char_map_s, char_map_t = {}, {}\n",
    "\n",
    "        for i in range(len(s)):\n",
    "            if s[i] in char_map_s:\n",
    "                if char_map_s[s[i]] != t[i]:\n",
    "                    return False\n",
    "            if t[i] in char_map_t:\n",
    "                if char_map_t[t[i]] != s[i]:\n",
    "                    return False\n",
    "            char_map_s[s[i]] = t[i]\n",
    "            char_map_t[t[i]] = s[i]\n",
    "        return True\n"
   ]
  },
  {
   "cell_type": "code",
   "execution_count": 11,
   "id": "19341ffc-b59d-44f1-a319-7300c9482285",
   "metadata": {},
   "outputs": [
    {
     "data": {
      "text/plain": [
       "True"
      ]
     },
     "execution_count": 11,
     "metadata": {},
     "output_type": "execute_result"
    }
   ],
   "source": [
    "s = \"egg\"\n",
    "t = \"add\"\n",
    "Solution().isIsomorphic(s, t)"
   ]
  },
  {
   "cell_type": "code",
   "execution_count": 12,
   "id": "ab8daecc-747f-48db-bb75-c2a93a0ceb65",
   "metadata": {},
   "outputs": [
    {
     "data": {
      "text/plain": [
       "False"
      ]
     },
     "execution_count": 12,
     "metadata": {},
     "output_type": "execute_result"
    }
   ],
   "source": [
    "s = \"foo\"\n",
    "t = \"bar\"\n",
    "Solution().isIsomorphic(s, t)"
   ]
  },
  {
   "cell_type": "code",
   "execution_count": 13,
   "id": "a5023231-435c-4e59-b09c-64712c99cbf8",
   "metadata": {},
   "outputs": [
    {
     "data": {
      "text/plain": [
       "True"
      ]
     },
     "execution_count": 13,
     "metadata": {},
     "output_type": "execute_result"
    }
   ],
   "source": [
    "s = \"paper\"\n",
    "t = \"title\"\n",
    "Solution().isIsomorphic(s, t)"
   ]
  },
  {
   "cell_type": "markdown",
   "id": "4964223c-76d5-4e97-92a8-222b199555eb",
   "metadata": {},
   "source": [
    "# 290 Word Pattern\n",
    "Given a pattern and a string s, find if s follows the same pattern.\n",
    "\n",
    "Here follow means a full match, such that there is a bijection between a letter in pattern and a non-empty word in s.\n",
    "\n",
    " \n",
    "\n",
    "Example 1:\n",
    "\n",
    "Input: pattern = \"abba\", s = \"dog cat cat dog\"\n",
    "Output: true\n",
    "\n",
    "Example 2:\n",
    "\n",
    "Input: pattern = \"abba\", s = \"dog cat cat fish\"\n",
    "Output: false\n",
    "\n",
    "Example 3:\n",
    "\n",
    "Input: pattern = \"aaaa\", s = \"dog cat cat dog\"\n",
    "Output: false\n",
    "\n",
    " \n",
    "\n",
    "Constraints:\n",
    "\n",
    "    1 <= pattern.length <= 300\n",
    "    pattern contains only lower-case English letters.\n",
    "    1 <= s.length <= 3000\n",
    "    s contains only lowercase English letters and spaces ' '.\n",
    "    s does not contain any leading or trailing spaces.\n",
    "    All the words in s are separated by a single space.\n",
    "\n"
   ]
  },
  {
   "cell_type": "code",
   "execution_count": 14,
   "id": "e046c439-ee8f-492f-a255-a93998b9a8eb",
   "metadata": {},
   "outputs": [],
   "source": [
    "class Solution:\n",
    "    def wordPattern(self, pattern: str, s: str) -> bool:\n",
    "        pattern_map, s_map = {}, {}\n",
    "        s_split = s.split(\" \")\n",
    "        if len(pattern) != len(s_split):\n",
    "            return False\n",
    "\n",
    "        for i in range(len(pattern)):\n",
    "            if pattern[i] in pattern_map:\n",
    "                if pattern_map[pattern[i]] != s_split[i]:\n",
    "                    return False\n",
    "            if s_split[i] in s_map:\n",
    "                if s_map[s_split[i]] != pattern[i]:\n",
    "                    return False\n",
    "            pattern_map[pattern[i]] = s_split[i]\n",
    "            s_map[s_split[i]] = pattern[i]\n",
    "        \n",
    "        return True"
   ]
  },
  {
   "cell_type": "code",
   "execution_count": 15,
   "id": "d290805d-5523-4d41-aa0e-c9314d00e92d",
   "metadata": {},
   "outputs": [
    {
     "data": {
      "text/plain": [
       "True"
      ]
     },
     "execution_count": 15,
     "metadata": {},
     "output_type": "execute_result"
    }
   ],
   "source": [
    "pattern = \"abba\"\n",
    "s = \"dog cat cat dog\"\n",
    "Solution().wordPattern(pattern, s)"
   ]
  },
  {
   "cell_type": "code",
   "execution_count": 16,
   "id": "a99da606-42d3-4880-b4c4-85f972a3a37a",
   "metadata": {},
   "outputs": [
    {
     "data": {
      "text/plain": [
       "False"
      ]
     },
     "execution_count": 16,
     "metadata": {},
     "output_type": "execute_result"
    }
   ],
   "source": [
    "pattern = \"abba\"\n",
    "s = \"dog cat cat fish\"\n",
    "Solution().wordPattern(pattern, s)"
   ]
  },
  {
   "cell_type": "code",
   "execution_count": 17,
   "id": "6207e9c1-fcb5-4f1d-a747-af4dbdc4eebc",
   "metadata": {},
   "outputs": [
    {
     "data": {
      "text/plain": [
       "False"
      ]
     },
     "execution_count": 17,
     "metadata": {},
     "output_type": "execute_result"
    }
   ],
   "source": [
    "pattern = \"aaaa\"\n",
    "s = \"dog cat cat dog\"\n",
    "Solution().wordPattern(pattern, s)"
   ]
  },
  {
   "cell_type": "markdown",
   "id": "57821dea-4002-4b92-8a0d-c486502afb01",
   "metadata": {},
   "source": [
    "# 791 Custom Sort String\n",
    "You are given two strings order and s. All the characters of order are unique and were sorted in some custom order previously.\n",
    "\n",
    "Permute the characters of s so that they match the order that order was sorted. More specifically, if a character x occurs before a character y in order, then x should occur before y in the permuted string.\n",
    "\n",
    "Return any permutation of s that satisfies this property.\n",
    "\n",
    " \n",
    "\n",
    "Example 1:\n",
    "\n",
    "Input: order = \"cba\", s = \"abcd\"\n",
    "Output: \"cbad\"\n",
    "Explanation: \n",
    "\"a\", \"b\", \"c\" appear in order, so the order of \"a\", \"b\", \"c\" should be \"c\", \"b\", and \"a\". \n",
    "Since \"d\" does not appear in order, it can be at any position in the returned string. \"dcba\", \"cdba\", \"cbda\" are also valid outputs.\n",
    "\n",
    "Example 2:\n",
    "\n",
    "Input: order = \"cbafg\", s = \"abcd\"\n",
    "Output: \"cbad\"\n",
    "\n",
    " \n",
    "\n",
    "Constraints:\n",
    "\n",
    "    1 <= order.length <= 26\n",
    "    1 <= s.length <= 200\n",
    "    order and s consist of lowercase English letters.\n",
    "    All the characters of order are unique.\n",
    "\n"
   ]
  },
  {
   "cell_type": "code",
   "execution_count": 18,
   "id": "a8e196c2-5602-42aa-b43d-14627e2a736e",
   "metadata": {},
   "outputs": [],
   "source": [
    "from collections import Counter\n",
    "\n",
    "class Solution:\n",
    "    def customSortString(self, order: str, s: str) -> str:\n",
    "        s_count = Counter(s) \n",
    "        order_set = set(order)\n",
    "        result = \"\"\n",
    "\n",
    "        for c in order:\n",
    "            if c in s_count:\n",
    "                result += c * s_count[c]\n",
    "        for c in s:\n",
    "            if c not in order_set:\n",
    "                result += c\n",
    "        \n",
    "        return result"
   ]
  },
  {
   "cell_type": "code",
   "execution_count": 19,
   "id": "fea02228-36f7-4880-9e7a-12f06a2f057f",
   "metadata": {},
   "outputs": [
    {
     "data": {
      "text/plain": [
       "'cbad'"
      ]
     },
     "execution_count": 19,
     "metadata": {},
     "output_type": "execute_result"
    }
   ],
   "source": [
    "order = \"cba\"\n",
    "s = \"abcd\"\n",
    "Solution().customSortString(order, s)"
   ]
  },
  {
   "cell_type": "code",
   "execution_count": 20,
   "id": "8218cab6-5042-4da6-aaec-37beb951f3e8",
   "metadata": {},
   "outputs": [
    {
     "data": {
      "text/plain": [
       "'cbad'"
      ]
     },
     "execution_count": 20,
     "metadata": {},
     "output_type": "execute_result"
    }
   ],
   "source": [
    "order = \"cbafg\"\n",
    "s = \"abcd\"\n",
    "Solution().customSortString(order, s)"
   ]
  },
  {
   "cell_type": "code",
   "execution_count": null,
   "id": "89dda1af-3726-4d59-973a-4599b8cf80e4",
   "metadata": {},
   "outputs": [],
   "source": []
  }
 ],
 "metadata": {
  "kernelspec": {
   "display_name": "Python 3 (ipykernel)",
   "language": "python",
   "name": "python3"
  },
  "language_info": {
   "codemirror_mode": {
    "name": "ipython",
    "version": 3
   },
   "file_extension": ".py",
   "mimetype": "text/x-python",
   "name": "python",
   "nbconvert_exporter": "python",
   "pygments_lexer": "ipython3",
   "version": "3.10.9"
  }
 },
 "nbformat": 4,
 "nbformat_minor": 5
}
