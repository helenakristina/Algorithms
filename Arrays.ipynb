{
 "cells": [
  {
   "cell_type": "markdown",
   "id": "a7d7cc40-1757-404f-b9b3-f8429680f463",
   "metadata": {},
   "source": [
    "# Reverse a string\n",
    "\n",
    "Write a function that reverses a string. The input string is given as an array of characters s.\n",
    "\n",
    "You must do this by modifying the input array in-place with O(1) extra memory.\n",
    "\n",
    " \n",
    "\n",
    "Example 1:\n",
    "\n",
    "Input: s = `[\"h\",\"e\",\"l\",\"l\",\"o\"]`\n",
    "Output: `[\"o\",\"l\",\"l\",\"e\",\"h\"]`\n",
    "\n",
    "Example 2:\n",
    "\n",
    "Input: s = `[\"H\",\"a\",\"n\",\"n\",\"a\",\"h\"]`\n",
    "Output: `[\"h\",\"a\",\"n\",\"n\",\"a\",\"H\"]`\n",
    "\n",
    " \n",
    "\n",
    "Constraints:\n",
    "\n",
    "    1 <= s.length <= 105\n",
    "    s[i] is a printable ascii character.\n",
    "\n"
   ]
  },
  {
   "cell_type": "code",
   "execution_count": 2,
   "id": "9122d195-02bc-4baf-a1bc-472a79fd9824",
   "metadata": {},
   "outputs": [],
   "source": [
    "class Solution:\n",
    "    def reverseString(self, s: list[str]) -> None:\n",
    "        \"\"\"\n",
    "        Do not return anything, modify s in-place instead.\n",
    "        \"\"\"\n",
    "        left, right = 0, len(s) - 1\n",
    "        while left < right:\n",
    "            s[left], s[right] = s[right], s[left]\n",
    "            left += 1\n",
    "            right -= 1"
   ]
  },
  {
   "cell_type": "code",
   "execution_count": 5,
   "id": "323d9f2f-e6aa-43f0-b988-84c08ed421a2",
   "metadata": {},
   "outputs": [
    {
     "name": "stdout",
     "output_type": "stream",
     "text": [
      "['o', 'l', 'l', 'e', 'h']\n"
     ]
    }
   ],
   "source": [
    "s = [\"h\",\"e\",\"l\",\"l\",\"o\"]\n",
    "Solution().reverseString(s)\n",
    "print(s)"
   ]
  },
  {
   "cell_type": "code",
   "execution_count": 6,
   "id": "17986eb4-0ee1-45be-9fd4-316358ed15ab",
   "metadata": {},
   "outputs": [
    {
     "name": "stdout",
     "output_type": "stream",
     "text": [
      "['h', 'a', 'n', 'n', 'a', 'H']\n"
     ]
    }
   ],
   "source": [
    "s = [\"H\",\"a\",\"n\",\"n\",\"a\",\"h\"]\n",
    "Solution().reverseString(s)\n",
    "print(s)"
   ]
  },
  {
   "cell_type": "markdown",
   "id": "88cc63ef-8bbf-49f6-8a5f-75b04657087d",
   "metadata": {},
   "source": [
    "# Squares of a Sorted Array\n",
    "\n",
    "Given an integer array nums sorted in non-decreasing order, return an array of the squares of each number sorted in non-decreasing order.\n",
    "\n",
    " \n",
    "\n",
    "Example 1:\n",
    "\n",
    "Input: nums = [-4,-1,0,3,10]\n",
    "Output: [0,1,9,16,100]\n",
    "Explanation: After squaring, the array becomes [16,1,0,9,100].\n",
    "After sorting, it becomes [0,1,9,16,100].\n",
    "\n",
    "Example 2:\n",
    "\n",
    "Input: nums = [-7,-3,2,3,11]\n",
    "Output: [4,9,9,49,121]\n",
    "\n",
    " \n",
    "\n",
    "Constraints:\n",
    "\n",
    "    1 <= nums.length <= 104\n",
    "    -104 <= nums[i] <= 104\n",
    "    nums is sorted in non-decreasing order"
   ]
  },
  {
   "cell_type": "code",
   "execution_count": 7,
   "id": "2a127fdc-d667-4268-b410-ff57cf5bd7cd",
   "metadata": {},
   "outputs": [],
   "source": [
    "class Solution:\n",
    "    def sortedSquares(self, nums: list[int]) -> list[int]:\n",
    "        answer = []\n",
    "        for n in nums:\n",
    "            answer.append(n * n)\n",
    "        answer.sort()\n",
    "        return answer"
   ]
  },
  {
   "cell_type": "code",
   "execution_count": 9,
   "id": "ddd6467d-e863-4d43-ad98-a628b4d596bc",
   "metadata": {},
   "outputs": [
    {
     "name": "stdout",
     "output_type": "stream",
     "text": [
      "[0, 1, 9, 16, 100]\n"
     ]
    }
   ],
   "source": [
    "nums = [-4,-1,0,3,10] \n",
    "result = Solution().sortedSquares(nums)\n",
    "print(result)"
   ]
  },
  {
   "cell_type": "code",
   "execution_count": 10,
   "id": "f01e18b1-be5b-45b6-bf01-0a3af459e06d",
   "metadata": {},
   "outputs": [
    {
     "name": "stdout",
     "output_type": "stream",
     "text": [
      "[4, 9, 9, 49, 121]\n"
     ]
    }
   ],
   "source": [
    "nums = [-7,-3,2,3,11] \n",
    "result = Solution().sortedSquares(nums)\n",
    "print(result)"
   ]
  },
  {
   "cell_type": "markdown",
   "id": "f2690f4e-16be-47a9-982c-33d9b38655a1",
   "metadata": {},
   "source": [
    "# Maximum Average Subarray I\n",
    "\n",
    "You are given an integer array nums consisting of n elements, and an integer k.\n",
    "\n",
    "Find a contiguous subarray whose length is equal to k that has the maximum average value and return this value. Any answer with a calculation error less than 10-5 will be accepted.\n",
    "\n",
    " \n",
    "\n",
    "Example 1:\n",
    "\n",
    "Input: nums = [1,12,-5,-6,50,3], k = 4\n",
    "Output: 12.75000\n",
    "Explanation: Maximum average is (12 - 5 - 6 + 50) / 4 = 51 / 4 = 12.75\n",
    "\n",
    "Example 2:\n",
    "\n",
    "Input: nums = [5], k = 1\n",
    "Output: 5.00000\n",
    "\n",
    " \n",
    "\n",
    "Constraints:\n",
    "\n",
    "    n == nums.length\n",
    "    1 <= k <= n <= 105\n",
    "    -104 <= nums[i] <= 104\n",
    "\n"
   ]
  },
  {
   "cell_type": "code",
   "execution_count": 11,
   "id": "7c1da25f-b65e-4ecd-8fd4-c79d3018cc27",
   "metadata": {},
   "outputs": [],
   "source": [
    "class Solution:\n",
    "    def findMaxAverage(self, nums: list[int], k: int) -> float:\n",
    "        current_sum = 0\n",
    "        for i in range(k):\n",
    "            current_sum += nums[i]\n",
    "        answer = current_sum/k \n",
    "        left, right = 1, k\n",
    "        while right < len(nums):\n",
    "            current_sum += nums[right]\n",
    "            current_sum -= nums[left-1]\n",
    "            answer = max(answer, current_sum/k)\n",
    "            right += 1\n",
    "            left += 1\n",
    "        return answer"
   ]
  },
  {
   "cell_type": "code",
   "execution_count": 12,
   "id": "fbac16c6-31da-4a6f-a6d5-b40efee65cec",
   "metadata": {},
   "outputs": [
    {
     "name": "stdout",
     "output_type": "stream",
     "text": [
      "12.75\n"
     ]
    }
   ],
   "source": [
    "nums = [1,12,-5,-6,50,3]\n",
    "k = 4\n",
    "result = Solution().findMaxAverage(nums, k)\n",
    "print(result)"
   ]
  },
  {
   "cell_type": "code",
   "execution_count": 13,
   "id": "7f4cd345-a890-450f-9834-2c80fd16d9ce",
   "metadata": {},
   "outputs": [
    {
     "name": "stdout",
     "output_type": "stream",
     "text": [
      "5.0\n"
     ]
    }
   ],
   "source": [
    "nums = [5]\n",
    "k = 1\n",
    "result = Solution().findMaxAverage(nums, k)\n",
    "print(result)"
   ]
  },
  {
   "cell_type": "markdown",
   "id": "7beee2ea-a9ed-4468-8328-fa6f84809697",
   "metadata": {},
   "source": [
    "# Max Consecutive Ones III\n",
    "\n",
    "Given a binary array nums and an integer k, return the maximum number of consecutive 1's in the array if you can flip at most k 0's.\n",
    "\n",
    " \n",
    "\n",
    "Example 1:\n",
    "\n",
    "Input: nums = [1,1,1,0,0,0,1,1,1,1,0], k = 2\n",
    "Output: 6\n",
    "Explanation: [1,1,1,0,0,1,1,1,1,1,1]\n",
    "Bolded numbers were flipped from 0 to 1. The longest subarray is underlined.\n",
    "\n",
    "Example 2:\n",
    "\n",
    "Input: nums = [0,0,1,1,0,0,1,1,1,0,1,1,0,0,0,1,1,1,1], k = 3\n",
    "Output: 10\n",
    "Explanation: [0,0,1,1,1,1,1,1,1,1,1,1,0,0,0,1,1,1,1]\n",
    "Bolded numbers were flipped from 0 to 1. The longest subarray is underlined.\n",
    "\n",
    " \n",
    "\n",
    "Constraints:\n",
    "\n",
    "    1 <= nums.length <= 105\n",
    "    nums[i] is either 0 or 1.\n",
    "    0 <= k <= nums.length\n",
    "\n"
   ]
  },
  {
   "cell_type": "code",
   "execution_count": 14,
   "id": "3037c519-996a-4692-ac75-d0062a5617ce",
   "metadata": {},
   "outputs": [],
   "source": [
    "class Solution:\n",
    "    def longestOnes(self, nums: list[int], k: int) -> int:\n",
    "        current = left = 0\n",
    "        for i in range(k):\n",
    "            if nums[i] == 0:\n",
    "                current += 1\n",
    "        answer = k\n",
    "        for right in range(k, len(nums)):\n",
    "            if nums[right] == 0:\n",
    "                current += 1\n",
    "            while current > k:\n",
    "                if nums[left] == 0:\n",
    "                    current -= 1\n",
    "                left += 1\n",
    "            answer = max(answer, right - left +1)\n",
    "            \n",
    "        return answer"
   ]
  },
  {
   "cell_type": "code",
   "execution_count": 16,
   "id": "34d1ce6c-ebd8-4b2d-bd7f-920ae7c49354",
   "metadata": {},
   "outputs": [
    {
     "name": "stdout",
     "output_type": "stream",
     "text": [
      "6\n"
     ]
    }
   ],
   "source": [
    "nums = [1,1,1,0,0,0,1,1,1,1,0]\n",
    "k = 2\n",
    "result = Solution().longestOnes(nums, k)\n",
    "print(result)"
   ]
  },
  {
   "cell_type": "code",
   "execution_count": 17,
   "id": "a58f1df3-e205-4df4-9670-40690f2b9a95",
   "metadata": {},
   "outputs": [
    {
     "name": "stdout",
     "output_type": "stream",
     "text": [
      "10\n"
     ]
    }
   ],
   "source": [
    "nums =  [0,0,1,1,0,0,1,1,1,0,1,1,0,0,0,1,1,1,1]\n",
    "k = 3\n",
    "result = Solution().longestOnes(nums, k)\n",
    "print(result)"
   ]
  },
  {
   "cell_type": "markdown",
   "id": "b86dbdff-3735-40d3-ac9b-51126ccc39af",
   "metadata": {},
   "source": [
    "# Running Sum of 1d Array\n",
    "\n",
    "Given an array nums. We define a running sum of an array as runningSum[i] = sum(nums[0]…nums[i]).\n",
    "\n",
    "Return the running sum of nums.\n",
    "\n",
    " \n",
    "\n",
    "Example 1:\n",
    "\n",
    "Input: nums = [1,2,3,4]\n",
    "Output: [1,3,6,10]\n",
    "Explanation: Running sum is obtained as follows: [1, 1+2, 1+2+3, 1+2+3+4].\n",
    "\n",
    "Example 2:\n",
    "\n",
    "Input: nums = [1,1,1,1,1]\n",
    "Output: [1,2,3,4,5]\n",
    "Explanation: Running sum is obtained as follows: [1, 1+1, 1+1+1, 1+1+1+1, 1+1+1+1+1].\n",
    "\n",
    "Example 3:\n",
    "\n",
    "Input: nums = [3,1,2,10,1]\n",
    "Output: [3,4,6,16,17]\n",
    "\n",
    " \n",
    "\n",
    "Constraints:\n",
    "\n",
    "    1 <= nums.length <= 1000\n",
    "    -10^6 <= nums[i] <= 10^6\n",
    "\n"
   ]
  },
  {
   "cell_type": "code",
   "execution_count": 27,
   "id": "86c8e34e-6dab-4979-a321-3ff0cca9e3fe",
   "metadata": {},
   "outputs": [],
   "source": [
    "class Solution:\n",
    "    def runningSum(self, nums: list[int]) -> list[int]:\n",
    "        answer = [nums[0]]\n",
    "        for i in range(1, len(nums)):\n",
    "            answer.append(nums[i] + answer[-1])\n",
    "            \n",
    "        return answer"
   ]
  },
  {
   "cell_type": "code",
   "execution_count": 28,
   "id": "a007cfb2-dffc-4b21-8508-6587b9074f5b",
   "metadata": {},
   "outputs": [
    {
     "name": "stdout",
     "output_type": "stream",
     "text": [
      "[1, 3, 6, 10]\n"
     ]
    }
   ],
   "source": [
    "nums = [1,2,3,4]\n",
    "result = Solution().runningSum(nums)\n",
    "print(result)"
   ]
  },
  {
   "cell_type": "code",
   "execution_count": 29,
   "id": "7363463e-49ed-4fa5-9075-2788d5336461",
   "metadata": {},
   "outputs": [
    {
     "name": "stdout",
     "output_type": "stream",
     "text": [
      "[1, 2, 3, 4, 5]\n"
     ]
    }
   ],
   "source": [
    "nums = [1,1,1,1,1]\n",
    "result = Solution().runningSum(nums)\n",
    "print(result)"
   ]
  },
  {
   "cell_type": "code",
   "execution_count": 30,
   "id": "c7064020-f696-4525-b543-36a09d1fbd81",
   "metadata": {},
   "outputs": [
    {
     "name": "stdout",
     "output_type": "stream",
     "text": [
      "[3, 4, 6, 16, 17]\n"
     ]
    }
   ],
   "source": [
    "nums = [3,1,2,10,1]\n",
    "result = Solution().runningSum(nums)\n",
    "print(result)"
   ]
  },
  {
   "cell_type": "markdown",
   "id": "9e1ab052-af85-415c-b31e-43667e889643",
   "metadata": {},
   "source": [
    "# Minimum Value to Get Positive Step by Step Sum\n",
    "\n",
    "Given an array of integers nums, you start with an initial positive value startValue.\n",
    "\n",
    "In each iteration, you calculate the step by step sum of startValue plus elements in nums (from left to right).\n",
    "\n",
    "Return the minimum positive value of startValue such that the step by step sum is never less than 1.\n",
    "\n",
    " \n",
    "\n",
    "Example 1:\n",
    "\n",
    "Input: nums = [-3,2,-3,4,2]\n",
    "Output: 5\n",
    "Explanation: If you choose startValue = 4, in the third iteration your step by step sum is less than 1.\n",
    "step by step sum\n",
    "startValue = 4 | startValue = 5 | nums\n",
    "  (4 -3 ) = 1  | (5 -3 ) = 2    |  -3\n",
    "  (1 +2 ) = 3  | (2 +2 ) = 4    |   2\n",
    "  (3 -3 ) = 0  | (4 -3 ) = 1    |  -3\n",
    "  (0 +4 ) = 4  | (1 +4 ) = 5    |   4\n",
    "  (4 +2 ) = 6  | (5 +2 ) = 7    |   2\n",
    "\n",
    "Example 2:\n",
    "\n",
    "Input: nums = [1,2]\n",
    "Output: 1\n",
    "Explanation: Minimum start value should be positive. \n",
    "\n",
    "Example 3:\n",
    "\n",
    "Input: nums = [1,-2,-3]\n",
    "Output: 5\n",
    "\n",
    " \n",
    "\n",
    "Constraints:\n",
    "\n",
    "    1 <= nums.length <= 100\n",
    "    -100 <= nums[i] <= 100\n",
    "\n"
   ]
  },
  {
   "cell_type": "code",
   "execution_count": 31,
   "id": "fe73af74-0102-4f5e-8c6f-5f2ba747ecbb",
   "metadata": {},
   "outputs": [],
   "source": [
    "class Solution:\n",
    "    def minStartValue(self, nums: list[int]) -> int:\n",
    "        prefix = [nums[0]]\n",
    "        for i in range(1, len(nums)):\n",
    "            prefix.append(nums[i] + prefix[-1])\n",
    "        \n",
    "        answer = max(1, 1 - min(prefix))\n",
    "        return answer"
   ]
  },
  {
   "cell_type": "code",
   "execution_count": 32,
   "id": "868300b8-e22a-4a21-bcc5-a93cc8840392",
   "metadata": {},
   "outputs": [
    {
     "name": "stdout",
     "output_type": "stream",
     "text": [
      "1\n"
     ]
    }
   ],
   "source": [
    "nums = [1,2]\n",
    "result = Solution().minStartValue(nums)\n",
    "print(result)"
   ]
  },
  {
   "cell_type": "code",
   "execution_count": 33,
   "id": "0c07bf38-195f-4a63-b6db-32bdc853d6ec",
   "metadata": {},
   "outputs": [
    {
     "name": "stdout",
     "output_type": "stream",
     "text": [
      "5\n"
     ]
    }
   ],
   "source": [
    "nums = [1,-2,-3]\n",
    "result = Solution().minStartValue(nums)\n",
    "print(result)"
   ]
  },
  {
   "cell_type": "markdown",
   "id": "e1f239ca-c6fc-4a6f-9d96-4e323dd7fbc9",
   "metadata": {},
   "source": [
    "# K Radius Subarray Averages\n",
    "\n",
    "You are given a 0-indexed array nums of n integers, and an integer k.\n",
    "\n",
    "The k-radius average for a subarray of nums centered at some index i with the radius k is the average of all elements in nums between the indices i - k and i + k (inclusive). If there are less than k elements before or after the index i, then the k-radius average is -1.\n",
    "\n",
    "Build and return an array avgs of length n where avgs[i] is the k-radius average for the subarray centered at index i.\n",
    "\n",
    "The average of x elements is the sum of the x elements divided by x, using integer division. The integer division truncates toward zero, which means losing its fractional part.\n",
    "\n",
    "    For example, the average of four elements 2, 3, 1, and 5 is (2 + 3 + 1 + 5) / 4 = 11 / 4 = 2.75, which truncates to 2.\n",
    "\n",
    " \n",
    "\n",
    "Example 1:\n",
    "\n",
    "Input: nums = [7,4,3,9,1,8,5,2,6], k = 3\n",
    "Output: [-1,-1,-1,5,4,4,-1,-1,-1]\n",
    "Explanation:\n",
    "- avg[0], avg[1], and avg[2] are -1 because there are less than k elements before each index.\n",
    "- The sum of the subarray centered at index 3 with radius 3 is: 7 + 4 + 3 + 9 + 1 + 8 + 5 = 37.\n",
    "  Using integer division, avg[3] = 37 / 7 = 5.\n",
    "- For the subarray centered at index 4, avg[4] = (4 + 3 + 9 + 1 + 8 + 5 + 2) / 7 = 4.\n",
    "- For the subarray centered at index 5, avg[5] = (3 + 9 + 1 + 8 + 5 + 2 + 6) / 7 = 4.\n",
    "- avg[6], avg[7], and avg[8] are -1 because there are less than k elements after each index.\n",
    "\n",
    "Example 2:\n",
    "\n",
    "Input: nums = [100000], k = 0\n",
    "Output: [100000]\n",
    "Explanation:\n",
    "- The sum of the subarray centered at index 0 with radius 0 is: 100000.\n",
    "  avg[0] = 100000 / 1 = 100000.\n",
    "\n",
    "Example 3:\n",
    "\n",
    "Input: nums = [8], k = 100000\n",
    "Output: [-1]\n",
    "Explanation: \n",
    "- avg[0] is -1 because there are less than k elements before and after index 0.\n",
    "\n",
    " \n",
    "\n",
    "Constraints:\n",
    "\n",
    "    n == nums.length\n",
    "    1 <= n <= 105\n",
    "    0 <= nums[i], k <= 105\n",
    "\n"
   ]
  },
  {
   "cell_type": "code",
   "execution_count": 34,
   "id": "d791d0d0-25fa-488a-9650-264fd983116a",
   "metadata": {},
   "outputs": [],
   "source": [
    "class Solution:\n",
    "    def getAverages(self, nums: list[int], k: int) -> list[int]:\n",
    "        if k == 0:\n",
    "            return nums\n",
    "        \n",
    "        prefix = [nums[0]]\n",
    "        for i in range(1, len(nums)):\n",
    "            prefix.append(nums[i] + prefix[-1])\n",
    "        \n",
    "        answer = [-1 for _ in range(len(nums))]\n",
    "        \n",
    "        for i in range(len(nums)):\n",
    "            start_index = i - k\n",
    "            end_index = i + k\n",
    "            if start_index < 0 or end_index > len(nums) - 1:\n",
    "                continue\n",
    "            current_sum = 0\n",
    "            if start_index == 0:\n",
    "                current_sum = prefix[end_index]\n",
    "            else:\n",
    "                current_sum = prefix[end_index] - prefix[start_index-1]\n",
    "            \n",
    "            answer[i] = current_sum // (k + k + 1)\n",
    "\n",
    "        return answer\n",
    "            "
   ]
  },
  {
   "cell_type": "code",
   "execution_count": 35,
   "id": "fb6a32b8-de9c-4968-bf5b-a3982acb5cd3",
   "metadata": {},
   "outputs": [
    {
     "name": "stdout",
     "output_type": "stream",
     "text": [
      "[-1, -1, -1, 5, 4, 4, -1, -1, -1]\n"
     ]
    }
   ],
   "source": [
    "nums = [7,4,3,9,1,8,5,2,6]\n",
    "k = 3\n",
    "result = Solution().getAverages(nums, k)\n",
    "print(result)"
   ]
  },
  {
   "cell_type": "code",
   "execution_count": 36,
   "id": "f08081b3-4980-4160-821c-56b1009fa69a",
   "metadata": {},
   "outputs": [
    {
     "name": "stdout",
     "output_type": "stream",
     "text": [
      "[100000]\n"
     ]
    }
   ],
   "source": [
    "nums = [100000]\n",
    "k = 0\n",
    "result = Solution().getAverages(nums, k)\n",
    "print(result)"
   ]
  },
  {
   "cell_type": "code",
   "execution_count": 37,
   "id": "cbc1e218-2faf-4aa8-b4cc-0d15e26ce682",
   "metadata": {},
   "outputs": [
    {
     "name": "stdout",
     "output_type": "stream",
     "text": [
      "[-1]\n"
     ]
    }
   ],
   "source": [
    "nums = [8]\n",
    "k = 100000\n",
    "result = Solution().getAverages(nums, k)\n",
    "print(result)"
   ]
  },
  {
   "cell_type": "markdown",
   "id": "5301aedb-d763-4af2-8540-45d7dc1ec7b3",
   "metadata": {},
   "source": [
    "# 557. Reverse Words in a String III\n",
    "\n",
    "Given a string s, reverse the order of characters in each word within a sentence while still preserving whitespace and initial word order.\n",
    "\n",
    " \n",
    "\n",
    "Example 1:\n",
    "\n",
    "Input: s = \"Let's take LeetCode contest\"\n",
    "Output: \"s'teL ekat edoCteeL tsetnoc\"\n",
    "\n",
    "Example 2:\n",
    "\n",
    "Input: s = \"God Ding\"\n",
    "Output: \"doG gniD\"\n",
    "\n",
    " \n",
    "\n",
    "Constraints:\n",
    "\n",
    "    1 <= s.length <= 5 * 104\n",
    "    s contains printable ASCII characters.\n",
    "    s does not contain any leading or trailing spaces.\n",
    "    There is at least one word in s.\n",
    "    All the words in s are separated by a single space.\n",
    "\n"
   ]
  },
  {
   "cell_type": "code",
   "execution_count": 38,
   "id": "0507f15e-c82e-4f6f-99fb-7b5ea3037619",
   "metadata": {},
   "outputs": [],
   "source": [
    "# Reverse using a queue\n",
    "class Solution:\n",
    "    def reverseWords(self, s: str) -> str:\n",
    "        words = s.split(\" \")\n",
    "        answer = []\n",
    "        for word in words:\n",
    "            queue = [c for c in word]\n",
    "            reversed_word = []\n",
    "            while queue:\n",
    "                reversed_word.append(queue.pop())\n",
    "            answer.append(''.join(reversed_word))\n",
    "\n",
    "        return \" \".join(answer)"
   ]
  },
  {
   "cell_type": "code",
   "execution_count": 39,
   "id": "42322b67-4a6b-478a-b972-3f8bf93fa2bb",
   "metadata": {},
   "outputs": [
    {
     "name": "stdout",
     "output_type": "stream",
     "text": [
      "s'teL ekat edoCteeL tsetnoc\n"
     ]
    }
   ],
   "source": [
    "s = \"Let's take LeetCode contest\"\n",
    "result = Solution().reverseWords(s)\n",
    "print(result)"
   ]
  },
  {
   "cell_type": "code",
   "execution_count": 40,
   "id": "ead75d42-a769-48e9-a3c0-77be17a8d6d5",
   "metadata": {},
   "outputs": [
    {
     "name": "stdout",
     "output_type": "stream",
     "text": [
      "doG gniD\n"
     ]
    }
   ],
   "source": [
    "s = \"God Ding\"\n",
    "result = Solution().reverseWords(s)\n",
    "print(result)"
   ]
  },
  {
   "cell_type": "code",
   "execution_count": 53,
   "id": "a7ef94fc-8117-4517-8122-83a186182eb8",
   "metadata": {},
   "outputs": [],
   "source": [
    "# Reverse using slicing\n",
    "class Solution:\n",
    "    def reverseWords(self, s: str) -> str:\n",
    "        words = s.split(\" \")\n",
    "        answer = []\n",
    "        for word in words:\n",
    "            reversed_word = word[::-1]\n",
    "            answer.append(reversed_word)\n",
    "        return \" \".join(answer)"
   ]
  },
  {
   "cell_type": "code",
   "execution_count": 43,
   "id": "5e186e06-f567-4ea1-8835-1510d9cb7fd7",
   "metadata": {},
   "outputs": [
    {
     "name": "stdout",
     "output_type": "stream",
     "text": [
      "s'teL ekat edoCteeL tsetnoc\n"
     ]
    }
   ],
   "source": [
    "s = \"Let's take LeetCode contest\"\n",
    "result = Solution().reverseWords(s)\n",
    "print(result)"
   ]
  },
  {
   "cell_type": "code",
   "execution_count": 44,
   "id": "76217ee6-6d38-44b0-9734-df7429d269a7",
   "metadata": {},
   "outputs": [
    {
     "name": "stdout",
     "output_type": "stream",
     "text": [
      "doG gniD\n"
     ]
    }
   ],
   "source": [
    "s = \"God Ding\"\n",
    "result = Solution().reverseWords(s)\n",
    "print(result)"
   ]
  },
  {
   "cell_type": "code",
   "execution_count": 70,
   "id": "44ec7356-812d-48fd-9455-9069513ebfcb",
   "metadata": {},
   "outputs": [],
   "source": [
    "# Reverse using two pointers\n",
    "class Solution:\n",
    "    def reverseWords(self, s: str) -> str:\n",
    "        s += \" \" # need space at end to stop right pointer\n",
    "        left = right = 0\n",
    "        answer = \"\"\n",
    "        while right < len(s):\n",
    "            if s[right] != \" \":\n",
    "                right += 1\n",
    "            else: # right is space\n",
    "                answer += s[left:right + 1][::-1]\n",
    "                right += 1\n",
    "                left = right\n",
    "        return answer.strip()\n",
    "\n",
    "            "
   ]
  },
  {
   "cell_type": "code",
   "execution_count": 71,
   "id": "b8331439-7532-4f5e-a057-c455ffe8d327",
   "metadata": {},
   "outputs": [
    {
     "name": "stdout",
     "output_type": "stream",
     "text": [
      "s'teL ekat edoCteeL tsetnoc\n"
     ]
    }
   ],
   "source": [
    "s = \"Let's take LeetCode contest\"\n",
    "result = Solution().reverseWords(s)\n",
    "print(result)"
   ]
  },
  {
   "cell_type": "code",
   "execution_count": 72,
   "id": "69bdad19-041c-4b68-8ac1-281d4847eb9a",
   "metadata": {},
   "outputs": [
    {
     "name": "stdout",
     "output_type": "stream",
     "text": [
      "doG gniD\n"
     ]
    }
   ],
   "source": [
    "s = \"God Ding\"\n",
    "result = Solution().reverseWords(s)\n",
    "print(result)"
   ]
  },
  {
   "cell_type": "markdown",
   "id": "5dfb1af1-90ab-49c7-99a6-47bbe4662858",
   "metadata": {},
   "source": [
    "#  917 Reverse only letters\n",
    "\n",
    "Given a string s, reverse the string according to the following rules:\n",
    "\n",
    "    All the characters that are not English letters remain in the same position.\n",
    "    All the English letters (lowercase or uppercase) should be reversed.\n",
    "\n",
    "Return s after reversing it.\n",
    "\n",
    " \n",
    "\n",
    "Example 1:\n",
    "\n",
    "Input: s = \"ab-cd\"\n",
    "Output: \"dc-ba\"\n",
    "\n",
    "Example 2:\n",
    "\n",
    "Input: s = \"a-bC-dEf-ghIj\"\n",
    "Output: \"j-Ih-gfE-dCba\"\n",
    "\n",
    "Example 3:\n",
    "\n",
    "Input: s = \"Test1ng-Leet=code-Q!\"\n",
    "Output: \"Qedo1ct-eeLg=ntse-T!\"\n",
    "\n",
    " \n",
    "\n",
    "Constraints:\n",
    "\n",
    "    1 <= s.length <= 100\n",
    "    s consists of characters with ASCII values in the range [33, 122].\n",
    "    s does not contain '\\\"' or '\\\\'.\n",
    "\n"
   ]
  },
  {
   "cell_type": "code",
   "execution_count": 73,
   "id": "095799a7-0403-4048-b50c-02e21ebc2c06",
   "metadata": {},
   "outputs": [],
   "source": [
    "class Solution:\n",
    "    def reverseOnlyLetters(self, s: str) -> str:\n",
    "        answer = [c for c in s]\n",
    "        left, right = 0, len(s) - 1\n",
    "        while left < right:\n",
    "            if answer[left].isalpha() and answer[right].isalpha():\n",
    "                answer[left], answer[right] = answer[right], answer[left]\n",
    "                left += 1\n",
    "                right -= 1                \n",
    "            else:\n",
    "                if not answer[left].isalpha():\n",
    "                    left += 1\n",
    "                if not answer[right].isalpha():\n",
    "                    right -= 1\n",
    "            \n",
    "        return \"\".join(answer)"
   ]
  },
  {
   "cell_type": "code",
   "execution_count": 74,
   "id": "2173885f-2488-4a3b-b75c-cae40cb51497",
   "metadata": {},
   "outputs": [
    {
     "data": {
      "text/plain": [
       "'dc-ba'"
      ]
     },
     "execution_count": 74,
     "metadata": {},
     "output_type": "execute_result"
    }
   ],
   "source": [
    "s = \"ab-cd\"\n",
    "Solution().reverseOnlyLetters(s)"
   ]
  },
  {
   "cell_type": "code",
   "execution_count": 75,
   "id": "aa976443-f6d1-429d-8852-19eafb3b94af",
   "metadata": {},
   "outputs": [
    {
     "data": {
      "text/plain": [
       "'j-Ih-gfE-dCba'"
      ]
     },
     "execution_count": 75,
     "metadata": {},
     "output_type": "execute_result"
    }
   ],
   "source": [
    "s = \"a-bC-dEf-ghIj\"\n",
    "Solution().reverseOnlyLetters(s)"
   ]
  },
  {
   "cell_type": "code",
   "execution_count": 76,
   "id": "f11b9b5c-4869-4743-bbe9-c7838be1d12f",
   "metadata": {},
   "outputs": [
    {
     "data": {
      "text/plain": [
       "'Qedo1ct-eeLg=ntse-T!'"
      ]
     },
     "execution_count": 76,
     "metadata": {},
     "output_type": "execute_result"
    }
   ],
   "source": [
    "s = \"Test1ng-Leet=code-Q!\"\n",
    "Solution().reverseOnlyLetters(s)"
   ]
  },
  {
   "cell_type": "markdown",
   "id": "6d49b3ca-7f0c-4921-8d5c-b5a4b70482e0",
   "metadata": {},
   "source": [
    "# 283. Move zeros\n",
    "\n",
    "Given an integer array nums, move all 0's to the end of it while maintaining the relative order of the non-zero elements.\n",
    "\n",
    "Note that you must do this in-place without making a copy of the array.\n",
    "\n",
    " \n",
    "\n",
    "Example 1:\n",
    "\n",
    "Input: nums = [0,1,0,3,12]\n",
    "Output: [1,3,12,0,0]\n",
    "\n",
    "Example 2:\n",
    "\n",
    "Input: nums = [0]\n",
    "Output: [0]\n",
    "\n",
    " \n",
    "\n",
    "Constraints:\n",
    "\n",
    "    1 <= nums.length <= 104\n",
    "    -231 <= nums[i] <= 231 - 1\n"
   ]
  },
  {
   "cell_type": "code",
   "execution_count": 81,
   "id": "d3e0a1bb-bb6d-41ed-9020-b6a5aa0d570f",
   "metadata": {},
   "outputs": [],
   "source": [
    "class Solution:\n",
    "    def moveZeroes(self, nums: list[int]) -> None:\n",
    "        \"\"\"\n",
    "        Do not return anything, modify nums in-place instead.\n",
    "        \"\"\"\n",
    "        if len(nums) <= 1:\n",
    "            return\n",
    "\n",
    "        left, right = 0, 1\n",
    "        while right < len(nums):\n",
    "            if nums[left] == 0:\n",
    "                # find next non-zero element and swap\n",
    "                while right < len(nums) and nums[right] == 0:\n",
    "                    right += 1\n",
    "\n",
    "                # if right is at the end of the array, we are done\n",
    "                if right >= len(nums):\n",
    "                    break\n",
    "                \n",
    "                #otherwise, swap\n",
    "                nums[left], nums[right] = nums[right], nums[left]\n",
    "                left += 1\n",
    "                right = left + 1\n",
    "            else:\n",
    "                left += 1\n",
    "                right += 1"
   ]
  },
  {
   "cell_type": "code",
   "execution_count": 79,
   "id": "5466289f-781a-499c-b931-2bf54712be2d",
   "metadata": {},
   "outputs": [
    {
     "data": {
      "text/plain": [
       "[1, 3, 12, 0, 0]"
      ]
     },
     "execution_count": 79,
     "metadata": {},
     "output_type": "execute_result"
    }
   ],
   "source": [
    "nums = [0,1,0,3,12]\n",
    "Solution().moveZeroes(nums)\n",
    "nums"
   ]
  },
  {
   "cell_type": "code",
   "execution_count": 80,
   "id": "88851b7b-3d9e-4547-89cd-32c5b4307302",
   "metadata": {},
   "outputs": [
    {
     "data": {
      "text/plain": [
       "[0]"
      ]
     },
     "execution_count": 80,
     "metadata": {},
     "output_type": "execute_result"
    }
   ],
   "source": [
    "nums = [0]\n",
    "Solution().moveZeroes(nums)\n",
    "nums"
   ]
  },
  {
   "cell_type": "markdown",
   "id": "ead28672-d968-4929-98bf-dec5a94952c8",
   "metadata": {},
   "source": [
    "# 2000. Reverse prefix of a word\n",
    "\n",
    "Given a 0-indexed string word and a character ch, reverse the segment of word that starts at index 0 and ends at the index of the first occurrence of ch (inclusive). If the character ch does not exist in word, do nothing.\n",
    "\n",
    "    For example, if word = \"abcdefd\" and ch = \"d\", then you should reverse the segment that starts at 0 and ends at 3 (inclusive). The resulting string will be \"dcbaefd\".\n",
    "\n",
    "Return the resulting string.\n",
    "\n",
    " \n",
    "\n",
    "Example 1:\n",
    "\n",
    "Input: word = \"abcdefd\", ch = \"d\"\n",
    "Output: \"dcbaefd\"\n",
    "Explanation: The first occurrence of \"d\" is at index 3. \n",
    "Reverse the part of word from 0 to 3 (inclusive), the resulting string is \"dcbaefd\".\n",
    "\n",
    "Example 2:\n",
    "\n",
    "Input: word = \"xyxzxe\", ch = \"z\"\n",
    "Output: \"zxyxxe\"\n",
    "Explanation: The first and only occurrence of \"z\" is at index 3.\n",
    "Reverse the part of word from 0 to 3 (inclusive), the resulting string is \"zxyxxe\".\n",
    "\n",
    "Example 3:\n",
    "\n",
    "Input: word = \"abcd\", ch = \"z\"\n",
    "Output: \"abcd\"\n",
    "Explanation: \"z\" does not exist in word.\n",
    "You should not do any reverse operation, the resulting string is \"abcd\".\n",
    "\n",
    " \n",
    "\n",
    "Constraints:\n",
    "\n",
    "    1 <= word.length <= 250\n",
    "    word consists of lowercase English letters.\n",
    "    ch is a lowercase English letter.\n",
    "\n"
   ]
  },
  {
   "cell_type": "code",
   "execution_count": 89,
   "id": "6a22b7db-951c-448f-840a-3d8335835d30",
   "metadata": {},
   "outputs": [],
   "source": [
    "class Solution:\n",
    "    def reversePrefix(self, word: str, ch: str) -> str:\n",
    "        index = word.find(ch)\n",
    "        if index == -1:\n",
    "            return word\n",
    "        reversed_section = word[:index + 1][::-1]\n",
    "        \n",
    "        result = \"\"\n",
    "        if index + 1 >= len(word):\n",
    "            result = reversed_section\n",
    "        else:\n",
    "            result = reversed_section + word[index + 1:]\n",
    "        \n",
    "        return result"
   ]
  },
  {
   "cell_type": "code",
   "execution_count": 90,
   "id": "b8c8d6e6-f977-4132-8c87-53df34e238fa",
   "metadata": {},
   "outputs": [
    {
     "data": {
      "text/plain": [
       "'dcbaefd'"
      ]
     },
     "execution_count": 90,
     "metadata": {},
     "output_type": "execute_result"
    }
   ],
   "source": [
    "word = \"abcdefd\"\n",
    "ch = \"d\"\n",
    "Solution().reversePrefix(word, ch)"
   ]
  },
  {
   "cell_type": "code",
   "execution_count": 93,
   "id": "42759770-bf43-491a-b13c-b77d7ec747dc",
   "metadata": {},
   "outputs": [
    {
     "data": {
      "text/plain": [
       "'zxyxxe'"
      ]
     },
     "execution_count": 93,
     "metadata": {},
     "output_type": "execute_result"
    }
   ],
   "source": [
    "word = \"xyxzxe\"\n",
    "ch = \"z\"\n",
    "Solution().reversePrefix(word, ch)"
   ]
  },
  {
   "cell_type": "code",
   "execution_count": 94,
   "id": "d49e493f-145e-4976-a679-cfdbe238d2a7",
   "metadata": {},
   "outputs": [
    {
     "data": {
      "text/plain": [
       "'abcd'"
      ]
     },
     "execution_count": 94,
     "metadata": {},
     "output_type": "execute_result"
    }
   ],
   "source": [
    "word = \"abcd\"\n",
    "ch = \"z\"\n",
    "Solution().reversePrefix(word, ch)"
   ]
  },
  {
   "cell_type": "markdown",
   "id": "7798a065-fb5d-42e3-a9d9-4a0751d1a6ef",
   "metadata": {},
   "source": [
    "# 209 Minimum Size Subarray Sum\n",
    "Given an array of positive integers nums and a positive integer target, return the minimal length of a\n",
    "subarray\n",
    "whose sum is greater than or equal to target. If there is no such subarray, return 0 instead.\n",
    "\n",
    " \n",
    "\n",
    "Example 1:\n",
    "\n",
    "Input: target = 7, nums = [2,3,1,2,4,3]\n",
    "Output: 2\n",
    "Explanation: The subarray [4,3] has the minimal length under the problem constraint.\n",
    "\n",
    "Example 2:\n",
    "\n",
    "Input: target = 4, nums = [1,4,4]\n",
    "Output: 1\n",
    "\n",
    "Example 3:\n",
    "\n",
    "Input: target = 11, nums = [1,1,1,1,1,1,1,1]\n",
    "Output: 0\n",
    "target = 4\n",
    "nums = [1,4,4]\n",
    "Solution().minSubArrayLen(target, nums)\n",
    " \n",
    "\n",
    "Constraints:\n",
    "\n",
    "    1 <= target <= 109\n",
    "    1 <= nums.length <= 105\n",
    "    1 <= nums[i] <= 104\n"
   ]
  },
  {
   "cell_type": "code",
   "execution_count": 98,
   "id": "b4e305f6-1b7a-44e8-a67f-caf7aa7cbf8f",
   "metadata": {},
   "outputs": [],
   "source": [
    "class Solution:\n",
    "    def minSubArrayLen(self, target: int, nums: list[int]) -> int:\n",
    "        \n",
    "        left = current = 0\n",
    "        answer = float('inf')\n",
    "\n",
    "        for right in range(len(nums)):\n",
    "            current += nums[right]\n",
    "            while current >= target:\n",
    "                answer = min(answer, right - left + 1)\n",
    "                current -= nums[left]\n",
    "                left += 1\n",
    "        \n",
    "        return answer if answer <= len(nums) else 0"
   ]
  },
  {
   "cell_type": "code",
   "execution_count": 99,
   "id": "cdc79509-0fee-4b41-a3ff-6064f0fab407",
   "metadata": {},
   "outputs": [
    {
     "data": {
      "text/plain": [
       "2"
      ]
     },
     "execution_count": 99,
     "metadata": {},
     "output_type": "execute_result"
    }
   ],
   "source": [
    "target = 7\n",
    "nums = [2,3,1,2,4,3]\n",
    "Solution().minSubArrayLen(target, nums)"
   ]
  },
  {
   "cell_type": "code",
   "execution_count": 100,
   "id": "12d6b974-1bc3-44d3-a880-54a85d7176ce",
   "metadata": {},
   "outputs": [
    {
     "data": {
      "text/plain": [
       "1"
      ]
     },
     "execution_count": 100,
     "metadata": {},
     "output_type": "execute_result"
    }
   ],
   "source": [
    "target = 4\n",
    "nums = [1,4,4]\n",
    "Solution().minSubArrayLen(target, nums)"
   ]
  },
  {
   "cell_type": "code",
   "execution_count": 101,
   "id": "7408ee34-c459-4e59-978f-22db63ce2081",
   "metadata": {},
   "outputs": [
    {
     "data": {
      "text/plain": [
       "0"
      ]
     },
     "execution_count": 101,
     "metadata": {},
     "output_type": "execute_result"
    }
   ],
   "source": [
    "target = 11\n",
    "nums = [1,1,1,1,1,1,1,1] \n",
    "Solution().minSubArrayLen(target, nums)"
   ]
  },
  {
   "cell_type": "markdown",
   "id": "f1b1d01e-bb70-4adf-818c-2b0e5200c7de",
   "metadata": {},
   "source": [
    "# 1456. Maximum Number of Vowels in a Substring of Given Length\n",
    "\n",
    "Given a string s and an integer k, return the maximum number of vowel letters in any substring of s with length k.\n",
    "\n",
    "Vowel letters in English are 'a', 'e', 'i', 'o', and 'u'.\n",
    "\n",
    " \n",
    "\n",
    "Example 1:\n",
    "\n",
    "Input: s = \"abciiidef\", k = 3\n",
    "Output: 3\n",
    "Explanation: The substring \"iii\" contains 3 vowel letters.\n",
    "\n",
    "Example 2:\n",
    "\n",
    "Input: s = \"aeiou\", k = 2\n",
    "Output: 2\n",
    "Explanation: Any substring of length 2 contains 2 vowels.\n",
    "\n",
    "Example 3:\n",
    "\n",
    "Input: s = \"leetcode\", k = 3\n",
    "Output: 2\n",
    "Explanation: \"lee\", \"eet\" and \"ode\" contain 2 vowels.\n",
    "\n",
    " \n",
    "\n",
    "Constraints:\n",
    "\n",
    "    1 <= s.length <= 105\n",
    "    s consists of lowercase English letters.\n",
    "    1 <= k <= s.length\n",
    "\n"
   ]
  },
  {
   "cell_type": "code",
   "execution_count": 102,
   "id": "3ed0ef0d-baa7-421a-adc6-0293ab5b410c",
   "metadata": {},
   "outputs": [],
   "source": [
    "class Solution:\n",
    "    def maxVowels(self, s: str, k: int) -> int:\n",
    "        vowels = ['a', 'e', 'i', 'o', 'u']\n",
    "        count_vowels = 0\n",
    "        # initialize first window\n",
    "        for i in range(k):\n",
    "            if s[i] in vowels:\n",
    "                count_vowels += 1\n",
    "\n",
    "        left = 0\n",
    "        answer = count_vowels\n",
    "        for right in range(k, len(s)):\n",
    "            if s[left] in vowels:\n",
    "                count_vowels -= 1\n",
    "            left += 1\n",
    "            if s[right] in vowels:\n",
    "                count_vowels += 1\n",
    "            answer = max(answer, count_vowels)\n",
    "\n",
    "        return answer"
   ]
  },
  {
   "cell_type": "code",
   "execution_count": 103,
   "id": "d8c6e353-f452-428e-a082-5e81f485c28e",
   "metadata": {},
   "outputs": [
    {
     "data": {
      "text/plain": [
       "3"
      ]
     },
     "execution_count": 103,
     "metadata": {},
     "output_type": "execute_result"
    }
   ],
   "source": [
    "s = \"abciiidef\"\n",
    "k = 3\n",
    "Solution().maxVowels(s,k)"
   ]
  },
  {
   "cell_type": "code",
   "execution_count": 104,
   "id": "7ece6211-ed78-4897-91b0-55f09ef44269",
   "metadata": {},
   "outputs": [
    {
     "data": {
      "text/plain": [
       "2"
      ]
     },
     "execution_count": 104,
     "metadata": {},
     "output_type": "execute_result"
    }
   ],
   "source": [
    "s = \"aeiou\"\n",
    "k = 2\n",
    "Solution().maxVowels(s,k)"
   ]
  },
  {
   "cell_type": "code",
   "execution_count": 105,
   "id": "8feebbe8-fc1e-4375-925a-559b1e0be156",
   "metadata": {},
   "outputs": [
    {
     "data": {
      "text/plain": [
       "2"
      ]
     },
     "execution_count": 105,
     "metadata": {},
     "output_type": "execute_result"
    }
   ],
   "source": [
    "s = \"leetcode\"\n",
    "k - 3\n",
    "Solution().maxVowels(s,k)"
   ]
  },
  {
   "cell_type": "markdown",
   "id": "02c21088-6821-43ad-9d06-67b27720773d",
   "metadata": {},
   "source": [
    "# 1208 Get Equal Substrings Within Budget\n",
    "You are given two strings s and t of the same length and an integer maxCost.\n",
    "\n",
    "You want to change s to t. Changing the ith character of s to ith character of t costs |s[i] - t[i]| (i.e., the absolute difference between the ASCII values of the characters).\n",
    "\n",
    "Return the maximum length of a substring of s that can be changed to be the same as the corresponding substring of t with a cost less than or equal to maxCost. If there is no substring from s that can be changed to its corresponding substring from t, return 0.\n",
    "\n",
    " \n",
    "\n",
    "Example 1:\n",
    "\n",
    "Input: s = \"abcd\", t = \"bcdf\", maxCost = 3\n",
    "Output: 3\n",
    "Explanation: \"abc\" of s can change to \"bcd\".\n",
    "That costs 3, so the maximum length is 3.\n",
    "\n",
    "Example 2:\n",
    "\n",
    "Input: s = \"abcd\", t = \"cdef\", maxCost = 3\n",
    "Output: 1\n",
    "Explanation: Each character in s costs 2 to change to character in t,  so the maximum length is 1.\n",
    "\n",
    "Example 3:\n",
    "\n",
    "Input: s = \"abcd\", t = \"acde\", maxCost = 0\n",
    "Output: 1\n",
    "Explanation: You cannot make any change, so the maximum length is 1.\n",
    "\n",
    " \n",
    "\n",
    "Constraints:\n",
    "\n",
    "    1 <= s.length <= 105\n",
    "    t.length == s.length\n",
    "    0 <= maxCost <= 106\n",
    "    s and t consist of only lowercase English letters.\n",
    "\n"
   ]
  },
  {
   "cell_type": "code",
   "execution_count": 106,
   "id": "1e2bbbca-0d74-481d-9d87-a7251e4ad688",
   "metadata": {},
   "outputs": [],
   "source": [
    "class Solution:\n",
    "    def equalSubstring(self, s: str, t: str, maxCost: int) -> int:\n",
    "        left = current_cost = answer = 0\n",
    "        for right in range(len(s)):\n",
    "            current_cost += abs(ord(s[right]) - ord(t[right]))\n",
    "            while current_cost > maxCost:\n",
    "                current_cost -= abs(ord(s[left])-ord(t[left]))\n",
    "                left += 1\n",
    "            answer = max(answer, right - left + 1)\n",
    "\n",
    "        return answer"
   ]
  },
  {
   "cell_type": "code",
   "execution_count": 107,
   "id": "94458b41-2094-4b2f-abe0-6f23ba51371c",
   "metadata": {},
   "outputs": [
    {
     "data": {
      "text/plain": [
       "3"
      ]
     },
     "execution_count": 107,
     "metadata": {},
     "output_type": "execute_result"
    }
   ],
   "source": [
    "s = \"abcd\"\n",
    "t = \"bcdf\"\n",
    "maxCost = 3\n",
    "Solution().equalSubstring(s, t, maxCost)"
   ]
  },
  {
   "cell_type": "code",
   "execution_count": 108,
   "id": "19093236-7044-4db1-bb68-70f21be23ba1",
   "metadata": {},
   "outputs": [
    {
     "data": {
      "text/plain": [
       "1"
      ]
     },
     "execution_count": 108,
     "metadata": {},
     "output_type": "execute_result"
    }
   ],
   "source": [
    "s = \"abcd\"\n",
    "t = \"cdef\"\n",
    "maxCost = 3\n",
    "Solution().equalSubstring(s, t, maxCost)"
   ]
  },
  {
   "cell_type": "code",
   "execution_count": 109,
   "id": "e5bab8a1-ab3e-4bdb-9ec3-500e1ec81f1e",
   "metadata": {},
   "outputs": [
    {
     "data": {
      "text/plain": [
       "1"
      ]
     },
     "execution_count": 109,
     "metadata": {},
     "output_type": "execute_result"
    }
   ],
   "source": [
    "s = \"abcd\"\n",
    "t = \"acde\"\n",
    "maxCost = 0\n",
    "Solution().equalSubstring(s, t, maxCost)"
   ]
  },
  {
   "cell_type": "markdown",
   "id": "21e9e19c-8f0f-4ddd-b03e-056889dd88c5",
   "metadata": {},
   "source": [
    "# 1732 Find the Highest Altitude\n",
    "There is a biker going on a road trip. The road trip consists of n + 1 points at different altitudes. The biker starts his trip on point 0 with altitude equal 0.\n",
    "\n",
    "You are given an integer array gain of length n where gain[i] is the net gain in altitude between points i​​​​​​ and i + 1 for all (0 <= i < n). Return the highest altitude of a point.\n",
    "\n",
    " \n",
    "\n",
    "Example 1:\n",
    "\n",
    "Input: gain = [-5,1,5,0,-7]\n",
    "Output: 1\n",
    "Explanation: The altitudes are [0,-5,-4,1,1,-6]. The highest is 1.\n",
    "\n",
    "Example 2:\n",
    "\n",
    "Input: gain = [-4,-3,-2,-1,4,3,2]\n",
    "Output: 0\n",
    "Explanation: The altitudes are [0,-4,-7,-9,-10,-6,-3,-1]. The highest is 0.\n",
    "\n",
    " \n",
    "\n",
    "Constraints:\n",
    "\n",
    "    n == gain.length\n",
    "    1 <= n <= 100\n",
    "    -100 <= gain[i] <= 100\n",
    "\n"
   ]
  },
  {
   "cell_type": "code",
   "execution_count": 111,
   "id": "0d459e28-d2aa-42bd-9185-9e3331c18045",
   "metadata": {},
   "outputs": [],
   "source": [
    "class Solution:\n",
    "    def largestAltitude(self, gain: list[int]) -> int:\n",
    "        max_altitude = current_altitude = 0\n",
    "\n",
    "        for n in gain:\n",
    "            current_altitude += n\n",
    "            max_altitude = max(max_altitude, current_altitude)\n",
    "\n",
    "        return max_altitude\n"
   ]
  },
  {
   "cell_type": "code",
   "execution_count": 112,
   "id": "04844f45-c5bf-4630-af3e-830a490939a9",
   "metadata": {},
   "outputs": [
    {
     "data": {
      "text/plain": [
       "1"
      ]
     },
     "execution_count": 112,
     "metadata": {},
     "output_type": "execute_result"
    }
   ],
   "source": [
    "gain = [-5,1,5,0,-7]\n",
    "Solution().largestAltitude(gain)"
   ]
  },
  {
   "cell_type": "code",
   "execution_count": 113,
   "id": "17cfcf2e-b996-4806-a06b-fdb71e43d052",
   "metadata": {},
   "outputs": [
    {
     "data": {
      "text/plain": [
       "0"
      ]
     },
     "execution_count": 113,
     "metadata": {},
     "output_type": "execute_result"
    }
   ],
   "source": [
    "gain = [-4,-3,-2,-1,4,3,2]\n",
    "Solution().largestAltitude(gain)"
   ]
  },
  {
   "cell_type": "markdown",
   "id": "14634d94-af5c-40e2-920f-4c49a871056c",
   "metadata": {},
   "source": [
    "# 724. Find Pivot Index\n",
    "Given an array of integers nums, calculate the pivot index of this array.\n",
    "\n",
    "The pivot index is the index where the sum of all the numbers strictly to the left of the index is equal to the sum of all the numbers strictly to the index's right.\n",
    "\n",
    "If the index is on the left edge of the array, then the left sum is 0 because there are no elements to the left. This also applies to the right edge of the array.\n",
    "\n",
    "Return the leftmost pivot index. If no such index exists, return -1.\n",
    "\n",
    " \n",
    "\n",
    "Example 1:\n",
    "\n",
    "Input: nums = [1,7,3,6,5,6]\n",
    "Output: 3\n",
    "Explanation:\n",
    "The pivot index is 3.\n",
    "Left sum = nums[0] + nums[1] + nums[2] = 1 + 7 + 3 = 11\n",
    "Right sum = nums[4] + nums[5] = 5 + 6 = 11\n",
    "\n",
    "Example 2:\n",
    "\n",
    "Input: nums = [1,2,3]\n",
    "Output: -1\n",
    "Explanation:\n",
    "There is no index that satisfies the conditions in the problem statement.\n",
    "\n",
    "Example 3:\n",
    "\n",
    "Input: nums = [2,1,-1]\n",
    "Output: 0\n",
    "Explanation:\n",
    "The pivot index is 0.\n",
    "Left sum = 0 (no elements to the left of index 0)\n",
    "Right sum = nums[1] + nums[2] = 1 + -1 = 0\n",
    "\n",
    " \n",
    "\n",
    "Constraints:\n",
    "\n",
    "    1 <= nums.length <= 104\n",
    "    -1000 <= nums[i] <= 1000\n",
    "\n",
    " "
   ]
  },
  {
   "cell_type": "code",
   "execution_count": 114,
   "id": "9df89e24-897a-41f2-8b88-cb46b9fdcd9d",
   "metadata": {},
   "outputs": [],
   "source": [
    "class Solution:\n",
    "    def pivotIndex(self, nums: list[int]) -> int:\n",
    "        preview_sums = [nums[0]]\n",
    "        for i in range(1, len(nums)):\n",
    "            preview_sums.append(nums[i] + preview_sums[-1])\n",
    "\n",
    "        left = 0\n",
    "        right = len(nums) - 1\n",
    "        for pivot in range(len(nums)):\n",
    "            if pivot == 0:\n",
    "                left_sum = 0\n",
    "            else:\n",
    "                left_sum = preview_sums[pivot - 1]\n",
    "            if pivot == right:\n",
    "                right_sum = 0\n",
    "            else:\n",
    "                right_sum = preview_sums[right] - preview_sums[pivot]\n",
    "            if left_sum == right_sum:\n",
    "                return pivot\n",
    "        return -1"
   ]
  },
  {
   "cell_type": "code",
   "execution_count": 115,
   "id": "e8e7f89f-c31a-40ee-a8bf-895e479f36da",
   "metadata": {},
   "outputs": [
    {
     "data": {
      "text/plain": [
       "3"
      ]
     },
     "execution_count": 115,
     "metadata": {},
     "output_type": "execute_result"
    }
   ],
   "source": [
    "nums = [1,7,3,6,5,6]\n",
    "Solution().pivotIndex(nums)"
   ]
  },
  {
   "cell_type": "code",
   "execution_count": 116,
   "id": "dbb8eff9-83bd-46d9-9bea-0c9a472cbe94",
   "metadata": {},
   "outputs": [
    {
     "data": {
      "text/plain": [
       "-1"
      ]
     },
     "execution_count": 116,
     "metadata": {},
     "output_type": "execute_result"
    }
   ],
   "source": [
    "nums = [1,2,3]\n",
    "Solution().pivotIndex(nums)"
   ]
  },
  {
   "cell_type": "code",
   "execution_count": 117,
   "id": "cf96fa42-edc3-451f-8be5-85a4b86858ff",
   "metadata": {},
   "outputs": [
    {
     "data": {
      "text/plain": [
       "0"
      ]
     },
     "execution_count": 117,
     "metadata": {},
     "output_type": "execute_result"
    }
   ],
   "source": [
    "nums = [2,1,-1]\n",
    "Solution().pivotIndex(nums)"
   ]
  },
  {
   "cell_type": "markdown",
   "id": "247881ec-3553-4fa7-bf98-bb7abf1a09ee",
   "metadata": {},
   "source": [
    "# 303 Range Sum Query Immutable\n",
    "Given an integer array nums, handle multiple queries of the following type:\n",
    "\n",
    "    Calculate the sum of the elements of nums between indices left and right inclusive where left <= right.\n",
    "\n",
    "Implement the NumArray class:\n",
    "\n",
    "    NumArray(int[] nums) Initializes the object with the integer array nums.\n",
    "    int sumRange(int left, int right) Returns the sum of the elements of nums between indices left and right inclusive (i.e. nums[left] + nums[left + 1] + ... + nums[right]).\n",
    "\n",
    " \n",
    "\n",
    "Example 1:\n",
    "\n",
    "Input\n",
    "[\"NumArray\", \"sumRange\", \"sumRange\", \"sumRange\"]\n",
    "[[[-2, 0, 3, -5, 2, -1]], [0, 2], [2, 5], [0, 5]]\n",
    "Output\n",
    "[null, 1, -1, -3]\n",
    "\n",
    "Explanation\n",
    "NumArray numArray = new NumArray([-2, 0, 3, -5, 2, -1]);\n",
    "numArray.sumRange(0, 2); // return (-2) + 0 + 3 = 1\n",
    "numArray.sumRange(2, 5); // return 3 + (-5) + 2 + (-1) = -1\n",
    "numArray.sumRange(0, 5); // return (-2) + 0 + 3 + (-5) + 2 + (-1) = -3\n",
    "\n",
    " \n",
    "\n",
    "Constraints:\n",
    "\n",
    "    1 <= nums.length <= 104\n",
    "    -105 <= nums[i] <= 105\n",
    "    0 <= left <= right < nums.length\n",
    "    At most 104 calls will be made to sumRange.\n",
    "\n"
   ]
  },
  {
   "cell_type": "code",
   "execution_count": 119,
   "id": "6827811f-3e72-4a88-8c86-96bfd2758bf6",
   "metadata": {},
   "outputs": [],
   "source": [
    "class NumArray:\n",
    "\n",
    "    def __init__(self, nums: list[int]):\n",
    "        self.preview_sums = [nums[0]]\n",
    "        for i in range(1, len(nums)):\n",
    "            self.preview_sums.append(nums[i] + self.preview_sums[-1])\n",
    "\n",
    "    def sumRange(self, left: int, right: int) -> int:\n",
    "        if left == 0:\n",
    "            return self.preview_sums[right]\n",
    "        return self.preview_sums[right] - self.preview_sums[left - 1]\n",
    "\n",
    "\n",
    "# Your NumArray object will be instantiated and called as such:\n",
    "# obj = NumArray(nums)\n",
    "# param_1 = obj.sumRange(left,right)"
   ]
  },
  {
   "cell_type": "code",
   "execution_count": null,
   "id": "7266758a-94f0-41bc-a05b-30c7cb59ea50",
   "metadata": {},
   "outputs": [],
   "source": []
  }
 ],
 "metadata": {
  "kernelspec": {
   "display_name": "Python 3 (ipykernel)",
   "language": "python",
   "name": "python3"
  },
  "language_info": {
   "codemirror_mode": {
    "name": "ipython",
    "version": 3
   },
   "file_extension": ".py",
   "mimetype": "text/x-python",
   "name": "python",
   "nbconvert_exporter": "python",
   "pygments_lexer": "ipython3",
   "version": "3.10.9"
  }
 },
 "nbformat": 4,
 "nbformat_minor": 5
}
