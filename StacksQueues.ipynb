{
 "cells": [
  {
   "cell_type": "markdown",
   "id": "d8d45970-b6e5-4aca-9b7c-ca8209d319a0",
   "metadata": {},
   "source": [
    "# 20 Valid Parentheses\n",
    "Given a string s containing just the characters '(', ')', '{', '}', '[' and ']', determine if the input string is valid.\n",
    "\n",
    "An input string is valid if:\n",
    "\n",
    "    Open brackets must be closed by the same type of brackets.\n",
    "    Open brackets must be closed in the correct order.\n",
    "    Every close bracket has a corresponding open bracket of the same type.\n",
    "\n",
    " \n",
    "\n",
    "Example 1:\n",
    "\n",
    "Input: s = \"()\"\n",
    "Output: true\n",
    "\n",
    "Example 2:\n",
    "\n",
    "Input: s = \"()[]{}\"\n",
    "Output: true\n",
    "\n",
    "Example 3:\n",
    "\n",
    "Input: s = \"(]\"\n",
    "Output: false\n",
    "\n",
    " \n",
    "\n",
    "Constraints:\n",
    "\n",
    "    1 <= s.length <= 104\n",
    "    s consists of parentheses only '()[]{}'.\n",
    "\n"
   ]
  },
  {
   "cell_type": "code",
   "execution_count": 1,
   "id": "31f4fb8a-fb66-4325-aa1a-76fa02970869",
   "metadata": {},
   "outputs": [],
   "source": [
    "class Solution:\n",
    "    def isValid(self, s: str) -> bool:\n",
    "        bracket_map = {'(':')', '{': '}', '[':']'}\n",
    "        stack = []\n",
    "\n",
    "        for c in s:\n",
    "            if c in bracket_map:\n",
    "                stack.append(c)\n",
    "            else:\n",
    "                if not stack:\n",
    "                    return False\n",
    "                open_bracket = stack.pop()\n",
    "                if bracket_map[open_bracket] != c:\n",
    "                    return False\n",
    "        \n",
    "        return not stack\n"
   ]
  },
  {
   "cell_type": "code",
   "execution_count": 2,
   "id": "470afc29-c559-4f85-b2b4-9e5f1bc26136",
   "metadata": {},
   "outputs": [
    {
     "data": {
      "text/plain": [
       "True"
      ]
     },
     "execution_count": 2,
     "metadata": {},
     "output_type": "execute_result"
    }
   ],
   "source": [
    "s = \"()\"\n",
    "Solution().isValid(s)"
   ]
  },
  {
   "cell_type": "code",
   "execution_count": 3,
   "id": "5eeca65d-d41e-4d72-9dfa-028a8fadbce1",
   "metadata": {},
   "outputs": [
    {
     "data": {
      "text/plain": [
       "True"
      ]
     },
     "execution_count": 3,
     "metadata": {},
     "output_type": "execute_result"
    }
   ],
   "source": [
    "s = \"()[]{}\"\n",
    "Solution().isValid(s)"
   ]
  },
  {
   "cell_type": "code",
   "execution_count": 4,
   "id": "952f919c-62a0-4a47-b003-dc17a9f097bf",
   "metadata": {},
   "outputs": [
    {
     "data": {
      "text/plain": [
       "False"
      ]
     },
     "execution_count": 4,
     "metadata": {},
     "output_type": "execute_result"
    }
   ],
   "source": [
    "s = \"(]\"\n",
    "Solution().isValid(s)"
   ]
  },
  {
   "cell_type": "markdown",
   "id": "3070a8ae-584c-4c58-8631-3580545474e9",
   "metadata": {},
   "source": [
    "# 1047 Remove All Adjacent Duplicates in a String\n",
    "You are given a string s consisting of lowercase English letters. A duplicate removal consists of choosing two adjacent and equal letters and removing them.\n",
    "\n",
    "We repeatedly make duplicate removals on s until we no longer can.\n",
    "\n",
    "Return the final string after all such duplicate removals have been made. It can be proven that the answer is unique.\n",
    "\n",
    " \n",
    "\n",
    "Example 1:\n",
    "\n",
    "Input: s = \"abbaca\"\n",
    "Output: \"ca\"\n",
    "Explanation: \n",
    "For example, in \"abbaca\" we could remove \"bb\" since the letters are adjacent and equal, and this is the only possible move.  The result of this move is that the string is \"aaca\", of which only \"aa\" is possible, so the final string is \"ca\".\n",
    "\n",
    "Example 2:\n",
    "\n",
    "Input: s = \"azxxzy\"\n",
    "Output: \"ay\"\n",
    "\n",
    " \n",
    "\n",
    "Constraints:\n",
    "\n",
    "    1 <= s.length <= 105\n",
    "    s consists of lowercase English letters.\n",
    "\n"
   ]
  },
  {
   "cell_type": "code",
   "execution_count": 5,
   "id": "38794e16-32d6-425a-a8a5-35e2853b529b",
   "metadata": {},
   "outputs": [],
   "source": [
    "class Solution:\n",
    "    def removeDuplicates(self, s: str) -> str:\n",
    "        stack = []\n",
    "\n",
    "        for c in s:\n",
    "            if stack and stack[-1] == c:\n",
    "                stack.pop()\n",
    "            else:\n",
    "                stack.append(c)\n",
    "        \n",
    "        return \"\".join(stack)\n"
   ]
  },
  {
   "cell_type": "code",
   "execution_count": 6,
   "id": "af6e8b12-8b1a-4e47-a84c-179d1b35f8df",
   "metadata": {},
   "outputs": [
    {
     "data": {
      "text/plain": [
       "'ca'"
      ]
     },
     "execution_count": 6,
     "metadata": {},
     "output_type": "execute_result"
    }
   ],
   "source": [
    "s = \"abbaca\"\n",
    "Solution().removeDuplicates(s)"
   ]
  },
  {
   "cell_type": "code",
   "execution_count": 7,
   "id": "45f85444-6588-445d-ba9d-36472ea4b432",
   "metadata": {},
   "outputs": [
    {
     "data": {
      "text/plain": [
       "'ay'"
      ]
     },
     "execution_count": 7,
     "metadata": {},
     "output_type": "execute_result"
    }
   ],
   "source": [
    "s = \"azxxzy\"\n",
    "Solution().removeDuplicates(s)"
   ]
  },
  {
   "cell_type": "markdown",
   "id": "091aa552-26f9-4411-9755-030a8d40346b",
   "metadata": {},
   "source": [
    "# 844 Backspace String Compare\n",
    "Given two strings s and t, return true if they are equal when both are typed into empty text editors. '#' means a backspace character.\n",
    "\n",
    "Note that after backspacing an empty text, the text will continue empty.\n",
    "\n",
    " \n",
    "\n",
    "Example 1:\n",
    "\n",
    "Input: s = \"ab#c\", t = \"ad#c\"\n",
    "Output: true\n",
    "Explanation: Both s and t become \"ac\".\n",
    "\n",
    "Example 2:\n",
    "\n",
    "Input: s = \"ab##\", t = \"c#d#\"\n",
    "Output: true\n",
    "Explanation: Both s and t become \"\".\n",
    "\n",
    "Example 3:\n",
    "\n",
    "Input: s = \"a#c\", t = \"b\"\n",
    "Output: false\n",
    "Explanation: s becomes \"c\" while t becomes \"b\".\n",
    "\n",
    " \n",
    "\n",
    "Constraints:\n",
    "\n",
    "    1 <= s.length, t.length <= 200\n",
    "    s and t only contain lowercase letters and '#' characters.\n"
   ]
  },
  {
   "cell_type": "code",
   "execution_count": 9,
   "id": "88a3cfb6-72c5-420f-a193-f739597f6b69",
   "metadata": {},
   "outputs": [],
   "source": [
    "class Solution:\n",
    "    def backspaceCompare(self, s: str, t: str) -> bool:\n",
    "        def build_string(s: str) -> str:\n",
    "            stack = []\n",
    "            for c in s:\n",
    "                if c != \"#\":\n",
    "                    stack.append(c)\n",
    "                elif stack:\n",
    "                    stack.pop()\n",
    "            return \"\".join(stack)\n",
    "\n",
    "        return build_string(s) == build_string(t)"
   ]
  },
  {
   "cell_type": "code",
   "execution_count": 10,
   "id": "7e2452d5-76c9-4000-a2e1-306c570bc88e",
   "metadata": {},
   "outputs": [
    {
     "data": {
      "text/plain": [
       "True"
      ]
     },
     "execution_count": 10,
     "metadata": {},
     "output_type": "execute_result"
    }
   ],
   "source": [
    "s = \"ab#c\"\n",
    "t = \"ad#c\"\n",
    "Solution().backspaceCompare(s, t)"
   ]
  },
  {
   "cell_type": "code",
   "execution_count": 11,
   "id": "9bb1165b-3461-46a9-a2fd-359d9b101486",
   "metadata": {},
   "outputs": [
    {
     "data": {
      "text/plain": [
       "True"
      ]
     },
     "execution_count": 11,
     "metadata": {},
     "output_type": "execute_result"
    }
   ],
   "source": [
    "s = \"ab##\"\n",
    "t = \"c#d#\"\n",
    "Solution().backspaceCompare(s, t)"
   ]
  },
  {
   "cell_type": "code",
   "execution_count": 12,
   "id": "246155b6-3dd1-4b25-8fed-e835cb8ae9ca",
   "metadata": {},
   "outputs": [
    {
     "data": {
      "text/plain": [
       "False"
      ]
     },
     "execution_count": 12,
     "metadata": {},
     "output_type": "execute_result"
    }
   ],
   "source": [
    "s = \"a#c\"\n",
    "t = \"b\"\n",
    "Solution().backspaceCompare(s, t)"
   ]
  },
  {
   "cell_type": "markdown",
   "id": "94c742b7-6385-4995-920b-8509e1445415",
   "metadata": {},
   "source": [
    "# 1544 Make the String Great\n",
    "Given a string s of lower and upper case English letters.\n",
    "\n",
    "A good string is a string which doesn't have two adjacent characters s[i] and s[i + 1] where:\n",
    "\n",
    "    0 <= i <= s.length - 2\n",
    "    s[i] is a lower-case letter and s[i + 1] is the same letter but in upper-case or vice-versa.\n",
    "\n",
    "To make the string good, you can choose two adjacent characters that make the string bad and remove them. You can keep doing this until the string becomes good.\n",
    "\n",
    "Return the string after making it good. The answer is guaranteed to be unique under the given constraints.\n",
    "\n",
    "Notice that an empty string is also good.\n",
    "\n",
    " \n",
    "\n",
    "Example 1:\n",
    "\n",
    "Input: s = \"leEeetcode\"\n",
    "Output: \"leetcode\"\n",
    "Explanation: In the first step, either you choose i = 1 or i = 2, both will result \"leEeetcode\" to be reduced to \"leetcode\".\n",
    "\n",
    "Example 2:\n",
    "\n",
    "Input: s = \"abBAcC\"\n",
    "Output: \"\"\n",
    "Explanation: We have many possible scenarios, and all lead to the same answer. For example:\n",
    "\"abBAcC\" --> \"aAcC\" --> \"cC\" --> \"\"\n",
    "\"abBAcC\" --> \"abBA\" --> \"aA\" --> \"\"\n",
    "\n",
    "Example 3:\n",
    "\n",
    "Input: s = \"s\"\n",
    "Output: \"s\"\n",
    "\n",
    " \n",
    "\n",
    "Constraints:\n",
    "\n",
    "    1 <= s.length <= 100\n",
    "    s contains only lower and upper case English letters.\n",
    "\n"
   ]
  },
  {
   "cell_type": "code",
   "execution_count": 13,
   "id": "e269bcbf-646f-438c-aa66-93467fe28711",
   "metadata": {},
   "outputs": [],
   "source": [
    "class Solution:\n",
    "    def makeGood(self, s: str) -> str:\n",
    "        stack = []\n",
    "        for c in s:\n",
    "            if stack and c.islower() and stack[-1].isupper() and c == stack[-1].lower():\n",
    "                stack.pop()\n",
    "            elif stack and c.isupper() and stack[-1].islower() and c == stack[-1].upper():\n",
    "                stack.pop()\n",
    "            else:\n",
    "                stack.append(c)\n",
    "        return \"\".join(stack)"
   ]
  },
  {
   "cell_type": "code",
   "execution_count": 14,
   "id": "160b9c2d-1819-430f-8a17-c13ee7c74fbf",
   "metadata": {},
   "outputs": [
    {
     "data": {
      "text/plain": [
       "'leetcode'"
      ]
     },
     "execution_count": 14,
     "metadata": {},
     "output_type": "execute_result"
    }
   ],
   "source": [
    "s = \"leEeetcode\"\n",
    "Solution().makeGood(s)"
   ]
  },
  {
   "cell_type": "code",
   "execution_count": 15,
   "id": "88accd37-cb04-4d15-aab2-b12f160f4522",
   "metadata": {},
   "outputs": [
    {
     "data": {
      "text/plain": [
       "''"
      ]
     },
     "execution_count": 15,
     "metadata": {},
     "output_type": "execute_result"
    }
   ],
   "source": [
    "s = \"abBAcC\"\n",
    "Solution().makeGood(s)"
   ]
  },
  {
   "cell_type": "code",
   "execution_count": 16,
   "id": "c8b36009-63fd-4e7e-a370-070cbd775076",
   "metadata": {},
   "outputs": [
    {
     "data": {
      "text/plain": [
       "'s'"
      ]
     },
     "execution_count": 16,
     "metadata": {},
     "output_type": "execute_result"
    }
   ],
   "source": [
    "s = \"s\"\n",
    "Solution().makeGood(s)"
   ]
  },
  {
   "cell_type": "markdown",
   "id": "6eff86d6-49a8-43db-ab24-c3bdf36aa409",
   "metadata": {},
   "source": [
    "# 346 Moving Average in a Queue\n",
    "Given a stream of integers and a window size, calculate the moving average of all integers in the sliding window.\n",
    "\n",
    "Implement the MovingAverage class:\n",
    "\n",
    "    MovingAverage(int size) Initializes the object with the size of the window size.\n",
    "    double next(int val) Returns the moving average of the last size values of the stream.\n",
    "\n",
    " \n",
    "\n",
    "Example 1:\n",
    "\n",
    "Input\n",
    "[\"MovingAverage\", \"next\", \"next\", \"next\", \"next\"]\n",
    "[[3], [1], [10], [3], [5]]\n",
    "Output\n",
    "[null, 1.0, 5.5, 4.66667, 6.0]\n",
    "\n",
    "Explanation\n",
    "MovingAverage movingAverage = new MovingAverage(3);\n",
    "movingAverage.next(1); // return 1.0 = 1 / 1\n",
    "movingAverage.next(10); // return 5.5 = (1 + 10) / 2\n",
    "movingAverage.next(3); // return 4.66667 = (1 + 10 + 3) / 3\n",
    "movingAverage.next(5); // return 6.0 = (10 + 3 + 5) / 3\n",
    "\n",
    " \n",
    "\n",
    "Constraints:\n",
    "\n",
    "    1 <= size <= 1000\n",
    "    -105 <= val <= 105\n",
    "    At most 104 calls will be made to next.\n",
    "\n"
   ]
  },
  {
   "cell_type": "code",
   "execution_count": 17,
   "id": "e1049a0a-294c-49aa-89b5-b698ebc0df52",
   "metadata": {},
   "outputs": [],
   "source": [
    "from collections import deque\n",
    "class MovingAverage:\n",
    "\n",
    "    def __init__(self, size: int):\n",
    "        self.size = size\n",
    "        self.queue = deque([])\n",
    "        self.sum = 0\n",
    "\n",
    "    def next(self, val: int) -> float:\n",
    "        self.queue.append(val)\n",
    "        self.sum += val\n",
    "        while len(self.queue) > self.size:\n",
    "            temp = self.queue.popleft()\n",
    "            self.sum -= temp\n",
    "        return self.sum / len(self.queue)\n",
    "\n",
    "\n",
    "# Your MovingAverage object will be instantiated and called as such:\n",
    "# obj = MovingAverage(size)\n",
    "# param_1 = obj.next(val)"
   ]
  },
  {
   "cell_type": "markdown",
   "id": "4671f2b1-040b-4009-a2b2-880dabd092fd",
   "metadata": {},
   "source": [
    "# 739 Daily Temperatures\n",
    "Given an array of integers temperatures represents the daily temperatures, return an array answer such that answer[i] is the number of days you have to wait after the ith day to get a warmer temperature. If there is no future day for which this is possible, keep answer[i] == 0 instead.\n",
    "\n",
    " \n",
    "\n",
    "Example 1:\n",
    "\n",
    "Input: temperatures = [73,74,75,71,69,72,76,73]\n",
    "Output: [1,1,4,2,1,1,0,0]\n",
    "\n",
    "Example 2:\n",
    "\n",
    "Input: temperatures = [30,40,50,60]\n",
    "Output: [1,1,1,0]\n",
    "\n",
    "Example 3:\n",
    "\n",
    "Input: temperatures = [30,60,90]\n",
    "Output: [1,1,0]\n",
    "\n",
    " \n",
    "\n",
    "Constraints:\n",
    "\n",
    "    1 <= temperatures.length <= 105\n",
    "    30 <= temperatures[i] <= 100\n",
    "\n"
   ]
  },
  {
   "cell_type": "code",
   "execution_count": 19,
   "id": "7b43902f-cdd2-45fc-a8ee-31655317445e",
   "metadata": {},
   "outputs": [],
   "source": [
    "# using monotonically decreasing stack\n",
    "class Solution:\n",
    "    def dailyTemperatures(self, temperatures: list[int]) -> list[int]:\n",
    "        stack = []\n",
    "        answer = [0 for _ in range(len(temperatures))]\n",
    "\n",
    "        for i in range(len(temperatures)):\n",
    "            while stack and temperatures[i] > temperatures[stack[-1]]:\n",
    "                index = stack.pop()\n",
    "                answer[index] = i - index\n",
    "            stack.append(i)\n",
    "        \n",
    "        return answer "
   ]
  },
  {
   "cell_type": "code",
   "execution_count": 20,
   "id": "16756ce9-d9e0-4478-a0b8-5f30ac3537be",
   "metadata": {},
   "outputs": [
    {
     "data": {
      "text/plain": [
       "[1, 1, 4, 2, 1, 1, 0, 0]"
      ]
     },
     "execution_count": 20,
     "metadata": {},
     "output_type": "execute_result"
    }
   ],
   "source": [
    "temperatures = [73,74,75,71,69,72,76,73]\n",
    "Solution().dailyTemperatures(temperatures)"
   ]
  },
  {
   "cell_type": "code",
   "execution_count": 21,
   "id": "bd9613e2-00bf-40a9-ae51-d2cf5d6a9ad9",
   "metadata": {},
   "outputs": [
    {
     "data": {
      "text/plain": [
       "[1, 1, 1, 0]"
      ]
     },
     "execution_count": 21,
     "metadata": {},
     "output_type": "execute_result"
    }
   ],
   "source": [
    "temperatures = [30,40,50,60] \n",
    "Solution().dailyTemperatures(temperatures)"
   ]
  },
  {
   "cell_type": "code",
   "execution_count": 22,
   "id": "c848b3ef-cc97-4284-a351-00f2d1858ca6",
   "metadata": {},
   "outputs": [
    {
     "data": {
      "text/plain": [
       "[1, 1, 0]"
      ]
     },
     "execution_count": 22,
     "metadata": {},
     "output_type": "execute_result"
    }
   ],
   "source": [
    "temperatures = [30,60,90]\n",
    "Solution().dailyTemperatures(temperatures)"
   ]
  },
  {
   "cell_type": "markdown",
   "id": "2c95b0c8-3c3d-4f95-94c8-a204f2ea012e",
   "metadata": {},
   "source": [
    "# 239 Sliding Window Maximum\n",
    "You are given an array of integers nums, there is a sliding window of size k which is moving from the very left of the array to the very right. You can only see the k numbers in the window. Each time the sliding window moves right by one position.\n",
    "\n",
    "Return the max sliding window.\n",
    "\n",
    " \n",
    "\n",
    "Example 1:\n",
    "\n",
    "Input: nums = [1,3,-1,-3,5,3,6,7], k = 3\n",
    "Output: [3,3,5,5,6,7]\n",
    "Explanation: \n",
    "Window position                Max\n",
    "---------------               -----\n",
    "[1  3  -1] -3  5  3  6  7       3\n",
    " 1 [3  -1  -3] 5  3  6  7       3\n",
    " 1  3 [-1  -3  5] 3  6  7       5\n",
    " 1  3  -1 [-3  5  3] 6  7       5\n",
    " 1  3  -1  -3 [5  3  6] 7       6\n",
    " 1  3  -1  -3  5 [3  6  7]      7\n",
    "\n",
    "Example 2:\n",
    "\n",
    "Input: nums = [1], k = 1\n",
    "Output: [1]\n",
    "\n",
    " \n",
    "\n",
    "Constraints:\n",
    "\n",
    "    1 <= nums.length <= 105\n",
    "    -104 <= nums[i] <= 104\n",
    "    1 <= k <= nums.length\n",
    "\n"
   ]
  },
  {
   "cell_type": "code",
   "execution_count": 24,
   "id": "57198555-738d-43e2-a587-50510aa4b9ef",
   "metadata": {},
   "outputs": [],
   "source": [
    "from collections import deque\n",
    "\n",
    "class Solution:\n",
    "    def maxSlidingWindow(self, nums: list[int], k: int) ->list[int]:\n",
    "        ans = []\n",
    "        queue = deque()\n",
    "        for i in range(len(nums)):\n",
    "            # maintain monotonic decreasing.\n",
    "            # all elements in the deque smaller than the current one\n",
    "            # have no chance of being the maximum, so get rid of them\n",
    "            while queue and nums[i] > nums[queue[-1]]:\n",
    "                queue.pop()\n",
    "\n",
    "            queue.append(i)\n",
    "\n",
    "            # queue[0] is the index of the maximum element.\n",
    "            # if queue[0] + k == i, then it is outside the window\n",
    "            if queue[0] + k == i:\n",
    "                queue.popleft()\n",
    "            \n",
    "            # only add to the answer once our window has reached size k\n",
    "            if i >= k - 1:\n",
    "                ans.append(nums[queue[0]])\n",
    "\n",
    "        return ans"
   ]
  },
  {
   "cell_type": "markdown",
   "id": "1cb01aab-f023-4b14-8c71-e9926298b68f",
   "metadata": {},
   "source": [
    "# 1438. Longest Continuous Subarray With Absolute Diff Less Than or Equal to Limit\n",
    "\n",
    "Given an array of integers nums and an integer limit, return the size of the longest non-empty subarray such that the absolute difference between any two elements of this subarray is less than or equal to limit.\n",
    "\n",
    " \n",
    "\n",
    "Example 1:\n",
    "\n",
    "Input: nums = [8,2,4,7], limit = 4\n",
    "Output: 2 \n",
    "Explanation: All subarrays are: \n",
    "[8] with maximum absolute diff |8-8| = 0 <= 4.\n",
    "[8,2] with maximum absolute diff |8-2| = 6 > 4. \n",
    "[8,2,4] with maximum absolute diff |8-2| = 6 > 4.\n",
    "[8,2,4,7] with maximum absolute diff |8-2| = 6 > 4.\n",
    "[2] with maximum absolute diff |2-2| = 0 <= 4.\n",
    "[2,4] with maximum absolute diff |2-4| = 2 <= 4.\n",
    "[2,4,7] with maximum absolute diff |2-7| = 5 > 4.\n",
    "[4] with maximum absolute diff |4-4| = 0 <= 4.\n",
    "[4,7] with maximum absolute diff |4-7| = 3 <= 4.\n",
    "[7] with maximum absolute diff |7-7| = 0 <= 4. \n",
    "Therefore, the size of the longest subarray is 2.\n",
    "\n",
    "Example 2:\n",
    "\n",
    "Input: nums = [10,1,2,4,7,2], limit = 5\n",
    "Output: 4 \n",
    "Explanation: The subarray [2,4,7,2] is the longest since the maximum absolute diff is |2-7| = 5 <= 5.\n",
    "\n",
    "Example 3:\n",
    "\n",
    "Input: nums = [4,2,2,2,4,4,2,2], limit = 0\n",
    "Output: 3\n",
    "\n",
    " \n",
    "\n",
    "Constraints:\n",
    "\n",
    "    1 <= nums.length <= 105\n",
    "    1 <= nums[i] <= 109\n",
    "    0 <= limit <= 109\n",
    "\n"
   ]
  },
  {
   "cell_type": "code",
   "execution_count": 25,
   "id": "4635610f-ca40-4b48-b804-67a116535767",
   "metadata": {},
   "outputs": [],
   "source": [
    "from collections import deque\n",
    "\n",
    "class Solution:\n",
    "    def longestSubarray(self, nums: list[int], limit: int) -> int:\n",
    "        increasing = deque()\n",
    "        decreasing = deque()\n",
    "\n",
    "        left = answer = 0\n",
    "        for right in range(len(nums)):\n",
    "            while increasing and increasing[-1] > nums[right]:\n",
    "                increasing.pop()\n",
    "            while decreasing and decreasing[-1] < nums[right]:\n",
    "                decreasing.pop()\n",
    "          \n",
    "            increasing.append(nums[right])\n",
    "            decreasing.append(nums[right])\n",
    "\n",
    "            while decreasing[0] - increasing[0] > limit:\n",
    "                if decreasing[0] == nums[left]:\n",
    "                    decreasing.popleft()\n",
    "                if increasing[0] == nums[left]:\n",
    "                    increasing.popleft()\n",
    "                left += 1\n",
    "\n",
    "            answer = max(answer, right - left + 1)\n",
    "\n",
    "        return answer\n"
   ]
  },
  {
   "cell_type": "code",
   "execution_count": 26,
   "id": "bad482f2-f49b-4e8d-a03a-31d24f73bae0",
   "metadata": {},
   "outputs": [
    {
     "data": {
      "text/plain": [
       "2"
      ]
     },
     "execution_count": 26,
     "metadata": {},
     "output_type": "execute_result"
    }
   ],
   "source": [
    "nums = [8,2,4,7]\n",
    "limit = 4\n",
    "Solution().longestSubarray(nums, limit)"
   ]
  },
  {
   "cell_type": "code",
   "execution_count": 27,
   "id": "02d623b0-5538-4060-b091-b02234065483",
   "metadata": {},
   "outputs": [
    {
     "data": {
      "text/plain": [
       "4"
      ]
     },
     "execution_count": 27,
     "metadata": {},
     "output_type": "execute_result"
    }
   ],
   "source": [
    "nums = [10,1,2,4,7,2]\n",
    "limit = 5\n",
    "Solution().longestSubarray(nums, limit)"
   ]
  },
  {
   "cell_type": "code",
   "execution_count": 28,
   "id": "b86bf858-4745-41ff-bfbe-80d31ec67fd7",
   "metadata": {},
   "outputs": [
    {
     "data": {
      "text/plain": [
       "3"
      ]
     },
     "execution_count": 28,
     "metadata": {},
     "output_type": "execute_result"
    }
   ],
   "source": [
    "nums = [4,2,2,2,4,4,2,2]\n",
    "limit = 0\n",
    "Solution().longestSubarray(nums, limit)"
   ]
  },
  {
   "cell_type": "markdown",
   "id": "567c9e87-0e8e-43eb-9652-031d45ac250b",
   "metadata": {},
   "source": [
    "# 496 Next Greater Element I\n",
    "The next greater element of some element x in an array is the first greater element that is to the right of x in the same array.\n",
    "\n",
    "You are given two distinct 0-indexed integer arrays nums1 and nums2, where nums1 is a subset of nums2.\n",
    "\n",
    "For each 0 <= i < nums1.length, find the index j such that nums1[i] == nums2[j] and determine the next greater element of nums2[j] in nums2. If there is no next greater element, then the answer for this query is -1.\n",
    "\n",
    "Return an array ans of length nums1.length such that ans[i] is the next greater element as described above.\n",
    "\n",
    " \n",
    "\n",
    "Example 1:\n",
    "\n",
    "Input: nums1 = [4,1,2], nums2 = [1,3,4,2]\n",
    "Output: [-1,3,-1]\n",
    "Explanation: The next greater element for each value of nums1 is as follows:\n",
    "- 4 is underlined in nums2 = [1,3,4,2]. There is no next greater element, so the answer is -1.\n",
    "- 1 is underlined in nums2 = [1,3,4,2]. The next greater element is 3.\n",
    "- 2 is underlined in nums2 = [1,3,4,2]. There is no next greater element, so the answer is -1.\n",
    "\n",
    "Example 2:\n",
    "\n",
    "Input: nums1 = [2,4], nums2 = [1,2,3,4]\n",
    "Output: [3,-1]\n",
    "Explanation: The next greater element for each value of nums1 is as follows:\n",
    "- 2 is underlined in nums2 = [1,2,3,4]. The next greater element is 3.\n",
    "- 4 is underlined in nums2 = [1,2,3,4]. There is no next greater element, so the answer is -1.\n",
    "\n",
    " \n",
    "\n",
    "Constraints:\n",
    "\n",
    "    1 <= nums1.length <= nums2.length <= 1000\n",
    "    0 <= nums1[i], nums2[i] <= 104\n",
    "    All integers in nums1 and nums2 are unique.\n",
    "    All the integers of nums1 also appear in nums2.\n"
   ]
  },
  {
   "cell_type": "code",
   "execution_count": 29,
   "id": "600dc31c-31b6-4864-b9f7-577557816123",
   "metadata": {},
   "outputs": [],
   "source": [
    "class Solution:\n",
    "    def nextGreaterElement(self, nums1: list[int], nums2: list[int]) -> list[int]:\n",
    "        next_map = {}\n",
    "        stack = []\n",
    "\n",
    "        for num in nums2:\n",
    "            while stack and stack[-1] < num:\n",
    "                item = stack.pop()\n",
    "                next_map[item] = num\n",
    "            stack.append(num)\n",
    "        \n",
    "        answer = []\n",
    "        for num in nums1:\n",
    "            answer.append(next_map[num] if next_map.get(num) else -1)\n",
    "        return answer"
   ]
  },
  {
   "cell_type": "code",
   "execution_count": 30,
   "id": "41fc286b-e0f8-4413-a4a4-c702aad28f5c",
   "metadata": {},
   "outputs": [
    {
     "data": {
      "text/plain": [
       "[-1, 3, -1]"
      ]
     },
     "execution_count": 30,
     "metadata": {},
     "output_type": "execute_result"
    }
   ],
   "source": [
    "nums1 = [4,1,2]\n",
    "nums2 = [1,3,4,2]\n",
    "Solution().nextGreaterElement(nums1, nums2)"
   ]
  },
  {
   "cell_type": "code",
   "execution_count": 31,
   "id": "1dc732de-540d-47ec-96a1-3c27682dbc79",
   "metadata": {},
   "outputs": [
    {
     "data": {
      "text/plain": [
       "[3, -1]"
      ]
     },
     "execution_count": 31,
     "metadata": {},
     "output_type": "execute_result"
    }
   ],
   "source": [
    "nums1 = [2,4]\n",
    "nums2 = [1,2,3,4]\n",
    "Solution().nextGreaterElement(nums1, nums2)"
   ]
  },
  {
   "cell_type": "markdown",
   "id": "b209653b-f3bc-4199-9f66-9cccc2209567",
   "metadata": {},
   "source": [
    "# 901 Online Stock Span\n",
    "\n",
    "Design an algorithm that collects daily price quotes for some stock and returns the span of that stock's price for the current day.\n",
    "\n",
    "The span of the stock's price in one day is the maximum number of consecutive days (starting from that day and going backward) for which the stock price was less than or equal to the price of that day.\n",
    "\n",
    "    For example, if the prices of the stock in the last four days is [7,2,1,2] and the price of the stock today is 2, then the span of today is 4 because starting from today, the price of the stock was less than or equal 2 for 4 consecutive days.\n",
    "    Also, if the prices of the stock in the last four days is [7,34,1,2] and the price of the stock today is 8, then the span of today is 3 because starting from today, the price of the stock was less than or equal 8 for 3 consecutive days.\n",
    "\n",
    "Implement the StockSpanner class:\n",
    "\n",
    "    StockSpanner() Initializes the object of the class.\n",
    "    int next(int price) Returns the span of the stock's price given that today's price is price.\n",
    "\n",
    " \n",
    "\n",
    "Example 1:\n",
    "\n",
    "Input\n",
    "[\"StockSpanner\", \"next\", \"next\", \"next\", \"next\", \"next\", \"next\", \"next\"]\n",
    "[[], [100], [80], [60], [70], [60], [75], [85]]\n",
    "Output\n",
    "[null, 1, 1, 1, 2, 1, 4, 6]\n",
    "\n",
    "Explanation\n",
    "StockSpanner stockSpanner = new StockSpanner();\n",
    "stockSpanner.next(100); // return 1\n",
    "stockSpanner.next(80);  // return 1\n",
    "stockSpanner.next(60);  // return 1\n",
    "stockSpanner.next(70);  // return 2\n",
    "stockSpanner.next(60);  // return 1\n",
    "stockSpanner.next(75);  // return 4, because the last 4 prices (including today's price of 75) were less than or equal to today's price.\n",
    "stockSpanner.next(85);  // return 6\n",
    "\n",
    " \n",
    "\n",
    "Constraints:\n",
    "\n",
    "    1 <= price <= 105\n",
    "    At most 104 calls will be made to next.\n",
    "\n"
   ]
  },
  {
   "cell_type": "code",
   "execution_count": 32,
   "id": "bbc34eb2-a511-480d-a9bf-b88a28cce389",
   "metadata": {},
   "outputs": [],
   "source": [
    "class StockSpanner:\n",
    "\n",
    "    def __init__(self):\n",
    "        self.stack = [] # monotonically decreasing stack\n",
    "\n",
    "    def next(self, price: int) -> int:\n",
    "        answer = 1 # the minimum answer\n",
    "        # if the element before is less, it breaks the decreasing property\n",
    "        while self.stack and self.stack[-1][0] <= price:\n",
    "            answer += self.stack.pop()[1] # add previous answer        \n",
    "        self.stack.append([price, answer])\n",
    "\n",
    "        return answer\n",
    "\n",
    "\n",
    "# Your StockSpanner object will be instantiated and called as such:\n",
    "# obj = StockSpanner()\n",
    "# param_1 = obj.next(price)"
   ]
  },
  {
   "cell_type": "markdown",
   "id": "b2db7c5e-d1e0-4a35-a931-d842e5989a38",
   "metadata": {},
   "source": [
    "# 2390 Removing Stars From a String\n",
    "You are given a string s, which contains stars *.\n",
    "\n",
    "In one operation, you can:\n",
    "\n",
    "    Choose a star in s.\n",
    "    Remove the closest non-star character to its left, as well as remove the star itself.\n",
    "\n",
    "Return the string after all stars have been removed.\n",
    "\n",
    "Note:\n",
    "\n",
    "    The input will be generated such that the operation is always possible.\n",
    "    It can be shown that the resulting string will always be unique.\n",
    "\n",
    " \n",
    "\n",
    "Example 1:\n",
    "\n",
    "Input: s = \"leet**cod*e\"\n",
    "Output: \"lecoe\"\n",
    "Explanation: Performing the removals from left to right:\n",
    "- The closest character to the 1st star is 't' in \"leet**cod*e\". s becomes \"lee*cod*e\".\n",
    "- The closest character to the 2nd star is 'e' in \"lee*cod*e\". s becomes \"lecod*e\".\n",
    "- The closest character to the 3rd star is 'd' in \"lecod*e\". s becomes \"lecoe\".\n",
    "There are no more stars, so we return \"lecoe\".\n",
    "\n",
    "Example 2:\n",
    "\n",
    "Input: s = \"erase*****\"\n",
    "Output: \"\"\n",
    "Explanation: The entire string is removed, so we return an empty string.\n",
    "\n",
    " \n",
    "\n",
    "Constraints:\n",
    "\n",
    "    1 <= s.length <= 105\n",
    "    s consists of lowercase English letters and stars *.\n",
    "    The operation above can be performed on s.\n",
    "\n"
   ]
  },
  {
   "cell_type": "code",
   "execution_count": 33,
   "id": "45069823-c281-480b-a860-817399b4da42",
   "metadata": {},
   "outputs": [],
   "source": [
    "class Solution:\n",
    "    def removeStars(self, s: str) -> str:\n",
    "        stack = []\n",
    "        for c in s:\n",
    "            if c == \"*\":\n",
    "                if stack:\n",
    "                    stack.pop()\n",
    "            else:\n",
    "                stack.append(c)\n",
    "\n",
    "        return \"\".join(stack)"
   ]
  },
  {
   "cell_type": "code",
   "execution_count": 34,
   "id": "ac7277e1-8daa-4a06-b459-1313baaa52d1",
   "metadata": {},
   "outputs": [
    {
     "data": {
      "text/plain": [
       "'leecode'"
      ]
     },
     "execution_count": 34,
     "metadata": {},
     "output_type": "execute_result"
    }
   ],
   "source": [
    "s = \"leet*code\"\n",
    "Solution().removeStars(s)"
   ]
  },
  {
   "cell_type": "code",
   "execution_count": 35,
   "id": "e4ebc7b0-dc4d-46d8-9391-55a0ddf06334",
   "metadata": {},
   "outputs": [
    {
     "data": {
      "text/plain": [
       "''"
      ]
     },
     "execution_count": 35,
     "metadata": {},
     "output_type": "execute_result"
    }
   ],
   "source": [
    "s = \"erase*****\"\n",
    "Solution().removeStars(s)"
   ]
  },
  {
   "cell_type": "markdown",
   "id": "b07578bf-49e3-4073-89d9-26874259b8cc",
   "metadata": {},
   "source": [
    "# 232 Implement Queue Using Stacks\n",
    "\n",
    "Implement a first in first out (FIFO) queue using only two stacks. The implemented queue should support all the functions of a normal queue (push, peek, pop, and empty).\n",
    "\n",
    "Implement the MyQueue class:\n",
    "\n",
    "    void push(int x) Pushes element x to the back of the queue.\n",
    "    int pop() Removes the element from the front of the queue and returns it.\n",
    "    int peek() Returns the element at the front of the queue.\n",
    "    boolean empty() Returns true if the queue is empty, false otherwise.\n",
    "\n",
    "Notes:\n",
    "\n",
    "    You must use only standard operations of a stack, which means only push to top, peek/pop from top, size, and is empty operations are valid.\n",
    "    Depending on your language, the stack may not be supported natively. You may simulate a stack using a list or deque (double-ended queue) as long as you use only a stack's standard operations.\n",
    "\n",
    " \n",
    "\n",
    "Example 1:\n",
    "\n",
    "Input\n",
    "[\"MyQueue\", \"push\", \"push\", \"peek\", \"pop\", \"empty\"]\n",
    "[[], [1], [2], [], [], []]\n",
    "Output\n",
    "[null, null, null, 1, 1, false]\n",
    "\n",
    "Explanation\n",
    "MyQueue myQueue = new MyQueue();\n",
    "myQueue.push(1); // queue is: [1]\n",
    "myQueue.push(2); // queue is: [1, 2] (leftmost is front of the queue)\n",
    "myQueue.peek(); // return 1\n",
    "myQueue.pop(); // return 1, queue is [2]\n",
    "myQueue.empty(); // return false\n",
    "\n",
    " \n",
    "\n",
    "Constraints:\n",
    "\n",
    "    1 <= x <= 9\n",
    "    At most 100 calls will be made to push, pop, peek, and empty.\n",
    "    All the calls to pop and peek are valid.\n"
   ]
  },
  {
   "cell_type": "code",
   "execution_count": 36,
   "id": "fb7da98a-aed2-4815-8936-895b20bf77c4",
   "metadata": {},
   "outputs": [],
   "source": [
    "class MyQueue:\n",
    "\n",
    "    def __init__(self):\n",
    "        self.stack_one = []\n",
    "        self.stack_two = []\n",
    "\n",
    "    def push(self, x: int) -> None:\n",
    "        self.stack_one.append(x)\n",
    "\n",
    "    def pop(self) -> int:\n",
    "        while len(self.stack_one) > 1:\n",
    "            self.stack_two.append(self.stack_one.pop())\n",
    "        result = self.stack_one.pop() if self.stack_one else None\n",
    "        while self.stack_two:\n",
    "            self.push(self.stack_two.pop())\n",
    "        return result\n",
    "\n",
    "    def peek(self) -> int:\n",
    "        while len(self.stack_one) > 1:\n",
    "            self.stack_two.append(self.stack_one.pop())\n",
    "        result = self.stack_one.pop() if self.stack_one else None\n",
    "        self.push(result)\n",
    "        while self.stack_two:\n",
    "            self.push(self.stack_two.pop())\n",
    "        return result\n",
    "\n",
    "    def empty(self) -> bool:\n",
    "        return not self.stack_one\n",
    "\n",
    "\n",
    "# Your MyQueue object will be instantiated and called as such:\n",
    "# obj = MyQueue()\n",
    "# obj.push(x)\n",
    "# param_2 = obj.pop()\n",
    "# param_3 = obj.peek()\n",
    "# param_4 = obj.empty()"
   ]
  },
  {
   "cell_type": "markdown",
   "id": "db5a9516-f498-4a68-b556-57b5a26edd3f",
   "metadata": {},
   "source": [
    "# 946 Validate Stack Sequence\n",
    "Given two integer arrays pushed and popped each with distinct values, return true if this could have been the result of a sequence of push and pop operations on an initially empty stack, or false otherwise.\n",
    "\n",
    " \n",
    "\n",
    "Example 1:\n",
    "\n",
    "Input: pushed = [1,2,3,4,5], popped = [4,5,3,2,1]\n",
    "Output: true\n",
    "Explanation: We might do the following sequence:\n",
    "push(1), push(2), push(3), push(4),\n",
    "pop() -> 4,\n",
    "push(5),\n",
    "pop() -> 5, pop() -> 3, pop() -> 2, pop() -> 1\n",
    "\n",
    "Example 2:\n",
    "\n",
    "Input: pushed = [1,2,3,4,5], popped = [4,3,5,1,2]\n",
    "Output: false\n",
    "Explanation: 1 cannot be popped before 2.\n",
    "\n",
    " \n",
    "\n",
    "Constraints:\n",
    "\n",
    "    1 <= pushed.length <= 1000\n",
    "    0 <= pushed[i] <= 1000\n",
    "    All the elements of pushed are unique.\n",
    "    popped.length == pushed.length\n",
    "    popped is a permutation of pushed.\n",
    "\n"
   ]
  },
  {
   "cell_type": "code",
   "execution_count": 37,
   "id": "a1dbac67-7cfb-4ea5-a1a9-9800ed5e515a",
   "metadata": {},
   "outputs": [],
   "source": [
    "class Solution:\n",
    "    def validateStackSequences(self, pushed: list[int], popped: list[int]) -> bool:\n",
    "\n",
    "        stack = []\n",
    "        j = 0\n",
    "        for p in pushed:\n",
    "            stack.append(p)\n",
    "            while stack and stack[-1] == popped[j]:\n",
    "                stack.pop()\n",
    "                j += 1\n",
    "        return len(stack) == 0\n"
   ]
  },
  {
   "cell_type": "markdown",
   "id": "30136dda-c29d-4923-b845-60d1ccb119df",
   "metadata": {},
   "source": [
    "# 155 Min Stack\n",
    "Design a stack that supports push, pop, top, and retrieving the minimum element in constant time.\n",
    "\n",
    "Implement the MinStack class:\n",
    "\n",
    "    MinStack() initializes the stack object.\n",
    "    void push(int val) pushes the element val onto the stack.\n",
    "    void pop() removes the element on the top of the stack.\n",
    "    int top() gets the top element of the stack.\n",
    "    int getMin() retrieves the minimum element in the stack.\n",
    "\n",
    "You must implement a solution with O(1) time complexity for each function.\n",
    "\n",
    " \n",
    "\n",
    "Example 1:\n",
    "\n",
    "Input\n",
    "[\"MinStack\",\"push\",\"push\",\"push\",\"getMin\",\"pop\",\"top\",\"getMin\"]\n",
    "[[],[-2],[0],[-3],[],[],[],[]]\n",
    "\n",
    "Output\n",
    "[null,null,null,null,-3,null,0,-2]\n",
    "\n",
    "Explanation\n",
    "MinStack minStack = new MinStack();\n",
    "minStack.push(-2);\n",
    "minStack.push(0);\n",
    "minStack.push(-3);\n",
    "minStack.getMin(); // return -3\n",
    "minStack.pop();\n",
    "minStack.top();    // return 0\n",
    "minStack.getMin(); // return -2\n",
    "\n",
    " \n",
    "\n",
    "Constraints:\n",
    "\n",
    "    -231 <= val <= 231 - 1\n",
    "    Methods pop, top and getMin operations will always be called on non-empty stacks.\n",
    "    At most 3 * 104 calls will be made to push, pop, top, and getMin.\n",
    "\n"
   ]
  },
  {
   "cell_type": "code",
   "execution_count": 2,
   "id": "efc42803-61c7-43f8-aca2-32ebd6b7a0b4",
   "metadata": {},
   "outputs": [],
   "source": [
    "class MinStack:\n",
    "\n",
    "    def __init__(self):\n",
    "        self.stack = []\n",
    "        self.minimum = [] # keeps a running minimum of each element that is appended to the stack\n",
    "        # whenever something is removed from the main stack, the minimum is remembered\n",
    "\n",
    "    def push(self, val: int) -> None:\n",
    "        self.stack.append(val)\n",
    "        self.minimum.append(val if not self.minimum else min(self.minimum[-1], val))\n",
    "    \n",
    "    def pop(self) -> None:\n",
    "        if self.stack:\n",
    "            result = self.stack.pop()\n",
    "            self.minimum.pop()\n",
    "            return result\n",
    "\n",
    "    def top(self) -> int:\n",
    "        return self.stack[-1]\n",
    "\n",
    "    def getMin(self) -> int:\n",
    "        return self.minimum[-1]\n",
    "\n",
    "\n",
    "# Your MinStack object will be instantiated and called as such:\n",
    "# obj = MinStack()\n",
    "# obj.push(val)\n",
    "# obj.pop()\n",
    "# param_3 = obj.top()\n",
    "# param_4 = obj.getMin()"
   ]
  },
  {
   "cell_type": "code",
   "execution_count": null,
   "id": "07070e3a-121b-4206-99f1-0a99d9619726",
   "metadata": {},
   "outputs": [],
   "source": []
  }
 ],
 "metadata": {
  "kernelspec": {
   "display_name": "Python 3 (ipykernel)",
   "language": "python",
   "name": "python3"
  },
  "language_info": {
   "codemirror_mode": {
    "name": "ipython",
    "version": 3
   },
   "file_extension": ".py",
   "mimetype": "text/x-python",
   "name": "python",
   "nbconvert_exporter": "python",
   "pygments_lexer": "ipython3",
   "version": "3.10.9"
  }
 },
 "nbformat": 4,
 "nbformat_minor": 5
}
