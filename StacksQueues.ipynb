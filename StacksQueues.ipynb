{
 "cells": [
  {
   "cell_type": "markdown",
   "id": "d8d45970-b6e5-4aca-9b7c-ca8209d319a0",
   "metadata": {},
   "source": [
    "# 20 Valid Parentheses\n",
    "Given a string s containing just the characters '(', ')', '{', '}', '[' and ']', determine if the input string is valid.\n",
    "\n",
    "An input string is valid if:\n",
    "\n",
    "    Open brackets must be closed by the same type of brackets.\n",
    "    Open brackets must be closed in the correct order.\n",
    "    Every close bracket has a corresponding open bracket of the same type.\n",
    "\n",
    " \n",
    "\n",
    "Example 1:\n",
    "\n",
    "Input: s = \"()\"\n",
    "Output: true\n",
    "\n",
    "Example 2:\n",
    "\n",
    "Input: s = \"()[]{}\"\n",
    "Output: true\n",
    "\n",
    "Example 3:\n",
    "\n",
    "Input: s = \"(]\"\n",
    "Output: false\n",
    "\n",
    " \n",
    "\n",
    "Constraints:\n",
    "\n",
    "    1 <= s.length <= 104\n",
    "    s consists of parentheses only '()[]{}'.\n",
    "\n"
   ]
  },
  {
   "cell_type": "code",
   "execution_count": 1,
   "id": "31f4fb8a-fb66-4325-aa1a-76fa02970869",
   "metadata": {},
   "outputs": [],
   "source": [
    "class Solution:\n",
    "    def isValid(self, s: str) -> bool:\n",
    "        bracket_map = {'(':')', '{': '}', '[':']'}\n",
    "        stack = []\n",
    "\n",
    "        for c in s:\n",
    "            if c in bracket_map:\n",
    "                stack.append(c)\n",
    "            else:\n",
    "                if not stack:\n",
    "                    return False\n",
    "                open_bracket = stack.pop()\n",
    "                if bracket_map[open_bracket] != c:\n",
    "                    return False\n",
    "        \n",
    "        return not stack\n"
   ]
  },
  {
   "cell_type": "code",
   "execution_count": 2,
   "id": "470afc29-c559-4f85-b2b4-9e5f1bc26136",
   "metadata": {},
   "outputs": [
    {
     "data": {
      "text/plain": [
       "True"
      ]
     },
     "execution_count": 2,
     "metadata": {},
     "output_type": "execute_result"
    }
   ],
   "source": [
    "s = \"()\"\n",
    "Solution().isValid(s)"
   ]
  },
  {
   "cell_type": "code",
   "execution_count": 3,
   "id": "5eeca65d-d41e-4d72-9dfa-028a8fadbce1",
   "metadata": {},
   "outputs": [
    {
     "data": {
      "text/plain": [
       "True"
      ]
     },
     "execution_count": 3,
     "metadata": {},
     "output_type": "execute_result"
    }
   ],
   "source": [
    "s = \"()[]{}\"\n",
    "Solution().isValid(s)"
   ]
  },
  {
   "cell_type": "code",
   "execution_count": 4,
   "id": "952f919c-62a0-4a47-b003-dc17a9f097bf",
   "metadata": {},
   "outputs": [
    {
     "data": {
      "text/plain": [
       "False"
      ]
     },
     "execution_count": 4,
     "metadata": {},
     "output_type": "execute_result"
    }
   ],
   "source": [
    "s = \"(]\"\n",
    "Solution().isValid(s)"
   ]
  },
  {
   "cell_type": "markdown",
   "id": "3070a8ae-584c-4c58-8631-3580545474e9",
   "metadata": {},
   "source": [
    "# 1047 Remove All Adjacent Duplicates in a String\n",
    "You are given a string s consisting of lowercase English letters. A duplicate removal consists of choosing two adjacent and equal letters and removing them.\n",
    "\n",
    "We repeatedly make duplicate removals on s until we no longer can.\n",
    "\n",
    "Return the final string after all such duplicate removals have been made. It can be proven that the answer is unique.\n",
    "\n",
    " \n",
    "\n",
    "Example 1:\n",
    "\n",
    "Input: s = \"abbaca\"\n",
    "Output: \"ca\"\n",
    "Explanation: \n",
    "For example, in \"abbaca\" we could remove \"bb\" since the letters are adjacent and equal, and this is the only possible move.  The result of this move is that the string is \"aaca\", of which only \"aa\" is possible, so the final string is \"ca\".\n",
    "\n",
    "Example 2:\n",
    "\n",
    "Input: s = \"azxxzy\"\n",
    "Output: \"ay\"\n",
    "\n",
    " \n",
    "\n",
    "Constraints:\n",
    "\n",
    "    1 <= s.length <= 105\n",
    "    s consists of lowercase English letters.\n",
    "\n"
   ]
  },
  {
   "cell_type": "code",
   "execution_count": 5,
   "id": "38794e16-32d6-425a-a8a5-35e2853b529b",
   "metadata": {},
   "outputs": [],
   "source": [
    "class Solution:\n",
    "    def removeDuplicates(self, s: str) -> str:\n",
    "        stack = []\n",
    "\n",
    "        for c in s:\n",
    "            if stack and stack[-1] == c:\n",
    "                stack.pop()\n",
    "            else:\n",
    "                stack.append(c)\n",
    "        \n",
    "        return \"\".join(stack)\n"
   ]
  },
  {
   "cell_type": "code",
   "execution_count": 6,
   "id": "af6e8b12-8b1a-4e47-a84c-179d1b35f8df",
   "metadata": {},
   "outputs": [
    {
     "data": {
      "text/plain": [
       "'ca'"
      ]
     },
     "execution_count": 6,
     "metadata": {},
     "output_type": "execute_result"
    }
   ],
   "source": [
    "s = \"abbaca\"\n",
    "Solution().removeDuplicates(s)"
   ]
  },
  {
   "cell_type": "code",
   "execution_count": 7,
   "id": "45f85444-6588-445d-ba9d-36472ea4b432",
   "metadata": {},
   "outputs": [
    {
     "data": {
      "text/plain": [
       "'ay'"
      ]
     },
     "execution_count": 7,
     "metadata": {},
     "output_type": "execute_result"
    }
   ],
   "source": [
    "s = \"azxxzy\"\n",
    "Solution().removeDuplicates(s)"
   ]
  },
  {
   "cell_type": "markdown",
   "id": "091aa552-26f9-4411-9755-030a8d40346b",
   "metadata": {},
   "source": [
    "# 844 Backspace String Compare\n",
    "Given two strings s and t, return true if they are equal when both are typed into empty text editors. '#' means a backspace character.\n",
    "\n",
    "Note that after backspacing an empty text, the text will continue empty.\n",
    "\n",
    " \n",
    "\n",
    "Example 1:\n",
    "\n",
    "Input: s = \"ab#c\", t = \"ad#c\"\n",
    "Output: true\n",
    "Explanation: Both s and t become \"ac\".\n",
    "\n",
    "Example 2:\n",
    "\n",
    "Input: s = \"ab##\", t = \"c#d#\"\n",
    "Output: true\n",
    "Explanation: Both s and t become \"\".\n",
    "\n",
    "Example 3:\n",
    "\n",
    "Input: s = \"a#c\", t = \"b\"\n",
    "Output: false\n",
    "Explanation: s becomes \"c\" while t becomes \"b\".\n",
    "\n",
    " \n",
    "\n",
    "Constraints:\n",
    "\n",
    "    1 <= s.length, t.length <= 200\n",
    "    s and t only contain lowercase letters and '#' characters.\n"
   ]
  },
  {
   "cell_type": "code",
   "execution_count": 9,
   "id": "88a3cfb6-72c5-420f-a193-f739597f6b69",
   "metadata": {},
   "outputs": [],
   "source": [
    "class Solution:\n",
    "    def backspaceCompare(self, s: str, t: str) -> bool:\n",
    "        def build_string(s: str) -> str:\n",
    "            stack = []\n",
    "            for c in s:\n",
    "                if c != \"#\":\n",
    "                    stack.append(c)\n",
    "                elif stack:\n",
    "                    stack.pop()\n",
    "            return \"\".join(stack)\n",
    "\n",
    "        return build_string(s) == build_string(t)"
   ]
  },
  {
   "cell_type": "code",
   "execution_count": 10,
   "id": "7e2452d5-76c9-4000-a2e1-306c570bc88e",
   "metadata": {},
   "outputs": [
    {
     "data": {
      "text/plain": [
       "True"
      ]
     },
     "execution_count": 10,
     "metadata": {},
     "output_type": "execute_result"
    }
   ],
   "source": [
    "s = \"ab#c\"\n",
    "t = \"ad#c\"\n",
    "Solution().backspaceCompare(s, t)"
   ]
  },
  {
   "cell_type": "code",
   "execution_count": 11,
   "id": "9bb1165b-3461-46a9-a2fd-359d9b101486",
   "metadata": {},
   "outputs": [
    {
     "data": {
      "text/plain": [
       "True"
      ]
     },
     "execution_count": 11,
     "metadata": {},
     "output_type": "execute_result"
    }
   ],
   "source": [
    "s = \"ab##\"\n",
    "t = \"c#d#\"\n",
    "Solution().backspaceCompare(s, t)"
   ]
  },
  {
   "cell_type": "code",
   "execution_count": 12,
   "id": "246155b6-3dd1-4b25-8fed-e835cb8ae9ca",
   "metadata": {},
   "outputs": [
    {
     "data": {
      "text/plain": [
       "False"
      ]
     },
     "execution_count": 12,
     "metadata": {},
     "output_type": "execute_result"
    }
   ],
   "source": [
    "s = \"a#c\"\n",
    "t = \"b\"\n",
    "Solution().backspaceCompare(s, t)"
   ]
  },
  {
   "cell_type": "markdown",
   "id": "94c742b7-6385-4995-920b-8509e1445415",
   "metadata": {},
   "source": [
    "# 1544 Make the String Great\n",
    "Given a string s of lower and upper case English letters.\n",
    "\n",
    "A good string is a string which doesn't have two adjacent characters s[i] and s[i + 1] where:\n",
    "\n",
    "    0 <= i <= s.length - 2\n",
    "    s[i] is a lower-case letter and s[i + 1] is the same letter but in upper-case or vice-versa.\n",
    "\n",
    "To make the string good, you can choose two adjacent characters that make the string bad and remove them. You can keep doing this until the string becomes good.\n",
    "\n",
    "Return the string after making it good. The answer is guaranteed to be unique under the given constraints.\n",
    "\n",
    "Notice that an empty string is also good.\n",
    "\n",
    " \n",
    "\n",
    "Example 1:\n",
    "\n",
    "Input: s = \"leEeetcode\"\n",
    "Output: \"leetcode\"\n",
    "Explanation: In the first step, either you choose i = 1 or i = 2, both will result \"leEeetcode\" to be reduced to \"leetcode\".\n",
    "\n",
    "Example 2:\n",
    "\n",
    "Input: s = \"abBAcC\"\n",
    "Output: \"\"\n",
    "Explanation: We have many possible scenarios, and all lead to the same answer. For example:\n",
    "\"abBAcC\" --> \"aAcC\" --> \"cC\" --> \"\"\n",
    "\"abBAcC\" --> \"abBA\" --> \"aA\" --> \"\"\n",
    "\n",
    "Example 3:\n",
    "\n",
    "Input: s = \"s\"\n",
    "Output: \"s\"\n",
    "\n",
    " \n",
    "\n",
    "Constraints:\n",
    "\n",
    "    1 <= s.length <= 100\n",
    "    s contains only lower and upper case English letters.\n",
    "\n"
   ]
  },
  {
   "cell_type": "code",
   "execution_count": 13,
   "id": "e269bcbf-646f-438c-aa66-93467fe28711",
   "metadata": {},
   "outputs": [],
   "source": [
    "class Solution:\n",
    "    def makeGood(self, s: str) -> str:\n",
    "        stack = []\n",
    "        for c in s:\n",
    "            if stack and c.islower() and stack[-1].isupper() and c == stack[-1].lower():\n",
    "                stack.pop()\n",
    "            elif stack and c.isupper() and stack[-1].islower() and c == stack[-1].upper():\n",
    "                stack.pop()\n",
    "            else:\n",
    "                stack.append(c)\n",
    "        return \"\".join(stack)"
   ]
  },
  {
   "cell_type": "code",
   "execution_count": 14,
   "id": "160b9c2d-1819-430f-8a17-c13ee7c74fbf",
   "metadata": {},
   "outputs": [
    {
     "data": {
      "text/plain": [
       "'leetcode'"
      ]
     },
     "execution_count": 14,
     "metadata": {},
     "output_type": "execute_result"
    }
   ],
   "source": [
    "s = \"leEeetcode\"\n",
    "Solution().makeGood(s)"
   ]
  },
  {
   "cell_type": "code",
   "execution_count": 15,
   "id": "88accd37-cb04-4d15-aab2-b12f160f4522",
   "metadata": {},
   "outputs": [
    {
     "data": {
      "text/plain": [
       "''"
      ]
     },
     "execution_count": 15,
     "metadata": {},
     "output_type": "execute_result"
    }
   ],
   "source": [
    "s = \"abBAcC\"\n",
    "Solution().makeGood(s)"
   ]
  },
  {
   "cell_type": "code",
   "execution_count": 16,
   "id": "c8b36009-63fd-4e7e-a370-070cbd775076",
   "metadata": {},
   "outputs": [
    {
     "data": {
      "text/plain": [
       "'s'"
      ]
     },
     "execution_count": 16,
     "metadata": {},
     "output_type": "execute_result"
    }
   ],
   "source": [
    "s = \"s\"\n",
    "Solution().makeGood(s)"
   ]
  },
  {
   "cell_type": "markdown",
   "id": "6eff86d6-49a8-43db-ab24-c3bdf36aa409",
   "metadata": {},
   "source": [
    "# 346 Moving Average in a Queue\n",
    "Given a stream of integers and a window size, calculate the moving average of all integers in the sliding window.\n",
    "\n",
    "Implement the MovingAverage class:\n",
    "\n",
    "    MovingAverage(int size) Initializes the object with the size of the window size.\n",
    "    double next(int val) Returns the moving average of the last size values of the stream.\n",
    "\n",
    " \n",
    "\n",
    "Example 1:\n",
    "\n",
    "Input\n",
    "[\"MovingAverage\", \"next\", \"next\", \"next\", \"next\"]\n",
    "[[3], [1], [10], [3], [5]]\n",
    "Output\n",
    "[null, 1.0, 5.5, 4.66667, 6.0]\n",
    "\n",
    "Explanation\n",
    "MovingAverage movingAverage = new MovingAverage(3);\n",
    "movingAverage.next(1); // return 1.0 = 1 / 1\n",
    "movingAverage.next(10); // return 5.5 = (1 + 10) / 2\n",
    "movingAverage.next(3); // return 4.66667 = (1 + 10 + 3) / 3\n",
    "movingAverage.next(5); // return 6.0 = (10 + 3 + 5) / 3\n",
    "\n",
    " \n",
    "\n",
    "Constraints:\n",
    "\n",
    "    1 <= size <= 1000\n",
    "    -105 <= val <= 105\n",
    "    At most 104 calls will be made to next.\n",
    "\n"
   ]
  },
  {
   "cell_type": "code",
   "execution_count": 17,
   "id": "e1049a0a-294c-49aa-89b5-b698ebc0df52",
   "metadata": {},
   "outputs": [],
   "source": [
    "from collections import deque\n",
    "class MovingAverage:\n",
    "\n",
    "    def __init__(self, size: int):\n",
    "        self.size = size\n",
    "        self.queue = deque([])\n",
    "        self.sum = 0\n",
    "\n",
    "    def next(self, val: int) -> float:\n",
    "        self.queue.append(val)\n",
    "        self.sum += val\n",
    "        while len(self.queue) > self.size:\n",
    "            temp = self.queue.popleft()\n",
    "            self.sum -= temp\n",
    "        return self.sum / len(self.queue)\n",
    "\n",
    "\n",
    "# Your MovingAverage object will be instantiated and called as such:\n",
    "# obj = MovingAverage(size)\n",
    "# param_1 = obj.next(val)"
   ]
  },
  {
   "cell_type": "markdown",
   "id": "4671f2b1-040b-4009-a2b2-880dabd092fd",
   "metadata": {},
   "source": [
    "# 739 Daily Temperatures\n",
    "Given an array of integers temperatures represents the daily temperatures, return an array answer such that answer[i] is the number of days you have to wait after the ith day to get a warmer temperature. If there is no future day for which this is possible, keep answer[i] == 0 instead.\n",
    "\n",
    " \n",
    "\n",
    "Example 1:\n",
    "\n",
    "Input: temperatures = [73,74,75,71,69,72,76,73]\n",
    "Output: [1,1,4,2,1,1,0,0]\n",
    "\n",
    "Example 2:\n",
    "\n",
    "Input: temperatures = [30,40,50,60]\n",
    "Output: [1,1,1,0]\n",
    "\n",
    "Example 3:\n",
    "\n",
    "Input: temperatures = [30,60,90]\n",
    "Output: [1,1,0]\n",
    "\n",
    " \n",
    "\n",
    "Constraints:\n",
    "\n",
    "    1 <= temperatures.length <= 105\n",
    "    30 <= temperatures[i] <= 100\n",
    "\n"
   ]
  },
  {
   "cell_type": "code",
   "execution_count": 19,
   "id": "7b43902f-cdd2-45fc-a8ee-31655317445e",
   "metadata": {},
   "outputs": [],
   "source": [
    "# using monotonically decreasing stack\n",
    "class Solution:\n",
    "    def dailyTemperatures(self, temperatures: list[int]) -> list[int]:\n",
    "        stack = []\n",
    "        answer = [0 for _ in range(len(temperatures))]\n",
    "\n",
    "        for i in range(len(temperatures)):\n",
    "            while stack and temperatures[i] > temperatures[stack[-1]]:\n",
    "                index = stack.pop()\n",
    "                answer[index] = i - index\n",
    "            stack.append(i)\n",
    "        \n",
    "        return answer "
   ]
  },
  {
   "cell_type": "code",
   "execution_count": 20,
   "id": "16756ce9-d9e0-4478-a0b8-5f30ac3537be",
   "metadata": {},
   "outputs": [
    {
     "data": {
      "text/plain": [
       "[1, 1, 4, 2, 1, 1, 0, 0]"
      ]
     },
     "execution_count": 20,
     "metadata": {},
     "output_type": "execute_result"
    }
   ],
   "source": [
    "temperatures = [73,74,75,71,69,72,76,73]\n",
    "Solution().dailyTemperatures(temperatures)"
   ]
  },
  {
   "cell_type": "code",
   "execution_count": 21,
   "id": "bd9613e2-00bf-40a9-ae51-d2cf5d6a9ad9",
   "metadata": {},
   "outputs": [
    {
     "data": {
      "text/plain": [
       "[1, 1, 1, 0]"
      ]
     },
     "execution_count": 21,
     "metadata": {},
     "output_type": "execute_result"
    }
   ],
   "source": [
    "temperatures = [30,40,50,60] \n",
    "Solution().dailyTemperatures(temperatures)"
   ]
  },
  {
   "cell_type": "code",
   "execution_count": 22,
   "id": "c848b3ef-cc97-4284-a351-00f2d1858ca6",
   "metadata": {},
   "outputs": [
    {
     "data": {
      "text/plain": [
       "[1, 1, 0]"
      ]
     },
     "execution_count": 22,
     "metadata": {},
     "output_type": "execute_result"
    }
   ],
   "source": [
    "temperatures = [30,60,90]\n",
    "Solution().dailyTemperatures(temperatures)"
   ]
  },
  {
   "cell_type": "markdown",
   "id": "2c95b0c8-3c3d-4f95-94c8-a204f2ea012e",
   "metadata": {},
   "source": [
    "# 239 Sliding Window Maximum\n",
    "You are given an array of integers nums, there is a sliding window of size k which is moving from the very left of the array to the very right. You can only see the k numbers in the window. Each time the sliding window moves right by one position.\n",
    "\n",
    "Return the max sliding window.\n",
    "\n",
    " \n",
    "\n",
    "Example 1:\n",
    "\n",
    "Input: nums = [1,3,-1,-3,5,3,6,7], k = 3\n",
    "Output: [3,3,5,5,6,7]\n",
    "Explanation: \n",
    "Window position                Max\n",
    "---------------               -----\n",
    "[1  3  -1] -3  5  3  6  7       3\n",
    " 1 [3  -1  -3] 5  3  6  7       3\n",
    " 1  3 [-1  -3  5] 3  6  7       5\n",
    " 1  3  -1 [-3  5  3] 6  7       5\n",
    " 1  3  -1  -3 [5  3  6] 7       6\n",
    " 1  3  -1  -3  5 [3  6  7]      7\n",
    "\n",
    "Example 2:\n",
    "\n",
    "Input: nums = [1], k = 1\n",
    "Output: [1]\n",
    "\n",
    " \n",
    "\n",
    "Constraints:\n",
    "\n",
    "    1 <= nums.length <= 105\n",
    "    -104 <= nums[i] <= 104\n",
    "    1 <= k <= nums.length\n",
    "\n"
   ]
  },
  {
   "cell_type": "code",
   "execution_count": 24,
   "id": "57198555-738d-43e2-a587-50510aa4b9ef",
   "metadata": {},
   "outputs": [],
   "source": [
    "from collections import deque\n",
    "\n",
    "class Solution:\n",
    "    def maxSlidingWindow(self, nums: list[int], k: int) ->list[int]:\n",
    "        ans = []\n",
    "        queue = deque()\n",
    "        for i in range(len(nums)):\n",
    "            # maintain monotonic decreasing.\n",
    "            # all elements in the deque smaller than the current one\n",
    "            # have no chance of being the maximum, so get rid of them\n",
    "            while queue and nums[i] > nums[queue[-1]]:\n",
    "                queue.pop()\n",
    "\n",
    "            queue.append(i)\n",
    "\n",
    "            # queue[0] is the index of the maximum element.\n",
    "            # if queue[0] + k == i, then it is outside the window\n",
    "            if queue[0] + k == i:\n",
    "                queue.popleft()\n",
    "            \n",
    "            # only add to the answer once our window has reached size k\n",
    "            if i >= k - 1:\n",
    "                ans.append(nums[queue[0]])\n",
    "\n",
    "        return ans"
   ]
  },
  {
   "cell_type": "code",
   "execution_count": null,
   "id": "3049f6ba-88f8-46d3-8498-3d5f7ddbd49e",
   "metadata": {},
   "outputs": [],
   "source": []
  }
 ],
 "metadata": {
  "kernelspec": {
   "display_name": "Python 3 (ipykernel)",
   "language": "python",
   "name": "python3"
  },
  "language_info": {
   "codemirror_mode": {
    "name": "ipython",
    "version": 3
   },
   "file_extension": ".py",
   "mimetype": "text/x-python",
   "name": "python",
   "nbconvert_exporter": "python",
   "pygments_lexer": "ipython3",
   "version": "3.10.9"
  }
 },
 "nbformat": 4,
 "nbformat_minor": 5
}
